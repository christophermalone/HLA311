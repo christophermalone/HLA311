{
  "nbformat": 4,
  "nbformat_minor": 0,
  "metadata": {
    "colab": {
      "name": "Module2_Part3A_Advanced.ipynb",
      "provenance": [],
      "collapsed_sections": [],
      "authorship_tag": "ABX9TyNCnt+PwrPrtGb27h5TjjQ7",
      "include_colab_link": true
    },
    "kernelspec": {
      "name": "python3",
      "display_name": "Python 3"
    }
  },
  "cells": [
    {
      "cell_type": "markdown",
      "metadata": {
        "id": "view-in-github",
        "colab_type": "text"
      },
      "source": [
        "<a href=\"https://colab.research.google.com/github/christophermalone/HLA311/blob/main/Module2_Part3A_Advanced.ipynb\" target=\"_parent\"><img src=\"https://colab.research.google.com/assets/colab-badge.svg\" alt=\"Open In Colab\"/></a>"
      ]
    },
    {
      "cell_type": "markdown",
      "metadata": {
        "id": "zQXd5cZ9SMmv"
      },
      "source": [
        "# Module 2 | Part 3A: Summary (Top 10 List) - Advanced Level "
      ]
    },
    {
      "cell_type": "markdown",
      "metadata": {
        "id": "F5v4zW5-EvjX"
      },
      "source": [
        "This purpose of this iPython Notebook is to communicate the process by which a data scientist would obtain a Top 10 List using Python."
      ]
    },
    {
      "cell_type": "markdown",
      "metadata": {
        "id": "cHFbYOB8JK4u"
      },
      "source": [
        "<table width='100%' ><tr><td bgcolor='green'></td></tr></table>\n",
        "\n",
        "## Example #1 - Uninsured Rates for various Demographic Categories\n",
        "\n",
        "For this example, we will consider the Small Area Health Insurance Estimates (SAHIE) data from the United States Census Bureau.  This data provides counts for the number of people with and without health insurance across a variety of categories (age/race/sex/income).  This data is provided at the county level.\n",
        "\n",
        "Source: https://www.census.gov/data/datasets/time-series/demo/sahie/estimates-acs.html \n",
        "\n",
        "\n",
        "Google Folder: <a href=\"https://drive.google.com/drive/folders/1ba54w0Q3TCCYN37h3aFQrSwVTwXwWoPh?usp=sharing\" target=\"_blank\">Link to Data</a>\n",
        "\n",
        "The following fields are included in this data table:\n",
        "*   State_Name: state name\n",
        "*   State_Abbreviation: abbreviation for state\n",
        "*   County_Name: name of county\n",
        "*   CountyName_State: Combination of County_Name field and State_Abbreviation\n",
        "*   MedicareExpansion_Adopted_StateLevel: Had state adopted medicare expansion on year data was collected\n",
        "*   agecat: category of age (see data dictionary)\n",
        "*   racecat: category of race (see data dictionary)\n",
        "*   sexcat: category of sex (see data dictionary)\n",
        "*   iprcat: category of income (see data dictionary)\n",
        "*   NumberinGroup: Number of people in this demographic group\n",
        "*   Uninsured: Number of people uninsured in this demographic group\n",
        "*   Insured: Number of people insured in this demographic group\n",
        "*   PercentUninsured: Percent of people uninsured in this demographic group\n",
        "\n",
        "\n",
        "<table width='100%' ><tr><td bgcolor='green'></td></tr></table>"
      ]
    },
    {
      "cell_type": "markdown",
      "metadata": {
        "id": "6wT7Cha0oxa0"
      },
      "source": [
        "\n",
        "<strong>Goal</strong>: Obtain a \"Top 10 List\" for the <i>worst</i> counties in Minnesota regarding the percentage of children without health insurance. \n",
        "\n",
        "\n",
        "The following data processing steps are necessary to obtain this Top 10 List.\n",
        "*   <strong>Step #0</strong>: Load the data into Python\n",
        "*   <strong>Step #1</strong>: Get only counties from MN\n",
        "*   <strong>Step #2</strong>: Exclude any state level information\n",
        "*   <strong>Step #3</strong>: Get only records that meet the following criteria</li>\n",
        "<ul>\n",
        "  <li>agecat = 4 (4 indicates children -- i.e. under the age of 19)</li>\n",
        "  <li>racecat = 0 (0 indicates All races)</li>\n",
        "  <li>sexcat = 0 (0 indicates All sexes)</li>\n",
        "  <li>iprcat = 0 (0 indicates All incomes)</li>\n",
        "</ul>\n",
        "*   <strong>Step #4</strong>: Apply <strong>ARRANGE</strong> data action to sort\n",
        "*   <strong>Step #5</strong>: Retain only the top 10 records and the desired fields\n"
      ]
    },
    {
      "cell_type": "markdown",
      "metadata": {
        "id": "8_8JrHrvKGt4"
      },
      "source": [
        "### Step 0: Load the data in Python"
      ]
    },
    {
      "cell_type": "markdown",
      "metadata": {
        "id": "Y3MAE5syvg57"
      },
      "source": [
        ""
      ]
    },
    {
      "cell_type": "code",
      "metadata": {
        "id": "zn5kVKnQ0yHo"
      },
      "source": [
        "#Load the pandas package\n",
        "import pandas as pd"
      ],
      "execution_count": 2,
      "outputs": []
    },
    {
      "cell_type": "code",
      "metadata": {
        "id": "WInti-vo02W4"
      },
      "source": [
        "#Use read_table to read in the tab delimited file into Python\n",
        "SAHIE = pd.read_csv('http://www.statsclass.org/online/hla311/datasets/SAHIE.csv') "
      ],
      "execution_count": 3,
      "outputs": []
    },
    {
      "cell_type": "code",
      "metadata": {
        "colab": {
          "base_uri": "https://localhost:8080/"
        },
        "id": "fNJXKkiM7zp7",
        "outputId": "d3c719f4-25d7-4af7-fe03-8915ac39c6f7"
      },
      "source": [
        "#How many records and field\n",
        "SAHIE.shape"
      ],
      "execution_count": 4,
      "outputs": [
        {
          "output_type": "execute_result",
          "data": {
            "text/plain": [
              "(119538, 13)"
            ]
          },
          "metadata": {
            "tags": []
          },
          "execution_count": 4
        }
      ]
    },
    {
      "cell_type": "code",
      "metadata": {
        "id": "BTSbvhln1Xmq",
        "colab": {
          "base_uri": "https://localhost:8080/",
          "height": 223
        },
        "outputId": "1be5efff-9aab-4c8f-ef27-64b65dbd3fe2"
      },
      "source": [
        "#Look at first few rows of the data\n",
        "SAHIE.head(n=5)"
      ],
      "execution_count": 5,
      "outputs": [
        {
          "output_type": "execute_result",
          "data": {
            "text/html": [
              "<div>\n",
              "<style scoped>\n",
              "    .dataframe tbody tr th:only-of-type {\n",
              "        vertical-align: middle;\n",
              "    }\n",
              "\n",
              "    .dataframe tbody tr th {\n",
              "        vertical-align: top;\n",
              "    }\n",
              "\n",
              "    .dataframe thead th {\n",
              "        text-align: right;\n",
              "    }\n",
              "</style>\n",
              "<table border=\"1\" class=\"dataframe\">\n",
              "  <thead>\n",
              "    <tr style=\"text-align: right;\">\n",
              "      <th></th>\n",
              "      <th>State_Name</th>\n",
              "      <th>State_Abbreviation</th>\n",
              "      <th>County_Name</th>\n",
              "      <th>CountyName_State</th>\n",
              "      <th>MedicareExpansion_Adopted_StateLevel</th>\n",
              "      <th>agecat</th>\n",
              "      <th>racecat</th>\n",
              "      <th>sexcat</th>\n",
              "      <th>iprcat</th>\n",
              "      <th>NumberInGroup</th>\n",
              "      <th>Uninsured</th>\n",
              "      <th>Insured</th>\n",
              "      <th>PercentUninsured</th>\n",
              "    </tr>\n",
              "  </thead>\n",
              "  <tbody>\n",
              "    <tr>\n",
              "      <th>0</th>\n",
              "      <td>Alabama</td>\n",
              "      <td>AL</td>\n",
              "      <td>NaN</td>\n",
              "      <td>NaN</td>\n",
              "      <td>No</td>\n",
              "      <td>0</td>\n",
              "      <td>0</td>\n",
              "      <td>0</td>\n",
              "      <td>0</td>\n",
              "      <td>3955117.0</td>\n",
              "      <td>470052.0</td>\n",
              "      <td>3485065.0</td>\n",
              "      <td>11.9</td>\n",
              "    </tr>\n",
              "    <tr>\n",
              "      <th>1</th>\n",
              "      <td>Alabama</td>\n",
              "      <td>AL</td>\n",
              "      <td>NaN</td>\n",
              "      <td>NaN</td>\n",
              "      <td>No</td>\n",
              "      <td>0</td>\n",
              "      <td>0</td>\n",
              "      <td>0</td>\n",
              "      <td>1</td>\n",
              "      <td>1460808.0</td>\n",
              "      <td>286457.0</td>\n",
              "      <td>1174351.0</td>\n",
              "      <td>19.6</td>\n",
              "    </tr>\n",
              "    <tr>\n",
              "      <th>2</th>\n",
              "      <td>Alabama</td>\n",
              "      <td>AL</td>\n",
              "      <td>NaN</td>\n",
              "      <td>NaN</td>\n",
              "      <td>No</td>\n",
              "      <td>0</td>\n",
              "      <td>0</td>\n",
              "      <td>0</td>\n",
              "      <td>2</td>\n",
              "      <td>1805111.0</td>\n",
              "      <td>334174.0</td>\n",
              "      <td>1470937.0</td>\n",
              "      <td>18.5</td>\n",
              "    </tr>\n",
              "    <tr>\n",
              "      <th>3</th>\n",
              "      <td>Alabama</td>\n",
              "      <td>AL</td>\n",
              "      <td>NaN</td>\n",
              "      <td>NaN</td>\n",
              "      <td>No</td>\n",
              "      <td>0</td>\n",
              "      <td>0</td>\n",
              "      <td>0</td>\n",
              "      <td>3</td>\n",
              "      <td>989540.0</td>\n",
              "      <td>203801.0</td>\n",
              "      <td>785739.0</td>\n",
              "      <td>20.6</td>\n",
              "    </tr>\n",
              "    <tr>\n",
              "      <th>4</th>\n",
              "      <td>Alabama</td>\n",
              "      <td>AL</td>\n",
              "      <td>NaN</td>\n",
              "      <td>NaN</td>\n",
              "      <td>No</td>\n",
              "      <td>0</td>\n",
              "      <td>0</td>\n",
              "      <td>0</td>\n",
              "      <td>4</td>\n",
              "      <td>2679733.0</td>\n",
              "      <td>415673.0</td>\n",
              "      <td>2264060.0</td>\n",
              "      <td>15.5</td>\n",
              "    </tr>\n",
              "  </tbody>\n",
              "</table>\n",
              "</div>"
            ],
            "text/plain": [
              "  State_Name State_Abbreviation  ...    Insured PercentUninsured\n",
              "0    Alabama                 AL  ...  3485065.0             11.9\n",
              "1    Alabama                 AL  ...  1174351.0             19.6\n",
              "2    Alabama                 AL  ...  1470937.0             18.5\n",
              "3    Alabama                 AL  ...   785739.0             20.6\n",
              "4    Alabama                 AL  ...  2264060.0             15.5\n",
              "\n",
              "[5 rows x 13 columns]"
            ]
          },
          "metadata": {
            "tags": []
          },
          "execution_count": 5
        }
      ]
    },
    {
      "cell_type": "markdown",
      "metadata": {
        "id": "CsJizOnM64xO"
      },
      "source": [
        "Next, install the dfply package that can be used to invoke various data verbs in Python"
      ]
    },
    {
      "cell_type": "code",
      "metadata": {
        "id": "PUp6UuNH2EHw",
        "colab": {
          "base_uri": "https://localhost:8080/"
        },
        "outputId": "b181649d-bddd-4d0b-d25f-4a50093ad7b6"
      },
      "source": [
        "pip install dfply"
      ],
      "execution_count": 6,
      "outputs": [
        {
          "output_type": "stream",
          "text": [
            "Collecting dfply\n",
            "\u001b[?25l  Downloading https://files.pythonhosted.org/packages/53/91/18ab48c64661252dadff685f8ddbc6f456302923918f488714ee2345d49b/dfply-0.3.3-py3-none-any.whl (612kB)\n",
            "\u001b[K     |████████████████████████████████| 614kB 3.9MB/s \n",
            "\u001b[?25hRequirement already satisfied: numpy in /usr/local/lib/python3.7/dist-packages (from dfply) (1.19.5)\n",
            "Requirement already satisfied: pandas in /usr/local/lib/python3.7/dist-packages (from dfply) (1.1.5)\n",
            "Requirement already satisfied: python-dateutil>=2.7.3 in /usr/local/lib/python3.7/dist-packages (from pandas->dfply) (2.8.1)\n",
            "Requirement already satisfied: pytz>=2017.2 in /usr/local/lib/python3.7/dist-packages (from pandas->dfply) (2018.9)\n",
            "Requirement already satisfied: six>=1.5 in /usr/local/lib/python3.7/dist-packages (from python-dateutil>=2.7.3->pandas->dfply) (1.15.0)\n",
            "Installing collected packages: dfply\n",
            "Successfully installed dfply-0.3.3\n"
          ],
          "name": "stdout"
        }
      ]
    },
    {
      "cell_type": "code",
      "metadata": {
        "id": "SA3rn_0j2NRA"
      },
      "source": [
        "#Load the dfply package\n",
        "from dfply import *"
      ],
      "execution_count": 7,
      "outputs": []
    },
    {
      "cell_type": "markdown",
      "metadata": {
        "id": "gQsNzSRI6O_l"
      },
      "source": [
        "### Step #1: Get only information for Minnesota"
      ]
    },
    {
      "cell_type": "code",
      "metadata": {
        "id": "ydkByRrH2Ea7",
        "colab": {
          "base_uri": "https://localhost:8080/",
          "height": 223
        },
        "outputId": "70e16bc4-2d60-4fcf-ad89-84fc62c5d965"
      },
      "source": [
        "##Apply a FILTER action on State_Abbreviation = MN\n",
        "OutcomeTable = (\n",
        "            SAHIE\n",
        "            >> filter_by(X.State_Abbreviation == 'MN')\n",
        "                  )\n",
        "\n",
        "#Print first 5 rows of OutcomeTable\n",
        "OutcomeTable.head(n=5)"
      ],
      "execution_count": 8,
      "outputs": [
        {
          "output_type": "execute_result",
          "data": {
            "text/html": [
              "<div>\n",
              "<style scoped>\n",
              "    .dataframe tbody tr th:only-of-type {\n",
              "        vertical-align: middle;\n",
              "    }\n",
              "\n",
              "    .dataframe tbody tr th {\n",
              "        vertical-align: top;\n",
              "    }\n",
              "\n",
              "    .dataframe thead th {\n",
              "        text-align: right;\n",
              "    }\n",
              "</style>\n",
              "<table border=\"1\" class=\"dataframe\">\n",
              "  <thead>\n",
              "    <tr style=\"text-align: right;\">\n",
              "      <th></th>\n",
              "      <th>State_Name</th>\n",
              "      <th>State_Abbreviation</th>\n",
              "      <th>County_Name</th>\n",
              "      <th>CountyName_State</th>\n",
              "      <th>MedicareExpansion_Adopted_StateLevel</th>\n",
              "      <th>agecat</th>\n",
              "      <th>racecat</th>\n",
              "      <th>sexcat</th>\n",
              "      <th>iprcat</th>\n",
              "      <th>NumberInGroup</th>\n",
              "      <th>Uninsured</th>\n",
              "      <th>Insured</th>\n",
              "      <th>PercentUninsured</th>\n",
              "    </tr>\n",
              "  </thead>\n",
              "  <tbody>\n",
              "    <tr>\n",
              "      <th>50202</th>\n",
              "      <td>Minnesota</td>\n",
              "      <td>MN</td>\n",
              "      <td>NaN</td>\n",
              "      <td>NaN</td>\n",
              "      <td>Yes</td>\n",
              "      <td>0</td>\n",
              "      <td>0</td>\n",
              "      <td>0</td>\n",
              "      <td>0</td>\n",
              "      <td>4636753.0</td>\n",
              "      <td>238150.0</td>\n",
              "      <td>4398603.0</td>\n",
              "      <td>5.1</td>\n",
              "    </tr>\n",
              "    <tr>\n",
              "      <th>50203</th>\n",
              "      <td>Minnesota</td>\n",
              "      <td>MN</td>\n",
              "      <td>NaN</td>\n",
              "      <td>NaN</td>\n",
              "      <td>Yes</td>\n",
              "      <td>0</td>\n",
              "      <td>0</td>\n",
              "      <td>0</td>\n",
              "      <td>1</td>\n",
              "      <td>1074990.0</td>\n",
              "      <td>104423.0</td>\n",
              "      <td>970567.0</td>\n",
              "      <td>9.7</td>\n",
              "    </tr>\n",
              "    <tr>\n",
              "      <th>50204</th>\n",
              "      <td>Minnesota</td>\n",
              "      <td>MN</td>\n",
              "      <td>NaN</td>\n",
              "      <td>NaN</td>\n",
              "      <td>Yes</td>\n",
              "      <td>0</td>\n",
              "      <td>0</td>\n",
              "      <td>0</td>\n",
              "      <td>2</td>\n",
              "      <td>1404951.0</td>\n",
              "      <td>132302.0</td>\n",
              "      <td>1272649.0</td>\n",
              "      <td>9.4</td>\n",
              "    </tr>\n",
              "    <tr>\n",
              "      <th>50205</th>\n",
              "      <td>Minnesota</td>\n",
              "      <td>MN</td>\n",
              "      <td>NaN</td>\n",
              "      <td>NaN</td>\n",
              "      <td>Yes</td>\n",
              "      <td>0</td>\n",
              "      <td>0</td>\n",
              "      <td>0</td>\n",
              "      <td>3</td>\n",
              "      <td>677447.0</td>\n",
              "      <td>64691.0</td>\n",
              "      <td>612756.0</td>\n",
              "      <td>9.5</td>\n",
              "    </tr>\n",
              "    <tr>\n",
              "      <th>50206</th>\n",
              "      <td>Minnesota</td>\n",
              "      <td>MN</td>\n",
              "      <td>NaN</td>\n",
              "      <td>NaN</td>\n",
              "      <td>Yes</td>\n",
              "      <td>0</td>\n",
              "      <td>0</td>\n",
              "      <td>0</td>\n",
              "      <td>4</td>\n",
              "      <td>2392688.0</td>\n",
              "      <td>188720.0</td>\n",
              "      <td>2203968.0</td>\n",
              "      <td>7.9</td>\n",
              "    </tr>\n",
              "  </tbody>\n",
              "</table>\n",
              "</div>"
            ],
            "text/plain": [
              "      State_Name State_Abbreviation  ...    Insured PercentUninsured\n",
              "50202  Minnesota                 MN  ...  4398603.0              5.1\n",
              "50203  Minnesota                 MN  ...   970567.0              9.7\n",
              "50204  Minnesota                 MN  ...  1272649.0              9.4\n",
              "50205  Minnesota                 MN  ...   612756.0              9.5\n",
              "50206  Minnesota                 MN  ...  2203968.0              7.9\n",
              "\n",
              "[5 rows x 13 columns]"
            ]
          },
          "metadata": {
            "tags": []
          },
          "execution_count": 8
        }
      ]
    },
    {
      "cell_type": "markdown",
      "metadata": {
        "id": "o4zN0YcnqnfA"
      },
      "source": [
        "### Step #2: Exclude any state level information\n"
      ]
    },
    {
      "cell_type": "code",
      "metadata": {
        "id": "b-s3XMP_qnlh",
        "colab": {
          "base_uri": "https://localhost:8080/",
          "height": 223
        },
        "outputId": "d18fe28f-358a-4381-eb73-c1c3117b113a"
      },
      "source": [
        "##Apply a FILTER action on \n",
        "#                          State_Abbreviation = MN\n",
        "#                          AND County_Name is not null\n",
        "OutcomeTable = (\n",
        "            SAHIE\n",
        "            >> filter_by(X.State_Abbreviation == 'MN')\n",
        "            >> filter_by(X.County_Name.notnull())\n",
        "          )\n",
        "\n",
        "#Print first 5 rows of OutcomeTable\n",
        "OutcomeTable.head(n=5)"
      ],
      "execution_count": 9,
      "outputs": [
        {
          "output_type": "execute_result",
          "data": {
            "text/html": [
              "<div>\n",
              "<style scoped>\n",
              "    .dataframe tbody tr th:only-of-type {\n",
              "        vertical-align: middle;\n",
              "    }\n",
              "\n",
              "    .dataframe tbody tr th {\n",
              "        vertical-align: top;\n",
              "    }\n",
              "\n",
              "    .dataframe thead th {\n",
              "        text-align: right;\n",
              "    }\n",
              "</style>\n",
              "<table border=\"1\" class=\"dataframe\">\n",
              "  <thead>\n",
              "    <tr style=\"text-align: right;\">\n",
              "      <th></th>\n",
              "      <th>State_Name</th>\n",
              "      <th>State_Abbreviation</th>\n",
              "      <th>County_Name</th>\n",
              "      <th>CountyName_State</th>\n",
              "      <th>MedicareExpansion_Adopted_StateLevel</th>\n",
              "      <th>agecat</th>\n",
              "      <th>racecat</th>\n",
              "      <th>sexcat</th>\n",
              "      <th>iprcat</th>\n",
              "      <th>NumberInGroup</th>\n",
              "      <th>Uninsured</th>\n",
              "      <th>Insured</th>\n",
              "      <th>PercentUninsured</th>\n",
              "    </tr>\n",
              "  </thead>\n",
              "  <tbody>\n",
              "    <tr>\n",
              "      <th>50328</th>\n",
              "      <td>Minnesota</td>\n",
              "      <td>MN</td>\n",
              "      <td>Aitkin County</td>\n",
              "      <td>Aitkin County, MN</td>\n",
              "      <td>Yes</td>\n",
              "      <td>0</td>\n",
              "      <td>0</td>\n",
              "      <td>0</td>\n",
              "      <td>0</td>\n",
              "      <td>10445.0</td>\n",
              "      <td>752.0</td>\n",
              "      <td>9693.0</td>\n",
              "      <td>7.2</td>\n",
              "    </tr>\n",
              "    <tr>\n",
              "      <th>50329</th>\n",
              "      <td>Minnesota</td>\n",
              "      <td>MN</td>\n",
              "      <td>Aitkin County</td>\n",
              "      <td>Aitkin County, MN</td>\n",
              "      <td>Yes</td>\n",
              "      <td>0</td>\n",
              "      <td>0</td>\n",
              "      <td>0</td>\n",
              "      <td>1</td>\n",
              "      <td>3623.0</td>\n",
              "      <td>340.0</td>\n",
              "      <td>3283.0</td>\n",
              "      <td>9.4</td>\n",
              "    </tr>\n",
              "    <tr>\n",
              "      <th>50330</th>\n",
              "      <td>Minnesota</td>\n",
              "      <td>MN</td>\n",
              "      <td>Aitkin County</td>\n",
              "      <td>Aitkin County, MN</td>\n",
              "      <td>Yes</td>\n",
              "      <td>0</td>\n",
              "      <td>0</td>\n",
              "      <td>0</td>\n",
              "      <td>2</td>\n",
              "      <td>4634.0</td>\n",
              "      <td>434.0</td>\n",
              "      <td>4200.0</td>\n",
              "      <td>9.4</td>\n",
              "    </tr>\n",
              "    <tr>\n",
              "      <th>50331</th>\n",
              "      <td>Minnesota</td>\n",
              "      <td>MN</td>\n",
              "      <td>Aitkin County</td>\n",
              "      <td>Aitkin County, MN</td>\n",
              "      <td>Yes</td>\n",
              "      <td>0</td>\n",
              "      <td>0</td>\n",
              "      <td>0</td>\n",
              "      <td>3</td>\n",
              "      <td>2310.0</td>\n",
              "      <td>217.0</td>\n",
              "      <td>2093.0</td>\n",
              "      <td>9.4</td>\n",
              "    </tr>\n",
              "    <tr>\n",
              "      <th>50332</th>\n",
              "      <td>Minnesota</td>\n",
              "      <td>MN</td>\n",
              "      <td>Aitkin County</td>\n",
              "      <td>Aitkin County, MN</td>\n",
              "      <td>Yes</td>\n",
              "      <td>0</td>\n",
              "      <td>0</td>\n",
              "      <td>0</td>\n",
              "      <td>4</td>\n",
              "      <td>7158.0</td>\n",
              "      <td>613.0</td>\n",
              "      <td>6545.0</td>\n",
              "      <td>8.6</td>\n",
              "    </tr>\n",
              "  </tbody>\n",
              "</table>\n",
              "</div>"
            ],
            "text/plain": [
              "      State_Name State_Abbreviation  ... Insured PercentUninsured\n",
              "50328  Minnesota                 MN  ...  9693.0              7.2\n",
              "50329  Minnesota                 MN  ...  3283.0              9.4\n",
              "50330  Minnesota                 MN  ...  4200.0              9.4\n",
              "50331  Minnesota                 MN  ...  2093.0              9.4\n",
              "50332  Minnesota                 MN  ...  6545.0              8.6\n",
              "\n",
              "[5 rows x 13 columns]"
            ]
          },
          "metadata": {
            "tags": []
          },
          "execution_count": 9
        }
      ]
    },
    {
      "cell_type": "markdown",
      "metadata": {
        "id": "fcidufQ5v4WH"
      },
      "source": [
        "### Step #3: Apply additional FILTER actions"
      ]
    },
    {
      "cell_type": "code",
      "metadata": {
        "id": "qZYbNtAgv4c_",
        "colab": {
          "base_uri": "https://localhost:8080/",
          "height": 291
        },
        "outputId": "936706af-04f7-4359-b3af-a909e1f23959"
      },
      "source": [
        "##Apply a FILTER action on \n",
        "#                          State_Abbreviation = MN\n",
        "#                          AND County_Name is not null\n",
        "#                          AND agecat = 4 (only peopled 19 and under)\n",
        "#                          AND racecat = 0 (all races)\n",
        "#                          AND sexcat = 0 (all sexes)\n",
        "#                          AND iprcat = 0 (all income categories)\n",
        "\n",
        "OutcomeTable = (\n",
        "            SAHIE\n",
        "            >> filter_by(X.State_Abbreviation == 'MN')\n",
        "            >> filter_by(X.County_Name.notnull())\n",
        "            >> filter_by(X.agecat == 4, X.racecat == 0, X.sexcat == 0, X.iprcat == 0)\n",
        "          )\n",
        "\n",
        "#Print first 5 rows of OutcomeTable\n",
        "OutcomeTable.head(n=5)"
      ],
      "execution_count": 10,
      "outputs": [
        {
          "output_type": "execute_result",
          "data": {
            "text/html": [
              "<div>\n",
              "<style scoped>\n",
              "    .dataframe tbody tr th:only-of-type {\n",
              "        vertical-align: middle;\n",
              "    }\n",
              "\n",
              "    .dataframe tbody tr th {\n",
              "        vertical-align: top;\n",
              "    }\n",
              "\n",
              "    .dataframe thead th {\n",
              "        text-align: right;\n",
              "    }\n",
              "</style>\n",
              "<table border=\"1\" class=\"dataframe\">\n",
              "  <thead>\n",
              "    <tr style=\"text-align: right;\">\n",
              "      <th></th>\n",
              "      <th>State_Name</th>\n",
              "      <th>State_Abbreviation</th>\n",
              "      <th>County_Name</th>\n",
              "      <th>CountyName_State</th>\n",
              "      <th>MedicareExpansion_Adopted_StateLevel</th>\n",
              "      <th>agecat</th>\n",
              "      <th>racecat</th>\n",
              "      <th>sexcat</th>\n",
              "      <th>iprcat</th>\n",
              "      <th>NumberInGroup</th>\n",
              "      <th>Uninsured</th>\n",
              "      <th>Insured</th>\n",
              "      <th>PercentUninsured</th>\n",
              "    </tr>\n",
              "  </thead>\n",
              "  <tbody>\n",
              "    <tr>\n",
              "      <th>50352</th>\n",
              "      <td>Minnesota</td>\n",
              "      <td>MN</td>\n",
              "      <td>Aitkin County</td>\n",
              "      <td>Aitkin County, MN</td>\n",
              "      <td>Yes</td>\n",
              "      <td>4</td>\n",
              "      <td>0</td>\n",
              "      <td>0</td>\n",
              "      <td>0</td>\n",
              "      <td>2684.0</td>\n",
              "      <td>125.0</td>\n",
              "      <td>2559.0</td>\n",
              "      <td>4.7</td>\n",
              "    </tr>\n",
              "    <tr>\n",
              "      <th>50388</th>\n",
              "      <td>Minnesota</td>\n",
              "      <td>MN</td>\n",
              "      <td>Anoka County</td>\n",
              "      <td>Anoka County, MN</td>\n",
              "      <td>Yes</td>\n",
              "      <td>4</td>\n",
              "      <td>0</td>\n",
              "      <td>0</td>\n",
              "      <td>0</td>\n",
              "      <td>87542.0</td>\n",
              "      <td>2431.0</td>\n",
              "      <td>85111.0</td>\n",
              "      <td>2.8</td>\n",
              "    </tr>\n",
              "    <tr>\n",
              "      <th>50424</th>\n",
              "      <td>Minnesota</td>\n",
              "      <td>MN</td>\n",
              "      <td>Becker County</td>\n",
              "      <td>Becker County, MN</td>\n",
              "      <td>Yes</td>\n",
              "      <td>4</td>\n",
              "      <td>0</td>\n",
              "      <td>0</td>\n",
              "      <td>0</td>\n",
              "      <td>8576.0</td>\n",
              "      <td>403.0</td>\n",
              "      <td>8173.0</td>\n",
              "      <td>4.7</td>\n",
              "    </tr>\n",
              "    <tr>\n",
              "      <th>50460</th>\n",
              "      <td>Minnesota</td>\n",
              "      <td>MN</td>\n",
              "      <td>Beltrami County</td>\n",
              "      <td>Beltrami County, MN</td>\n",
              "      <td>Yes</td>\n",
              "      <td>4</td>\n",
              "      <td>0</td>\n",
              "      <td>0</td>\n",
              "      <td>0</td>\n",
              "      <td>11877.0</td>\n",
              "      <td>624.0</td>\n",
              "      <td>11253.0</td>\n",
              "      <td>5.3</td>\n",
              "    </tr>\n",
              "    <tr>\n",
              "      <th>50496</th>\n",
              "      <td>Minnesota</td>\n",
              "      <td>MN</td>\n",
              "      <td>Benton County</td>\n",
              "      <td>Benton County, MN</td>\n",
              "      <td>Yes</td>\n",
              "      <td>4</td>\n",
              "      <td>0</td>\n",
              "      <td>0</td>\n",
              "      <td>0</td>\n",
              "      <td>10467.0</td>\n",
              "      <td>321.0</td>\n",
              "      <td>10146.0</td>\n",
              "      <td>3.1</td>\n",
              "    </tr>\n",
              "  </tbody>\n",
              "</table>\n",
              "</div>"
            ],
            "text/plain": [
              "      State_Name State_Abbreviation  ...  Insured PercentUninsured\n",
              "50352  Minnesota                 MN  ...   2559.0              4.7\n",
              "50388  Minnesota                 MN  ...  85111.0              2.8\n",
              "50424  Minnesota                 MN  ...   8173.0              4.7\n",
              "50460  Minnesota                 MN  ...  11253.0              5.3\n",
              "50496  Minnesota                 MN  ...  10146.0              3.1\n",
              "\n",
              "[5 rows x 13 columns]"
            ]
          },
          "metadata": {
            "tags": []
          },
          "execution_count": 10
        }
      ]
    },
    {
      "cell_type": "markdown",
      "metadata": {
        "id": "HFfhRaZEwtH_"
      },
      "source": [
        "### Step #4: Apply ARRANGE action to sort by Percent Uninsured"
      ]
    },
    {
      "cell_type": "code",
      "metadata": {
        "id": "5o4PLeYCwtOt",
        "colab": {
          "base_uri": "https://localhost:8080/",
          "height": 274
        },
        "outputId": "cf382eac-4f3d-4a09-cd9f-cc8dcaede74e"
      },
      "source": [
        "##Apply an ARRANGE action to SORT by Percent Uninsured\n",
        "OutcomeTable = (\n",
        "            SAHIE\n",
        "            >> filter_by(X.State_Abbreviation == 'MN')\n",
        "            >> filter_by(X.County_Name.notnull())\n",
        "            >> filter_by(X.agecat == 4, X.racecat == 0, X.sexcat == 0, X.iprcat == 0)\n",
        "            >> reshape.arrange(X.PercentUninsured, ascending=False)\n",
        "          )\n",
        "\n",
        "#Print first 5 rows of OutcomeTable\n",
        "OutcomeTable.head(n=5)"
      ],
      "execution_count": 11,
      "outputs": [
        {
          "output_type": "execute_result",
          "data": {
            "text/html": [
              "<div>\n",
              "<style scoped>\n",
              "    .dataframe tbody tr th:only-of-type {\n",
              "        vertical-align: middle;\n",
              "    }\n",
              "\n",
              "    .dataframe tbody tr th {\n",
              "        vertical-align: top;\n",
              "    }\n",
              "\n",
              "    .dataframe thead th {\n",
              "        text-align: right;\n",
              "    }\n",
              "</style>\n",
              "<table border=\"1\" class=\"dataframe\">\n",
              "  <thead>\n",
              "    <tr style=\"text-align: right;\">\n",
              "      <th></th>\n",
              "      <th>State_Name</th>\n",
              "      <th>State_Abbreviation</th>\n",
              "      <th>County_Name</th>\n",
              "      <th>CountyName_State</th>\n",
              "      <th>MedicareExpansion_Adopted_StateLevel</th>\n",
              "      <th>agecat</th>\n",
              "      <th>racecat</th>\n",
              "      <th>sexcat</th>\n",
              "      <th>iprcat</th>\n",
              "      <th>NumberInGroup</th>\n",
              "      <th>Uninsured</th>\n",
              "      <th>Insured</th>\n",
              "      <th>PercentUninsured</th>\n",
              "    </tr>\n",
              "  </thead>\n",
              "  <tbody>\n",
              "    <tr>\n",
              "      <th>53088</th>\n",
              "      <td>Minnesota</td>\n",
              "      <td>MN</td>\n",
              "      <td>Todd County</td>\n",
              "      <td>Todd County, MN</td>\n",
              "      <td>Yes</td>\n",
              "      <td>4</td>\n",
              "      <td>0</td>\n",
              "      <td>0</td>\n",
              "      <td>0</td>\n",
              "      <td>5898.0</td>\n",
              "      <td>426.0</td>\n",
              "      <td>5472.0</td>\n",
              "      <td>7.2</td>\n",
              "    </tr>\n",
              "    <tr>\n",
              "      <th>50712</th>\n",
              "      <td>Minnesota</td>\n",
              "      <td>MN</td>\n",
              "      <td>Cass County</td>\n",
              "      <td>Cass County, MN</td>\n",
              "      <td>Yes</td>\n",
              "      <td>4</td>\n",
              "      <td>0</td>\n",
              "      <td>0</td>\n",
              "      <td>0</td>\n",
              "      <td>6320.0</td>\n",
              "      <td>450.0</td>\n",
              "      <td>5870.0</td>\n",
              "      <td>7.1</td>\n",
              "    </tr>\n",
              "    <tr>\n",
              "      <th>52224</th>\n",
              "      <td>Minnesota</td>\n",
              "      <td>MN</td>\n",
              "      <td>Nobles County</td>\n",
              "      <td>Nobles County, MN</td>\n",
              "      <td>Yes</td>\n",
              "      <td>4</td>\n",
              "      <td>0</td>\n",
              "      <td>0</td>\n",
              "      <td>0</td>\n",
              "      <td>6055.0</td>\n",
              "      <td>413.0</td>\n",
              "      <td>5642.0</td>\n",
              "      <td>6.8</td>\n",
              "    </tr>\n",
              "    <tr>\n",
              "      <th>51144</th>\n",
              "      <td>Minnesota</td>\n",
              "      <td>MN</td>\n",
              "      <td>Fillmore County</td>\n",
              "      <td>Fillmore County, MN</td>\n",
              "      <td>Yes</td>\n",
              "      <td>4</td>\n",
              "      <td>0</td>\n",
              "      <td>0</td>\n",
              "      <td>0</td>\n",
              "      <td>5310.0</td>\n",
              "      <td>336.0</td>\n",
              "      <td>4974.0</td>\n",
              "      <td>6.3</td>\n",
              "    </tr>\n",
              "    <tr>\n",
              "      <th>52440</th>\n",
              "      <td>Minnesota</td>\n",
              "      <td>MN</td>\n",
              "      <td>Pipestone County</td>\n",
              "      <td>Pipestone County, MN</td>\n",
              "      <td>Yes</td>\n",
              "      <td>4</td>\n",
              "      <td>0</td>\n",
              "      <td>0</td>\n",
              "      <td>0</td>\n",
              "      <td>2365.0</td>\n",
              "      <td>141.0</td>\n",
              "      <td>2224.0</td>\n",
              "      <td>6.0</td>\n",
              "    </tr>\n",
              "  </tbody>\n",
              "</table>\n",
              "</div>"
            ],
            "text/plain": [
              "      State_Name State_Abbreviation  ... Insured PercentUninsured\n",
              "53088  Minnesota                 MN  ...  5472.0              7.2\n",
              "50712  Minnesota                 MN  ...  5870.0              7.1\n",
              "52224  Minnesota                 MN  ...  5642.0              6.8\n",
              "51144  Minnesota                 MN  ...  4974.0              6.3\n",
              "52440  Minnesota                 MN  ...  2224.0              6.0\n",
              "\n",
              "[5 rows x 13 columns]"
            ]
          },
          "metadata": {
            "tags": []
          },
          "execution_count": 11
        }
      ]
    },
    {
      "cell_type": "markdown",
      "metadata": {
        "id": "K7TeXPrDysyL"
      },
      "source": [
        "### Step #5: Retain only the top 10 records and the desired fields for the Top 10 List"
      ]
    },
    {
      "cell_type": "code",
      "metadata": {
        "colab": {
          "base_uri": "https://localhost:8080/"
        },
        "id": "4GPLVy49ys3C",
        "outputId": "a8a451bb-50f5-46e4-deb9-e54ddc743224"
      },
      "source": [
        "# Using Pyton to obtain Top 10 List (using pandas and dfply packages)\n",
        "OutcomeTable = (\n",
        "            SAHIE\n",
        "            >> filter_by(X.State_Abbreviation == 'MN')\n",
        "            >> filter_by(X.County_Name.notnull())\n",
        "            >> filter_by(X.agecat == 4, X.racecat == 0, X.sexcat == 0, X.iprcat == 0)\n",
        "            >> reshape.arrange(X.PercentUninsured, ascending=False)\n",
        "            >> subset.head(n=10)\n",
        "            >> select(X.CountyName_State, X.PercentUninsured)\n",
        "          )\n",
        "\n",
        "#Pretty print the desired table\n",
        "print(OutcomeTable.to_string(index=False))"
      ],
      "execution_count": 12,
      "outputs": [
        {
          "output_type": "stream",
          "text": [
            "      CountyName_State  PercentUninsured\n",
            "       Todd County, MN               7.2\n",
            "       Cass County, MN               7.1\n",
            "     Nobles County, MN               6.8\n",
            "   Fillmore County, MN               6.3\n",
            "  Pipestone County, MN               6.0\n",
            " Clearwater County, MN               5.8\n",
            "   Mahnomen County, MN               5.8\n",
            "   Traverse County, MN               5.7\n",
            "   Watonwan County, MN               5.4\n",
            "   Beltrami County, MN               5.3\n"
          ],
          "name": "stdout"
        }
      ]
    },
    {
      "cell_type": "markdown",
      "metadata": {
        "id": "TrNWchPT0A1V"
      },
      "source": [
        "**Note**:  The code block for Step #5 includes the necessary code for all previous steps; thus, only the code block for Step #5 needs to be run to obtain the desired Top 10 List."
      ]
    },
    {
      "cell_type": "markdown",
      "metadata": {
        "id": "Eqh4Cs9fzi5e"
      },
      "source": [
        "\n",
        "\n",
        "---\n",
        "\n",
        "\n",
        "\n",
        "---\n",
        "\n",
        "\n",
        "\n",
        "---\n",
        "\n"
      ]
    }
  ]
}