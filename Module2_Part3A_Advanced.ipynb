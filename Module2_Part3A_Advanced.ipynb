{
  "nbformat": 4,
  "nbformat_minor": 0,
  "metadata": {
    "colab": {
      "name": "Module2_Part3A_Advanced.ipynb",
      "provenance": [],
      "collapsed_sections": [],
      "authorship_tag": "ABX9TyM/ryjQvCJRg2/xD/MzN/mJ",
      "include_colab_link": true
    },
    "kernelspec": {
      "name": "python3",
      "display_name": "Python 3"
    }
  },
  "cells": [
    {
      "cell_type": "markdown",
      "metadata": {
        "id": "view-in-github",
        "colab_type": "text"
      },
      "source": [
        "<a href=\"https://colab.research.google.com/github/christophermalone/HLA311/blob/main/Module2_Part3A_Advanced.ipynb\" target=\"_parent\"><img src=\"https://colab.research.google.com/assets/colab-badge.svg\" alt=\"Open In Colab\"/></a>"
      ]
    },
    {
      "cell_type": "markdown",
      "metadata": {
        "id": "zQXd5cZ9SMmv"
      },
      "source": [
        "# Module 2 | Part 3A: Summary (Top 10 List) - Advanced Level "
      ]
    },
    {
      "cell_type": "markdown",
      "metadata": {
        "id": "F5v4zW5-EvjX"
      },
      "source": [
        "This purpose of this iPython Notebook is to communicate the process by which a data scientist would obtain a Top 10 List using Python."
      ]
    },
    {
      "cell_type": "markdown",
      "metadata": {
        "id": "cHFbYOB8JK4u"
      },
      "source": [
        "<table width='100%' ><tr><td bgcolor='green'></td></tr></table>\n",
        "\n",
        "## Example #1 - Uninsured Rates for various Demographic Categories\n",
        "\n",
        "For this example, we will consider the Small Area Health Insurance Estimates (SAHIE) data from the United States Census Bureau.  This data provides counts for the number of people with and without health insurance across a variety of categories (age/race/sex/income).  This data is provided at the county level.\n",
        "\n",
        "Source: https://www.census.gov/data/datasets/time-series/demo/sahie/estimates-acs.html \n",
        "\n",
        "\n",
        "Google Folder: <a href=\"https://drive.google.com/drive/folders/1ba54w0Q3TCCYN37h3aFQrSwVTwXwWoPh?usp=sharing\" target=\"_blank\">Link to Data</a>\n",
        "\n",
        "The following fields are included in this data table:\n",
        "*   State_Name: state name\n",
        "*   State_Abbreviation: abbreviation for state\n",
        "*   County_Name: name of county\n",
        "*   CountyName_State: Combination of County_Name field and State_Abbreviation\n",
        "*   MedicareExpansion_Adopted_StateLevel: Had state adopted medicare expansion on year data was collected\n",
        "*   agecat: category of age (see data dictionary)\n",
        "*   racecat: category of race (see data dictionary)\n",
        "*   sexcat: category of sex (see data dictionary)\n",
        "*   iprcat: category of income (see data dictionary)\n",
        "*   NumberinGroup: Number of people in this demographic group\n",
        "*   Uninsured: Number of people uninsured in this demographic group\n",
        "*   Insured: Number of people insured in this demographic group\n",
        "*   PercentUninsured: Percent of people uninsured in this demographic group\n",
        "\n",
        "\n",
        "<table width='100%' ><tr><td bgcolor='green'></td></tr></table>"
      ]
    },
    {
      "cell_type": "markdown",
      "metadata": {
        "id": "6wT7Cha0oxa0"
      },
      "source": [
        "\n",
        "<strong>Goal</strong>: Obtain a \"Top 10 List\" for the <i>worst</i> counties in Minnesota regarding the percentage of children without health insurance. \n",
        "\n",
        "\n",
        "The following data processing steps are necessary to obtain this Top 10 List.\n",
        "*   <strong>Step #0</strong>: Load the data into Python\n",
        "*   <strong>Step #1</strong>: Get only counties from MN\n",
        "*   <strong>Step #2</strong>: Exclude any state level information\n",
        "*   <strong>Step #3</strong>: Get only records that meet the following criteria</li>\n",
        "<ul>\n",
        "  <li>agecat = 4 (4 indicates children -- i.e. under the age of 19)</li>\n",
        "  <li>racecat = 0 (0 indicates All races)</li>\n",
        "  <li>sexcat = 0 (0 indicates All sexes)</li>\n",
        "  <li>iprcat = 0 (0 indicates All incomes)</li>\n",
        "</ul>\n",
        "*   <strong>Step #4</strong>: Apply <strong>ARRANGE</strong> data action to sort\n",
        "*   <strong>Step #5</strong>: Retain only the top 10 records and the desired fields\n"
      ]
    },
    {
      "cell_type": "markdown",
      "metadata": {
        "id": "8_8JrHrvKGt4"
      },
      "source": [
        "### Step 0: Load the data in Python"
      ]
    },
    {
      "cell_type": "markdown",
      "metadata": {
        "id": "Y3MAE5syvg57"
      },
      "source": [
        ""
      ]
    },
    {
      "cell_type": "code",
      "metadata": {
        "id": "zn5kVKnQ0yHo"
      },
      "source": [
        "#Load the pandas package\n",
        "import pandas as pd"
      ],
      "execution_count": 1,
      "outputs": []
    },
    {
      "cell_type": "code",
      "metadata": {
        "id": "WInti-vo02W4"
      },
      "source": [
        "#Use read_table to read in the tab delimited file into Python\n",
        "SAHIE = pd.read_csv('http://www.statsclass.org/online/hla311/datasets/SAHIE.csv') "
      ],
      "execution_count": 31,
      "outputs": []
    },
    {
      "cell_type": "code",
      "metadata": {
        "colab": {
          "base_uri": "https://localhost:8080/"
        },
        "id": "fNJXKkiM7zp7",
        "outputId": "ff6336e5-12ad-4363-9592-4c32aec19938"
      },
      "source": [
        "#How many records and field\n",
        "SAHIE.shape"
      ],
      "execution_count": 32,
      "outputs": [
        {
          "output_type": "execute_result",
          "data": {
            "text/plain": [
              "(119538, 13)"
            ]
          },
          "metadata": {
            "tags": []
          },
          "execution_count": 32
        }
      ]
    },
    {
      "cell_type": "code",
      "metadata": {
        "id": "BTSbvhln1Xmq",
        "colab": {
          "base_uri": "https://localhost:8080/",
          "height": 226
        },
        "outputId": "e80962fa-802a-4fa8-bc19-3f6d707f6720"
      },
      "source": [
        "#Look at first few rows of the data\n",
        "SAHIE.head(n=5)"
      ],
      "execution_count": 33,
      "outputs": [
        {
          "output_type": "execute_result",
          "data": {
            "text/html": [
              "<div>\n",
              "<style scoped>\n",
              "    .dataframe tbody tr th:only-of-type {\n",
              "        vertical-align: middle;\n",
              "    }\n",
              "\n",
              "    .dataframe tbody tr th {\n",
              "        vertical-align: top;\n",
              "    }\n",
              "\n",
              "    .dataframe thead th {\n",
              "        text-align: right;\n",
              "    }\n",
              "</style>\n",
              "<table border=\"1\" class=\"dataframe\">\n",
              "  <thead>\n",
              "    <tr style=\"text-align: right;\">\n",
              "      <th></th>\n",
              "      <th>State_Name</th>\n",
              "      <th>State_Abbreviation</th>\n",
              "      <th>County_Name</th>\n",
              "      <th>CountyName_State</th>\n",
              "      <th>MedicareExpansion_Adopted_StateLevel</th>\n",
              "      <th>agecat</th>\n",
              "      <th>racecat</th>\n",
              "      <th>sexcat</th>\n",
              "      <th>iprcat</th>\n",
              "      <th>NumberInGroup</th>\n",
              "      <th>Uninsured</th>\n",
              "      <th>Insured</th>\n",
              "      <th>PercentUninsured</th>\n",
              "    </tr>\n",
              "  </thead>\n",
              "  <tbody>\n",
              "    <tr>\n",
              "      <th>0</th>\n",
              "      <td>Alabama</td>\n",
              "      <td>AL</td>\n",
              "      <td>NaN</td>\n",
              "      <td>NaN</td>\n",
              "      <td>No</td>\n",
              "      <td>0</td>\n",
              "      <td>0</td>\n",
              "      <td>0</td>\n",
              "      <td>0</td>\n",
              "      <td>3955117.0</td>\n",
              "      <td>470052.0</td>\n",
              "      <td>3485065.0</td>\n",
              "      <td>11.9</td>\n",
              "    </tr>\n",
              "    <tr>\n",
              "      <th>1</th>\n",
              "      <td>Alabama</td>\n",
              "      <td>AL</td>\n",
              "      <td>NaN</td>\n",
              "      <td>NaN</td>\n",
              "      <td>No</td>\n",
              "      <td>0</td>\n",
              "      <td>0</td>\n",
              "      <td>0</td>\n",
              "      <td>1</td>\n",
              "      <td>1460808.0</td>\n",
              "      <td>286457.0</td>\n",
              "      <td>1174351.0</td>\n",
              "      <td>19.6</td>\n",
              "    </tr>\n",
              "    <tr>\n",
              "      <th>2</th>\n",
              "      <td>Alabama</td>\n",
              "      <td>AL</td>\n",
              "      <td>NaN</td>\n",
              "      <td>NaN</td>\n",
              "      <td>No</td>\n",
              "      <td>0</td>\n",
              "      <td>0</td>\n",
              "      <td>0</td>\n",
              "      <td>2</td>\n",
              "      <td>1805111.0</td>\n",
              "      <td>334174.0</td>\n",
              "      <td>1470937.0</td>\n",
              "      <td>18.5</td>\n",
              "    </tr>\n",
              "    <tr>\n",
              "      <th>3</th>\n",
              "      <td>Alabama</td>\n",
              "      <td>AL</td>\n",
              "      <td>NaN</td>\n",
              "      <td>NaN</td>\n",
              "      <td>No</td>\n",
              "      <td>0</td>\n",
              "      <td>0</td>\n",
              "      <td>0</td>\n",
              "      <td>3</td>\n",
              "      <td>989540.0</td>\n",
              "      <td>203801.0</td>\n",
              "      <td>785739.0</td>\n",
              "      <td>20.6</td>\n",
              "    </tr>\n",
              "    <tr>\n",
              "      <th>4</th>\n",
              "      <td>Alabama</td>\n",
              "      <td>AL</td>\n",
              "      <td>NaN</td>\n",
              "      <td>NaN</td>\n",
              "      <td>No</td>\n",
              "      <td>0</td>\n",
              "      <td>0</td>\n",
              "      <td>0</td>\n",
              "      <td>4</td>\n",
              "      <td>2679733.0</td>\n",
              "      <td>415673.0</td>\n",
              "      <td>2264060.0</td>\n",
              "      <td>15.5</td>\n",
              "    </tr>\n",
              "  </tbody>\n",
              "</table>\n",
              "</div>"
            ],
            "text/plain": [
              "  State_Name State_Abbreviation  ...    Insured PercentUninsured\n",
              "0    Alabama                 AL  ...  3485065.0             11.9\n",
              "1    Alabama                 AL  ...  1174351.0             19.6\n",
              "2    Alabama                 AL  ...  1470937.0             18.5\n",
              "3    Alabama                 AL  ...   785739.0             20.6\n",
              "4    Alabama                 AL  ...  2264060.0             15.5\n",
              "\n",
              "[5 rows x 13 columns]"
            ]
          },
          "metadata": {
            "tags": []
          },
          "execution_count": 33
        }
      ]
    },
    {
      "cell_type": "markdown",
      "metadata": {
        "id": "CsJizOnM64xO"
      },
      "source": [
        "Next, install the dfply package that can be used to invoke various data verbs in Python"
      ]
    },
    {
      "cell_type": "code",
      "metadata": {
        "id": "PUp6UuNH2EHw",
        "colab": {
          "base_uri": "https://localhost:8080/"
        },
        "outputId": "a73d1928-70ca-4b6f-d3b8-0bd33a397407"
      },
      "source": [
        "pip install dfply"
      ],
      "execution_count": 5,
      "outputs": [
        {
          "output_type": "stream",
          "text": [
            "Collecting dfply\n",
            "\u001b[?25l  Downloading https://files.pythonhosted.org/packages/53/91/18ab48c64661252dadff685f8ddbc6f456302923918f488714ee2345d49b/dfply-0.3.3-py3-none-any.whl (612kB)\n",
            "\r\u001b[K     |▌                               | 10kB 20.5MB/s eta 0:00:01\r\u001b[K     |█                               | 20kB 30.1MB/s eta 0:00:01\r\u001b[K     |█▋                              | 30kB 28.3MB/s eta 0:00:01\r\u001b[K     |██▏                             | 40kB 21.3MB/s eta 0:00:01\r\u001b[K     |██▊                             | 51kB 14.6MB/s eta 0:00:01\r\u001b[K     |███▏                            | 61kB 12.1MB/s eta 0:00:01\r\u001b[K     |███▊                            | 71kB 13.6MB/s eta 0:00:01\r\u001b[K     |████▎                           | 81kB 14.5MB/s eta 0:00:01\r\u001b[K     |████▉                           | 92kB 12.6MB/s eta 0:00:01\r\u001b[K     |█████▍                          | 102kB 13.7MB/s eta 0:00:01\r\u001b[K     |█████▉                          | 112kB 13.7MB/s eta 0:00:01\r\u001b[K     |██████▍                         | 122kB 13.7MB/s eta 0:00:01\r\u001b[K     |███████                         | 133kB 13.7MB/s eta 0:00:01\r\u001b[K     |███████▌                        | 143kB 13.7MB/s eta 0:00:01\r\u001b[K     |████████                        | 153kB 13.7MB/s eta 0:00:01\r\u001b[K     |████████▋                       | 163kB 13.7MB/s eta 0:00:01\r\u001b[K     |█████████                       | 174kB 13.7MB/s eta 0:00:01\r\u001b[K     |█████████▋                      | 184kB 13.7MB/s eta 0:00:01\r\u001b[K     |██████████▏                     | 194kB 13.7MB/s eta 0:00:01\r\u001b[K     |██████████▊                     | 204kB 13.7MB/s eta 0:00:01\r\u001b[K     |███████████▎                    | 215kB 13.7MB/s eta 0:00:01\r\u001b[K     |███████████▊                    | 225kB 13.7MB/s eta 0:00:01\r\u001b[K     |████████████▎                   | 235kB 13.7MB/s eta 0:00:01\r\u001b[K     |████████████▉                   | 245kB 13.7MB/s eta 0:00:01\r\u001b[K     |█████████████▍                  | 256kB 13.7MB/s eta 0:00:01\r\u001b[K     |██████████████                  | 266kB 13.7MB/s eta 0:00:01\r\u001b[K     |██████████████▌                 | 276kB 13.7MB/s eta 0:00:01\r\u001b[K     |███████████████                 | 286kB 13.7MB/s eta 0:00:01\r\u001b[K     |███████████████▌                | 296kB 13.7MB/s eta 0:00:01\r\u001b[K     |████████████████                | 307kB 13.7MB/s eta 0:00:01\r\u001b[K     |████████████████▋               | 317kB 13.7MB/s eta 0:00:01\r\u001b[K     |█████████████████▏              | 327kB 13.7MB/s eta 0:00:01\r\u001b[K     |█████████████████▋              | 337kB 13.7MB/s eta 0:00:01\r\u001b[K     |██████████████████▏             | 348kB 13.7MB/s eta 0:00:01\r\u001b[K     |██████████████████▊             | 358kB 13.7MB/s eta 0:00:01\r\u001b[K     |███████████████████▎            | 368kB 13.7MB/s eta 0:00:01\r\u001b[K     |███████████████████▉            | 378kB 13.7MB/s eta 0:00:01\r\u001b[K     |████████████████████▎           | 389kB 13.7MB/s eta 0:00:01\r\u001b[K     |████████████████████▉           | 399kB 13.7MB/s eta 0:00:01\r\u001b[K     |█████████████████████▍          | 409kB 13.7MB/s eta 0:00:01\r\u001b[K     |██████████████████████          | 419kB 13.7MB/s eta 0:00:01\r\u001b[K     |██████████████████████▌         | 430kB 13.7MB/s eta 0:00:01\r\u001b[K     |███████████████████████         | 440kB 13.7MB/s eta 0:00:01\r\u001b[K     |███████████████████████▌        | 450kB 13.7MB/s eta 0:00:01\r\u001b[K     |████████████████████████        | 460kB 13.7MB/s eta 0:00:01\r\u001b[K     |████████████████████████▋       | 471kB 13.7MB/s eta 0:00:01\r\u001b[K     |█████████████████████████▏      | 481kB 13.7MB/s eta 0:00:01\r\u001b[K     |█████████████████████████▊      | 491kB 13.7MB/s eta 0:00:01\r\u001b[K     |██████████████████████████▏     | 501kB 13.7MB/s eta 0:00:01\r\u001b[K     |██████████████████████████▊     | 512kB 13.7MB/s eta 0:00:01\r\u001b[K     |███████████████████████████▎    | 522kB 13.7MB/s eta 0:00:01\r\u001b[K     |███████████████████████████▉    | 532kB 13.7MB/s eta 0:00:01\r\u001b[K     |████████████████████████████▍   | 542kB 13.7MB/s eta 0:00:01\r\u001b[K     |█████████████████████████████   | 552kB 13.7MB/s eta 0:00:01\r\u001b[K     |█████████████████████████████▍  | 563kB 13.7MB/s eta 0:00:01\r\u001b[K     |██████████████████████████████  | 573kB 13.7MB/s eta 0:00:01\r\u001b[K     |██████████████████████████████▌ | 583kB 13.7MB/s eta 0:00:01\r\u001b[K     |███████████████████████████████ | 593kB 13.7MB/s eta 0:00:01\r\u001b[K     |███████████████████████████████▋| 604kB 13.7MB/s eta 0:00:01\r\u001b[K     |████████████████████████████████| 614kB 13.7MB/s \n",
            "\u001b[?25hRequirement already satisfied: numpy in /usr/local/lib/python3.7/dist-packages (from dfply) (1.19.5)\n",
            "Requirement already satisfied: pandas in /usr/local/lib/python3.7/dist-packages (from dfply) (1.1.5)\n",
            "Requirement already satisfied: python-dateutil>=2.7.3 in /usr/local/lib/python3.7/dist-packages (from pandas->dfply) (2.8.1)\n",
            "Requirement already satisfied: pytz>=2017.2 in /usr/local/lib/python3.7/dist-packages (from pandas->dfply) (2018.9)\n",
            "Requirement already satisfied: six>=1.5 in /usr/local/lib/python3.7/dist-packages (from python-dateutil>=2.7.3->pandas->dfply) (1.15.0)\n",
            "Installing collected packages: dfply\n",
            "Successfully installed dfply-0.3.3\n"
          ],
          "name": "stdout"
        }
      ]
    },
    {
      "cell_type": "code",
      "metadata": {
        "id": "SA3rn_0j2NRA"
      },
      "source": [
        "#Load the dfply package\n",
        "from dfply import *"
      ],
      "execution_count": 6,
      "outputs": []
    },
    {
      "cell_type": "markdown",
      "metadata": {
        "id": "gQsNzSRI6O_l"
      },
      "source": [
        "### Step #1: Get only information for Minnesota"
      ]
    },
    {
      "cell_type": "code",
      "metadata": {
        "id": "ydkByRrH2Ea7"
      },
      "source": [
        "##Apply a FILTER action on State_Abbreviation = MN\n",
        "OutcomeTable = (\n",
        "            SAHIE\n",
        "            >> filter_by(X.State_Abbreviation == 'MN')\n",
        "                  )\n",
        "\n",
        "#Print first 5 rows of OutcomeTable\n",
        "OutcomeTable.head(n=5)"
      ],
      "execution_count": null,
      "outputs": []
    },
    {
      "cell_type": "markdown",
      "metadata": {
        "id": "o4zN0YcnqnfA"
      },
      "source": [
        "### Step #2: Exclude any state level information\n"
      ]
    },
    {
      "cell_type": "code",
      "metadata": {
        "id": "b-s3XMP_qnlh"
      },
      "source": [
        "##Apply a FILTER action on \n",
        "#                          State_Abbreviation = MN\n",
        "#                          AND County_Name is not null\n",
        "OutcomeTable = (\n",
        "            SAHIE\n",
        "            >> filter_by(X.State_Abbreviation == 'MN')\n",
        "            >> filter_by(X.County_Name.notnull())\n",
        "          )\n",
        "\n",
        "#Print first 5 rows of OutcomeTable\n",
        "OutcomeTable.head(n=5)"
      ],
      "execution_count": null,
      "outputs": []
    },
    {
      "cell_type": "markdown",
      "metadata": {
        "id": "fcidufQ5v4WH"
      },
      "source": [
        "### Step #3: Apply additional FILTER actions"
      ]
    },
    {
      "cell_type": "code",
      "metadata": {
        "id": "qZYbNtAgv4c_"
      },
      "source": [
        "##Apply a FILTER action on \n",
        "#                          State_Abbreviation = MN\n",
        "#                          AND County_Name is not null\n",
        "#                          AND agecat = 4 (only peopled 19 and under)\n",
        "#                          AND racecat = 0 (all races)\n",
        "#                          AND sexcat = 0 (all sexes)\n",
        "#                          AND iprcat = 0 (all income categories)\n",
        "\n",
        "OutcomeTable = (\n",
        "            SAHIE\n",
        "            >> filter_by(X.State_Abbreviation == 'MN')\n",
        "            >> filter_by(X.County_Name.notnull())\n",
        "            >> filter_by(X.agecat == 4, X.racecat == 0, X.sexcat == 0, X.iprcat == 0)\n",
        "          )\n",
        "\n",
        "#Print first 5 rows of OutcomeTable\n",
        "OutcomeTable.head(n=5)"
      ],
      "execution_count": null,
      "outputs": []
    },
    {
      "cell_type": "markdown",
      "metadata": {
        "id": "HFfhRaZEwtH_"
      },
      "source": [
        "### Step #4: Apply ARRANGE action to sort by Percent Uninsured"
      ]
    },
    {
      "cell_type": "code",
      "metadata": {
        "id": "5o4PLeYCwtOt"
      },
      "source": [
        "##Apply an ARRANGE action to SORT by Percent Uninsured\n",
        "OutcomeTable = (\n",
        "            SAHIE\n",
        "            >> filter_by(X.State_Abbreviation == 'MN')\n",
        "            >> filter_by(X.County_Name.notnull())\n",
        "            >> filter_by(X.agecat == 4, X.racecat == 0, X.sexcat == 0, X.iprcat == 0)\n",
        "            >> arrange(X.PercentUninsured, ascending=False)\n",
        "          )\n",
        "\n",
        "#Print first 5 rows of OutcomeTable\n",
        "OutcomeTable.head(n=5)"
      ],
      "execution_count": null,
      "outputs": []
    },
    {
      "cell_type": "markdown",
      "metadata": {
        "id": "K7TeXPrDysyL"
      },
      "source": [
        "### Step #5: Retain only the top 10 records and the desired fields for the TOp 10 List"
      ]
    },
    {
      "cell_type": "code",
      "metadata": {
        "colab": {
          "base_uri": "https://localhost:8080/"
        },
        "id": "4GPLVy49ys3C",
        "outputId": "2d61564b-1a56-400b-f04b-eb209aaaad32"
      },
      "source": [
        "# Using Pyton to obtain Top 10 List (using pandas and dfply packages)\n",
        "OutcomeTable = (\n",
        "            SAHIE\n",
        "            >> filter_by(X.State_Abbreviation == 'MN')\n",
        "            >> filter_by(X.County_Name.notnull())\n",
        "            >> filter_by(X.agecat == 4, X.racecat == 0, X.sexcat == 0, X.iprcat == 0)\n",
        "            >> arrange(X.PercentUninsured, ascending=False)\n",
        "            >> top_n(10)\n",
        "            >> select(X.CountyName_State, X.PercentUninsured)\n",
        "          )\n",
        "\n",
        "#Pretty print the desired table\n",
        "print(OutcomeTable.to_string(index=False))"
      ],
      "execution_count": 42,
      "outputs": [
        {
          "output_type": "stream",
          "text": [
            "      CountyName_State  PercentUninsured\n",
            "       Todd County, MN               7.2\n",
            "       Cass County, MN               7.1\n",
            "     Nobles County, MN               6.8\n",
            "   Fillmore County, MN               6.3\n",
            " Clearwater County, MN               5.8\n",
            "   Mahnomen County, MN               5.8\n",
            "   Traverse County, MN               5.7\n",
            "   Watonwan County, MN               5.4\n",
            "   Beltrami County, MN               5.3\n",
            "       Cook County, MN               5.3\n"
          ],
          "name": "stdout"
        }
      ]
    },
    {
      "cell_type": "markdown",
      "metadata": {
        "id": "TrNWchPT0A1V"
      },
      "source": [
        "**Note**:  The code block for Step #5 includes the necessary code for all previous steps; thus, only the code block for Step #5 needs to be run to obtain the desired Top 10 List."
      ]
    },
    {
      "cell_type": "markdown",
      "metadata": {
        "id": "Eqh4Cs9fzi5e"
      },
      "source": [
        "\n",
        "\n",
        "---\n",
        "\n",
        "\n",
        "\n",
        "---\n",
        "\n",
        "\n",
        "\n",
        "---\n",
        "\n"
      ]
    }
  ]
}