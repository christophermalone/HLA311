{
  "nbformat": 4,
  "nbformat_minor": 0,
  "metadata": {
    "colab": {
      "name": "Module2_Part3C_Advanced.ipynb",
      "provenance": [],
      "collapsed_sections": [],
      "authorship_tag": "ABX9TyM/wLi+VuIwfr535x9mHFHO",
      "include_colab_link": true
    },
    "kernelspec": {
      "name": "python3",
      "display_name": "Python 3"
    }
  },
  "cells": [
    {
      "cell_type": "markdown",
      "metadata": {
        "id": "view-in-github",
        "colab_type": "text"
      },
      "source": [
        "<a href=\"https://colab.research.google.com/github/christophermalone/HLA311/blob/main/Module2_Part3C_Advanced.ipynb\" target=\"_parent\"><img src=\"https://colab.research.google.com/assets/colab-badge.svg\" alt=\"Open In Colab\"/></a>"
      ]
    },
    {
      "cell_type": "markdown",
      "metadata": {
        "id": "zQXd5cZ9SMmv"
      },
      "source": [
        "# Module 2 | Part 3C: GROUP BY / PIVOT - Advanced Level "
      ]
    },
    {
      "cell_type": "markdown",
      "metadata": {
        "id": "F5v4zW5-EvjX"
      },
      "source": [
        "This purpose of this iPython Notebook is to communicate the process by which a data scientist would obtain basic summaries of a data table that involve a GROUP BY or PIVOT action."
      ]
    },
    {
      "cell_type": "markdown",
      "metadata": {
        "id": "cHFbYOB8JK4u"
      },
      "source": [
        "<table width='100%' ><tr><td bgcolor='green'></td></tr></table>\n",
        "\n",
        "## Example #1 - Uninsured Rates \n",
        "\n",
        "For this example, we will reconsider the Small Area Health Insurance Estimates (SAHIE) data from the United States Census Bureau.  This data provides counts for the number of people with and without health insurance.  This subset include county level information for people under the age of 19 (agecat = 4) and those from the poorest income category (iprcat = 3). \n",
        "\n",
        "Source: https://www.census.gov/data/datasets/time-series/demo/sahie/estimates-acs.html \n",
        "\n",
        "\n",
        "Google Folder: <a href=\"https://drive.google.com/drive/folders/1Z827qwQyI0AaeVy4n-XnxC3iFKDm8sxi?usp=sharing\" target=\"_blank\">Link to Data</a>\n",
        "\n",
        "The following fields are included in this data table:\n",
        "*   State_Name: state name\n",
        "*   State_Abbreviation: abbreviation for state\n",
        "*   Census_Region: Identifies the Census Region for the State (Levels: Northeast, South, Midwest, or West)\n",
        "*   MedicareExpansion: Had state adopted medicare expansion on year data was collected\n",
        "*   agecat: category of age (agecat = 0, all ages)\n",
        "*   racecat: category of race (0:All races, 1:White, 2:Black, 3:Hispanic)\n",
        "*   sexcat: category of sex (sexcat = 0, all sexes)\n",
        "*   iprcat: category of income (iprcat = 0, all income groups)\n",
        "*   NumberinGroup: Number of people in this demographic group\n",
        "*   Uninsured: Number of people uninsured in this demographic group\n",
        "*   Insured: Number of people insured in this demographic group\n",
        "*   PercentUninsured: Percent of people uninsured in this demographic group\n",
        "\n",
        "\n",
        "<table width='100%' ><tr><td bgcolor='green'></td></tr></table>"
      ]
    },
    {
      "cell_type": "markdown",
      "metadata": {
        "id": "6wT7Cha0oxa0"
      },
      "source": [
        "\n",
        "<strong>Goal</strong>: Compute the percent of uninsured people under the age of 19 who are in the lowest income categorey.\n"
      ]
    },
    {
      "cell_type": "markdown",
      "metadata": {
        "id": "8_8JrHrvKGt4"
      },
      "source": [
        "### Load the data in Python"
      ]
    },
    {
      "cell_type": "code",
      "metadata": {
        "id": "zn5kVKnQ0yHo"
      },
      "source": [
        "#Load the pandas package\n",
        "import pandas as pd"
      ],
      "execution_count": 31,
      "outputs": []
    },
    {
      "cell_type": "code",
      "metadata": {
        "id": "WInti-vo02W4"
      },
      "source": [
        "#Use read_table to read in the tab delimited file into Python\n",
        "SAHIE_Race = pd.read_csv('http://www.statsclass.org/online/hla311/datasets/SAHIE_StateData_Race.csv') "
      ],
      "execution_count": 32,
      "outputs": []
    },
    {
      "cell_type": "code",
      "metadata": {
        "colab": {
          "base_uri": "https://localhost:8080/"
        },
        "id": "fNJXKkiM7zp7",
        "outputId": "143ec4e5-a745-42a7-892d-0b04fd268c5c"
      },
      "source": [
        "#How many records and field\n",
        "SAHIE_Race.shape"
      ],
      "execution_count": 33,
      "outputs": [
        {
          "output_type": "execute_result",
          "data": {
            "text/plain": [
              "(204, 12)"
            ]
          },
          "metadata": {
            "tags": []
          },
          "execution_count": 33
        }
      ]
    },
    {
      "cell_type": "code",
      "metadata": {
        "id": "BTSbvhln1Xmq",
        "colab": {
          "base_uri": "https://localhost:8080/",
          "height": 223
        },
        "outputId": "14c3b026-7208-480a-a082-5d4fc321d8ba"
      },
      "source": [
        "#Look at first few rows of the data\n",
        "SAHIE_Race.head(n=5)"
      ],
      "execution_count": 34,
      "outputs": [
        {
          "output_type": "execute_result",
          "data": {
            "text/html": [
              "<div>\n",
              "<style scoped>\n",
              "    .dataframe tbody tr th:only-of-type {\n",
              "        vertical-align: middle;\n",
              "    }\n",
              "\n",
              "    .dataframe tbody tr th {\n",
              "        vertical-align: top;\n",
              "    }\n",
              "\n",
              "    .dataframe thead th {\n",
              "        text-align: right;\n",
              "    }\n",
              "</style>\n",
              "<table border=\"1\" class=\"dataframe\">\n",
              "  <thead>\n",
              "    <tr style=\"text-align: right;\">\n",
              "      <th></th>\n",
              "      <th>State_Name</th>\n",
              "      <th>State_Abbreviation</th>\n",
              "      <th>Census_Region</th>\n",
              "      <th>Medicare_Expansion</th>\n",
              "      <th>agecat</th>\n",
              "      <th>racecat</th>\n",
              "      <th>sexcat</th>\n",
              "      <th>iprcat</th>\n",
              "      <th>NumberInGroup</th>\n",
              "      <th>Uninsured</th>\n",
              "      <th>Insured</th>\n",
              "      <th>PercentUninsured</th>\n",
              "    </tr>\n",
              "  </thead>\n",
              "  <tbody>\n",
              "    <tr>\n",
              "      <th>0</th>\n",
              "      <td>Alabama</td>\n",
              "      <td>AL</td>\n",
              "      <td>South</td>\n",
              "      <td>No</td>\n",
              "      <td>0</td>\n",
              "      <td>0</td>\n",
              "      <td>0</td>\n",
              "      <td>0</td>\n",
              "      <td>3955117</td>\n",
              "      <td>470052</td>\n",
              "      <td>3485065</td>\n",
              "      <td>11.9</td>\n",
              "    </tr>\n",
              "    <tr>\n",
              "      <th>1</th>\n",
              "      <td>Alabama</td>\n",
              "      <td>AL</td>\n",
              "      <td>South</td>\n",
              "      <td>No</td>\n",
              "      <td>0</td>\n",
              "      <td>1</td>\n",
              "      <td>0</td>\n",
              "      <td>0</td>\n",
              "      <td>2512149</td>\n",
              "      <td>255754</td>\n",
              "      <td>2256395</td>\n",
              "      <td>10.2</td>\n",
              "    </tr>\n",
              "    <tr>\n",
              "      <th>2</th>\n",
              "      <td>Alabama</td>\n",
              "      <td>AL</td>\n",
              "      <td>South</td>\n",
              "      <td>No</td>\n",
              "      <td>0</td>\n",
              "      <td>2</td>\n",
              "      <td>0</td>\n",
              "      <td>0</td>\n",
              "      <td>1081918</td>\n",
              "      <td>143788</td>\n",
              "      <td>938130</td>\n",
              "      <td>13.3</td>\n",
              "    </tr>\n",
              "    <tr>\n",
              "      <th>3</th>\n",
              "      <td>Alabama</td>\n",
              "      <td>AL</td>\n",
              "      <td>South</td>\n",
              "      <td>No</td>\n",
              "      <td>0</td>\n",
              "      <td>3</td>\n",
              "      <td>0</td>\n",
              "      <td>0</td>\n",
              "      <td>202025</td>\n",
              "      <td>52469</td>\n",
              "      <td>149556</td>\n",
              "      <td>26.0</td>\n",
              "    </tr>\n",
              "    <tr>\n",
              "      <th>4</th>\n",
              "      <td>Alaska</td>\n",
              "      <td>AK</td>\n",
              "      <td>West</td>\n",
              "      <td>Yes</td>\n",
              "      <td>0</td>\n",
              "      <td>0</td>\n",
              "      <td>0</td>\n",
              "      <td>0</td>\n",
              "      <td>636220</td>\n",
              "      <td>88519</td>\n",
              "      <td>547701</td>\n",
              "      <td>13.9</td>\n",
              "    </tr>\n",
              "  </tbody>\n",
              "</table>\n",
              "</div>"
            ],
            "text/plain": [
              "  State_Name State_Abbreviation  ...  Insured PercentUninsured\n",
              "0    Alabama                 AL  ...  3485065             11.9\n",
              "1    Alabama                 AL  ...  2256395             10.2\n",
              "2    Alabama                 AL  ...   938130             13.3\n",
              "3    Alabama                 AL  ...   149556             26.0\n",
              "4     Alaska                 AK  ...   547701             13.9\n",
              "\n",
              "[5 rows x 12 columns]"
            ]
          },
          "metadata": {
            "tags": []
          },
          "execution_count": 34
        }
      ]
    },
    {
      "cell_type": "markdown",
      "metadata": {
        "id": "CsJizOnM64xO"
      },
      "source": [
        "Next, install the dfply package that can be used to invoke various data verbs in Python"
      ]
    },
    {
      "cell_type": "code",
      "metadata": {
        "id": "PUp6UuNH2EHw",
        "colab": {
          "base_uri": "https://localhost:8080/"
        },
        "outputId": "96ca3709-aa89-4dc1-a121-5bc21cba5c41"
      },
      "source": [
        "pip install dfply"
      ],
      "execution_count": 35,
      "outputs": [
        {
          "output_type": "stream",
          "text": [
            "Requirement already satisfied: dfply in /usr/local/lib/python3.7/dist-packages (0.3.3)\n",
            "Requirement already satisfied: pandas in /usr/local/lib/python3.7/dist-packages (from dfply) (1.1.5)\n",
            "Requirement already satisfied: numpy in /usr/local/lib/python3.7/dist-packages (from dfply) (1.19.5)\n",
            "Requirement already satisfied: python-dateutil>=2.7.3 in /usr/local/lib/python3.7/dist-packages (from pandas->dfply) (2.8.1)\n",
            "Requirement already satisfied: pytz>=2017.2 in /usr/local/lib/python3.7/dist-packages (from pandas->dfply) (2018.9)\n",
            "Requirement already satisfied: six>=1.5 in /usr/local/lib/python3.7/dist-packages (from python-dateutil>=2.7.3->pandas->dfply) (1.15.0)\n"
          ],
          "name": "stdout"
        }
      ]
    },
    {
      "cell_type": "code",
      "metadata": {
        "id": "SA3rn_0j2NRA"
      },
      "source": [
        "#Load the dfply package\n",
        "from dfply import *"
      ],
      "execution_count": 36,
      "outputs": []
    },
    {
      "cell_type": "markdown",
      "metadata": {
        "id": "yin-iWvccoea"
      },
      "source": [
        "### Obtain % Uninsured by Race"
      ]
    },
    {
      "cell_type": "code",
      "metadata": {
        "colab": {
          "base_uri": "https://localhost:8080/"
        },
        "id": "_yjPqwkicnur",
        "outputId": "957745ab-60b5-4ace-e127-1210e919bd81"
      },
      "source": [
        "# Using Pyton to obtain % Uninsured by race\n",
        "# racecat Levels {0: All Races, 1: White, 2: Black, 3:Hispanic}\n",
        "# racecat = 0 is excluded from the summary table\n",
        "OutcomeTable = (\n",
        "           SAHIE_Race\n",
        "            >> filter_by(X.racecat != 0)\n",
        "            >> group_by(X.racecat)\n",
        "            >> summarize(Percent_Uninsured = X.Uninsured.sum() / X.NumberInGroup.sum())\n",
        "          )\n",
        "\n",
        "#Pretty print the desired table\n",
        "print(OutcomeTable.to_string(index=False))"
      ],
      "execution_count": 37,
      "outputs": [
        {
          "output_type": "stream",
          "text": [
            " racecat  Percent_Uninsured\n",
            "       1           0.075210\n",
            "       2           0.113761\n",
            "       3           0.191171\n"
          ],
          "name": "stdout"
        }
      ]
    },
    {
      "cell_type": "markdown",
      "metadata": {
        "id": "i-nr46eow7NO"
      },
      "source": [
        "### Obtain % Uninsured by Race across Medicare Expansion"
      ]
    },
    {
      "cell_type": "code",
      "metadata": {
        "colab": {
          "base_uri": "https://localhost:8080/"
        },
        "id": "r1RxVvVKw7S9",
        "outputId": "b0a677f2-633d-42ba-b9fe-1f71ac91aecd"
      },
      "source": [
        "# Using Pyton to obtain % Uninsured by race\n",
        "# racecat Levels {0: All Races, 1: White, 2: Black, 3:Hispanic}\n",
        "# racecat = 0 is excluded from the summary table\n",
        "OutcomeTable = (\n",
        "           SAHIE_Race\n",
        "            >> filter_by(X.racecat != 0)\n",
        "            >> group_by(X.Medicare_Expansion, X.racecat)\n",
        "            >> summarize(Percent_Uninsured = X.Uninsured.sum() / X.NumberInGroup.sum())\n",
        "            >> spread(X.Medicare_Expansion, X.Percent_Uninsured)\n",
        "          )\n",
        "\n",
        "#Pretty print the desired table\n",
        "print(OutcomeTable.to_string(index=False))"
      ],
      "execution_count": 40,
      "outputs": [
        {
          "output_type": "stream",
          "text": [
            " racecat        No       Yes\n",
            "       1  0.104923  0.059937\n",
            "       2  0.147426  0.082677\n",
            "       3  0.265559  0.146594\n"
          ],
          "name": "stdout"
        }
      ]
    },
    {
      "cell_type": "markdown",
      "metadata": {
        "id": "Eqh4Cs9fzi5e"
      },
      "source": [
        "\n",
        "\n",
        "---\n",
        "\n",
        "\n",
        "\n",
        "---\n",
        "\n",
        "\n",
        "\n",
        "---\n",
        "\n"
      ]
    }
  ]
}