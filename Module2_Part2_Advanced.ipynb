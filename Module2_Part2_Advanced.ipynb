{
  "nbformat": 4,
  "nbformat_minor": 0,
  "metadata": {
    "colab": {
      "name": "Module2_Part2_Advanced.ipynb",
      "provenance": [],
      "collapsed_sections": [],
      "authorship_tag": "ABX9TyNTxDCsw9+Yz/+AWIcg5Jm6",
      "include_colab_link": true
    },
    "kernelspec": {
      "name": "python3",
      "display_name": "Python 3"
    }
  },
  "cells": [
    {
      "cell_type": "markdown",
      "metadata": {
        "id": "view-in-github",
        "colab_type": "text"
      },
      "source": [
        "<a href=\"https://colab.research.google.com/github/christophermalone/HLA311/blob/main/Module2_Part2_Advanced.ipynb\" target=\"_parent\"><img src=\"https://colab.research.google.com/assets/colab-badge.svg\" alt=\"Open In Colab\"/></a>"
      ]
    },
    {
      "cell_type": "markdown",
      "metadata": {
        "id": "zQXd5cZ9SMmv"
      },
      "source": [
        "# Module 2 | Part 2: FILTER() Action - Advanced Level "
      ]
    },
    {
      "cell_type": "markdown",
      "metadata": {
        "id": "F5v4zW5-EvjX"
      },
      "source": [
        "This purpose of this iPython Notebook is to communicate the process by which a data scientist would perform a FILTER() action using Python."
      ]
    },
    {
      "cell_type": "markdown",
      "metadata": {
        "id": "cHFbYOB8JK4u"
      },
      "source": [
        "<table width='100%' ><tr><td bgcolor='green'></td></tr></table>\n",
        "\n",
        "## Example #1 - Chronic Disease Data\n",
        "\n",
        "For this example, we will consider the disparities that exist across race for common chronic diseases in the United States.  The ChronicDiseasebyRace_Counties.csv file can be found in the Data Folder.\n",
        "\n",
        "Source: https://data.cms.gov/mapping-medicare-disparities\n",
        "\n",
        "Data Folder: https://drive.google.com/drive/folders/1619cjbolTO-UDmrhir9KIa7fXe0Yainw?usp=sharing \n",
        "\n",
        "\n",
        "The data processing steps for this example will include:\n",
        "*   Automatically load the data file into Python\n",
        "*   Preform a FILTER action to obtain only the counties in MN or WI. \n",
        "*   Perform a SELECT action to obtain the following fields: FIPS, County, State, Condition, Urban/Rural, Total, NumberBeneficiaries\n",
        "*   Write out the desired data table so further analyses can be completed\n",
        "\n",
        "<table width='100%' ><tr><td bgcolor='green'></td></tr></table>"
      ]
    },
    {
      "cell_type": "markdown",
      "metadata": {
        "id": "8_8JrHrvKGt4"
      },
      "source": [
        "### Step 1: Load the data in Python"
      ]
    },
    {
      "cell_type": "code",
      "metadata": {
        "id": "zn5kVKnQ0yHo"
      },
      "source": [
        "#Load the pandas package\n",
        "import pandas as pd"
      ],
      "execution_count": 32,
      "outputs": []
    },
    {
      "cell_type": "code",
      "metadata": {
        "id": "WInti-vo02W4"
      },
      "source": [
        "#Use read_table to read in the tab delimited file into Python\n",
        "ChronicDiseases = pd.read_csv('http://www.statsclass.org/online/hla311/datasets/ChronicDiseasebyRace_Counties.csv') "
      ],
      "execution_count": 33,
      "outputs": []
    },
    {
      "cell_type": "code",
      "metadata": {
        "colab": {
          "base_uri": "https://localhost:8080/"
        },
        "id": "fNJXKkiM7zp7",
        "outputId": "9c2bc9d9-21be-4a2b-abc8-9bca7bea8ff2"
      },
      "source": [
        "#How many records and fields\n",
        "ChronicDiseases.shape"
      ],
      "execution_count": 34,
      "outputs": [
        {
          "output_type": "execute_result",
          "data": {
            "text/plain": [
              "(16115, 19)"
            ]
          },
          "metadata": {
            "tags": []
          },
          "execution_count": 34
        }
      ]
    },
    {
      "cell_type": "code",
      "metadata": {
        "id": "BTSbvhln1Xmq"
      },
      "source": [
        "#View the first 5 records\n",
        "ChronicDiseases.head(n=5)"
      ],
      "execution_count": null,
      "outputs": []
    },
    {
      "cell_type": "markdown",
      "metadata": {
        "id": "CsJizOnM64xO"
      },
      "source": [
        "Next, install the dfply package that can be used to invoke various data verbs in Python"
      ]
    },
    {
      "cell_type": "code",
      "metadata": {
        "colab": {
          "base_uri": "https://localhost:8080/"
        },
        "id": "PUp6UuNH2EHw",
        "outputId": "9b78f2f5-ea68-4c4e-80f2-d8ce89ddc902"
      },
      "source": [
        "pip install dfply"
      ],
      "execution_count": 36,
      "outputs": [
        {
          "output_type": "stream",
          "text": [
            "Requirement already satisfied: dfply in /usr/local/lib/python3.7/dist-packages (0.3.3)\n",
            "Requirement already satisfied: pandas in /usr/local/lib/python3.7/dist-packages (from dfply) (1.1.5)\n",
            "Requirement already satisfied: numpy in /usr/local/lib/python3.7/dist-packages (from dfply) (1.19.5)\n",
            "Requirement already satisfied: pytz>=2017.2 in /usr/local/lib/python3.7/dist-packages (from pandas->dfply) (2018.9)\n",
            "Requirement already satisfied: python-dateutil>=2.7.3 in /usr/local/lib/python3.7/dist-packages (from pandas->dfply) (2.8.1)\n",
            "Requirement already satisfied: six>=1.5 in /usr/local/lib/python3.7/dist-packages (from python-dateutil>=2.7.3->pandas->dfply) (1.15.0)\n"
          ],
          "name": "stdout"
        }
      ]
    },
    {
      "cell_type": "code",
      "metadata": {
        "id": "SA3rn_0j2NRA"
      },
      "source": [
        "#Load the dfply package\n",
        "from dfply import *"
      ],
      "execution_count": 37,
      "outputs": []
    },
    {
      "cell_type": "markdown",
      "metadata": {
        "id": "gQsNzSRI6O_l"
      },
      "source": [
        "### Step #2: FILTER Action"
      ]
    },
    {
      "cell_type": "markdown",
      "metadata": {
        "id": "wFGkWTjx8jBM"
      },
      "source": [
        "As a first step, let us obtain information for only Minnesota, i.e MN,  counties."
      ]
    },
    {
      "cell_type": "code",
      "metadata": {
        "id": "ydkByRrH2Ea7"
      },
      "source": [
        "##Apply a filter on State for MN counties\n",
        "ChronicDiseases_MN = (\n",
        "                    ChronicDiseases\n",
        "                    >> filter_by(X.State == 'MN')\n",
        "                  )\n",
        "\n",
        "#Pretty print the desired table\n",
        "print(ChronicDiseases_MN.to_string(index=False))"
      ],
      "execution_count": null,
      "outputs": []
    },
    {
      "cell_type": "markdown",
      "metadata": {
        "id": "7cmEOfos8uMx"
      },
      "source": [
        "Next, let us include the counties from Wisconsin, i.e. WI."
      ]
    },
    {
      "cell_type": "code",
      "metadata": {
        "id": "ACGiRRSU8uUK"
      },
      "source": [
        "##Apply a filter on State for MN OR WI counties\n",
        "ChronicDiseases_MNandWI = (\n",
        "                    ChronicDiseases\n",
        "                    >> filter_by( (X.State == 'MN') | (X.State == 'WI') )\n",
        "                  )\n",
        "\n",
        "#Pretty print the desired table\n",
        "print(ChronicDiseases_MNandWI.to_string(index=False))"
      ],
      "execution_count": null,
      "outputs": []
    },
    {
      "cell_type": "markdown",
      "metadata": {
        "id": "eb72YxZ7_2vW"
      },
      "source": [
        "### Step #3: Apply FILTER action and SELECT action"
      ]
    },
    {
      "cell_type": "code",
      "metadata": {
        "id": "VMd6leaD_21c"
      },
      "source": [
        "##Apply filter on State of MN or WI counties, and apply select to obtain desired columns\n",
        "ChronicDiseases_MNandWI = (\n",
        "                    ChronicDiseases\n",
        "                    >> filter_by( (X.State == 'MN') | (X.State == 'WI') )\n",
        "                    >> select(X.FIPS,X.County, X.State, X.Condition, X.UrbanRural, X.Total, X.NumberBeneficiaries )\n",
        "                  )\n",
        "\n",
        "#Pretty print the desired table\n",
        "print(ChronicDiseases_MNandWI.to_string(index=False))"
      ],
      "execution_count": null,
      "outputs": []
    },
    {
      "cell_type": "markdown",
      "metadata": {
        "id": "lQYQHiBoWUHE"
      },
      "source": [
        "### Step #4: Write out the desired data table (csv file)"
      ]
    },
    {
      "cell_type": "code",
      "metadata": {
        "id": "WTTynfDRWUNS"
      },
      "source": [
        "#Use read_table to read in the tab delimited file into Python\n",
        "ChronicDiseases_MNandWI.to_csv('/content/ChronicDiseases_MNandWI.csv', sep=',', encoding='utf-8', index=False)"
      ],
      "execution_count": 44,
      "outputs": []
    },
    {
      "cell_type": "markdown",
      "metadata": {
        "id": "gUFmdIu3XeWL"
      },
      "source": [
        "**Note**: The desired data file can be downloaded from the content folder -- expand the folder near the upper left side of screen to view its contents."
      ]
    },
    {
      "cell_type": "markdown",
      "metadata": {
        "id": "RzWGTDi0Xbpc"
      },
      "source": [
        "\n",
        "\n",
        "---\n",
        "\n",
        "\n",
        "\n",
        "---\n",
        "\n",
        "\n",
        "\n",
        "---\n",
        "\n"
      ]
    },
    {
      "cell_type": "markdown",
      "metadata": {
        "id": "o3ZSnLEUCICn"
      },
      "source": [
        "<table width='100%' ><tr><td bgcolor='green'></td></tr></table>\n",
        "\n",
        "## Example 2 - Home Health Care\n",
        "\n",
        "For this example, we will consider information regarding the Home Health Care agencies across the United Staes.  The data used for this example can be downloaded from the folder below.\n",
        "\n",
        "Source: https://data.cms.gov/provider-data/dataset/6jpm-sxkc\n",
        "\n",
        "Data Folder: https://drive.google.com/drive/folders/1619cjbolTO-UDmrhir9KIa7fXe0Yainw?usp=sharing \n",
        "\n",
        "\n",
        "The data processing steps for this example will include:\n",
        "*   Automatically load the data file into Python\n",
        "*   Preform a FILTER action to obtain only the home health care agencies in MN; there is not a designated State field, State information can be found by searching the MailingAddress field \n",
        "*   Write out the desired data table so further analyses can be completed\n",
        "\n",
        "<table width='100%' ><tr><td bgcolor='green'></td></tr></table>"
      ]
    },
    {
      "cell_type": "markdown",
      "metadata": {
        "id": "xQnqNp-8Dbp_"
      },
      "source": [
        "### Step 1: Load the data into Python"
      ]
    },
    {
      "cell_type": "markdown",
      "metadata": {
        "id": "vc22y-i4Dj54"
      },
      "source": [
        "The various Python packages are already loaded; thus, we can proceed with the loading this file into Python."
      ]
    },
    {
      "cell_type": "code",
      "metadata": {
        "id": "PtRAhzZcCIfW"
      },
      "source": [
        "#Use read_table to read in the tab delimited file into Python\n",
        "HomeHealthCare = pd.read_csv('http://www.statsclass.org/online/hla311/datasets/HomeHealthCare_AllAgencies_US.csv') "
      ],
      "execution_count": 46,
      "outputs": []
    },
    {
      "cell_type": "code",
      "metadata": {
        "colab": {
          "base_uri": "https://localhost:8080/"
        },
        "id": "zH6SG8vQD0UV",
        "outputId": "4b08783c-9fff-433e-cde4-83604da89aad"
      },
      "source": [
        "#How many records and fields\n",
        "HomeHealthCare.shape"
      ],
      "execution_count": 47,
      "outputs": [
        {
          "output_type": "execute_result",
          "data": {
            "text/plain": [
              "(11176, 18)"
            ]
          },
          "metadata": {
            "tags": []
          },
          "execution_count": 47
        }
      ]
    },
    {
      "cell_type": "code",
      "metadata": {
        "colab": {
          "base_uri": "https://localhost:8080/",
          "height": 447
        },
        "id": "abNN4Oe-D40e",
        "outputId": "0e82d064-3de5-4dc7-d17e-388708c48ad3"
      },
      "source": [
        "#View the first 5 records\n",
        "HomeHealthCare.head(n=5)"
      ],
      "execution_count": 48,
      "outputs": [
        {
          "output_type": "execute_result",
          "data": {
            "text/html": [
              "<div>\n",
              "<style scoped>\n",
              "    .dataframe tbody tr th:only-of-type {\n",
              "        vertical-align: middle;\n",
              "    }\n",
              "\n",
              "    .dataframe tbody tr th {\n",
              "        vertical-align: top;\n",
              "    }\n",
              "\n",
              "    .dataframe thead th {\n",
              "        text-align: right;\n",
              "    }\n",
              "</style>\n",
              "<table border=\"1\" class=\"dataframe\">\n",
              "  <thead>\n",
              "    <tr style=\"text-align: right;\">\n",
              "      <th></th>\n",
              "      <th>CMSID</th>\n",
              "      <th>ProviderName</th>\n",
              "      <th>MailingAddress</th>\n",
              "      <th>Phone</th>\n",
              "      <th>Type of Ownership</th>\n",
              "      <th>NursingCareServices</th>\n",
              "      <th>PhysicalTherapyServices</th>\n",
              "      <th>OccupationalTherapyServices</th>\n",
              "      <th>SpeechPathologyServices</th>\n",
              "      <th>MedicalSocialServices</th>\n",
              "      <th>HomeHealthAideServices</th>\n",
              "      <th>DateCertified</th>\n",
              "      <th>PatientCareStarRating</th>\n",
              "      <th>HowOften_PatientsCareTimely</th>\n",
              "      <th>HowOften_Checkedfordepression</th>\n",
              "      <th>HowOften_Admittedtohospital</th>\n",
              "      <th>HowMuch_Medicarespendsperepisode_comparedtoallagenciesnationally</th>\n",
              "      <th>NumberCases_Medicarespendsperepisode_comparedtoallagenciesnationally</th>\n",
              "    </tr>\n",
              "  </thead>\n",
              "  <tbody>\n",
              "    <tr>\n",
              "      <th>0</th>\n",
              "      <td>17000</td>\n",
              "      <td>ALABAMA DEPARTMENT OF PUBLIC HEALTH HOME CARE</td>\n",
              "      <td>201 MONROE STREET THE RSA TOWER  SUITE 1200,MO...</td>\n",
              "      <td>3342065341</td>\n",
              "      <td>GOVERNMENT - STATE/COUNTY</td>\n",
              "      <td>Yes</td>\n",
              "      <td>Yes</td>\n",
              "      <td>Yes</td>\n",
              "      <td>Yes</td>\n",
              "      <td>Yes</td>\n",
              "      <td>Yes</td>\n",
              "      <td>7/1/1966</td>\n",
              "      <td>4.0</td>\n",
              "      <td>93.4</td>\n",
              "      <td>95.4</td>\n",
              "      <td>14.4</td>\n",
              "      <td>0.89</td>\n",
              "      <td>2130</td>\n",
              "    </tr>\n",
              "    <tr>\n",
              "      <th>1</th>\n",
              "      <td>17009</td>\n",
              "      <td>ENCOMPASS HEALTH HOME HEALTH</td>\n",
              "      <td>2970 LORNA ROAD,BIRMINGHAM,AL,35216</td>\n",
              "      <td>2058242680</td>\n",
              "      <td>PROPRIETARY</td>\n",
              "      <td>Yes</td>\n",
              "      <td>Yes</td>\n",
              "      <td>Yes</td>\n",
              "      <td>Yes</td>\n",
              "      <td>Yes</td>\n",
              "      <td>Yes</td>\n",
              "      <td>1/18/1973</td>\n",
              "      <td>3.5</td>\n",
              "      <td>97.1</td>\n",
              "      <td>99.5</td>\n",
              "      <td>16.0</td>\n",
              "      <td>0.99</td>\n",
              "      <td>19072</td>\n",
              "    </tr>\n",
              "    <tr>\n",
              "      <th>2</th>\n",
              "      <td>17013</td>\n",
              "      <td>KINDRED AT HOME</td>\n",
              "      <td>1239 RUCKER BLVD,ENTERPRISE,AL,36330</td>\n",
              "      <td>3343470234</td>\n",
              "      <td>PROPRIETARY</td>\n",
              "      <td>Yes</td>\n",
              "      <td>Yes</td>\n",
              "      <td>Yes</td>\n",
              "      <td>No</td>\n",
              "      <td>No</td>\n",
              "      <td>Yes</td>\n",
              "      <td>7/24/1975</td>\n",
              "      <td>4.0</td>\n",
              "      <td>99.8</td>\n",
              "      <td>99.6</td>\n",
              "      <td>15.4</td>\n",
              "      <td>1.08</td>\n",
              "      <td>1734</td>\n",
              "    </tr>\n",
              "    <tr>\n",
              "      <th>3</th>\n",
              "      <td>17014</td>\n",
              "      <td>AMEDISYS HOME HEALTH</td>\n",
              "      <td>68278 MAIN STREET,BLOUNTSVILLE,AL,35031</td>\n",
              "      <td>8664864919</td>\n",
              "      <td>PROPRIETARY</td>\n",
              "      <td>Yes</td>\n",
              "      <td>Yes</td>\n",
              "      <td>Yes</td>\n",
              "      <td>Yes</td>\n",
              "      <td>Yes</td>\n",
              "      <td>Yes</td>\n",
              "      <td>9/4/1975</td>\n",
              "      <td>4.5</td>\n",
              "      <td>99.6</td>\n",
              "      <td>84.1</td>\n",
              "      <td>11.0</td>\n",
              "      <td>0.98</td>\n",
              "      <td>882</td>\n",
              "    </tr>\n",
              "    <tr>\n",
              "      <th>4</th>\n",
              "      <td>17016</td>\n",
              "      <td>SOUTHEAST ALABAMA HOMECARE</td>\n",
              "      <td>804 GLOVER AVENUE,ENTERPRISE,AL,36330</td>\n",
              "      <td>3343474800</td>\n",
              "      <td>PROPRIETARY</td>\n",
              "      <td>Yes</td>\n",
              "      <td>Yes</td>\n",
              "      <td>Yes</td>\n",
              "      <td>Yes</td>\n",
              "      <td>Yes</td>\n",
              "      <td>Yes</td>\n",
              "      <td>6/9/1976</td>\n",
              "      <td>4.5</td>\n",
              "      <td>99.4</td>\n",
              "      <td>100.0</td>\n",
              "      <td>15.7</td>\n",
              "      <td>0.99</td>\n",
              "      <td>1187</td>\n",
              "    </tr>\n",
              "  </tbody>\n",
              "</table>\n",
              "</div>"
            ],
            "text/plain": [
              "   CMSID  ... NumberCases_Medicarespendsperepisode_comparedtoallagenciesnationally\n",
              "0  17000  ...                                               2130                  \n",
              "1  17009  ...                                              19072                  \n",
              "2  17013  ...                                               1734                  \n",
              "3  17014  ...                                                882                  \n",
              "4  17016  ...                                               1187                  \n",
              "\n",
              "[5 rows x 18 columns]"
            ]
          },
          "metadata": {
            "tags": []
          },
          "execution_count": 48
        }
      ]
    },
    {
      "cell_type": "markdown",
      "metadata": {
        "id": "5y3qBY0-ESGF"
      },
      "source": [
        "### Step 2: Apply FILTER Action"
      ]
    },
    {
      "cell_type": "markdown",
      "metadata": {
        "id": "SP4nJk8KFItQ"
      },
      "source": [
        "Here, the Mailing Address field will need to be searched to identify whether or not the record should be retained, i.e. is from MN.  The <strong>str.contains()</strong> function will be used to accomplish this task."
      ]
    },
    {
      "cell_type": "code",
      "metadata": {
        "id": "ISrsa2QDESNV"
      },
      "source": [
        "##Apply a filter on State for MN counties\n",
        "HomeHealthCare_MN = (\n",
        "                   HomeHealthCare\n",
        "                    >> filter_by(X.MailingAddress.str.contains(',MN,'))\n",
        "                  )\n",
        "\n",
        "#Pretty print the desired table\n",
        "print(HomeHealthCare_MN.to_string(index=False))"
      ],
      "execution_count": null,
      "outputs": []
    },
    {
      "cell_type": "markdown",
      "metadata": {
        "id": "BBrQQVjVFcyZ"
      },
      "source": [
        "### Step 3: Write the desired data table (CSV file)"
      ]
    },
    {
      "cell_type": "code",
      "metadata": {
        "id": "sHnq-QsEFc71"
      },
      "source": [
        "#Use read_table to read in the tab delimited file into Python\n",
        "HomeHealthCare_MN.to_csv('/content/HomeHealthCare_MN', sep=',', encoding='utf-8', index=False)"
      ],
      "execution_count": 51,
      "outputs": []
    },
    {
      "cell_type": "markdown",
      "metadata": {
        "id": "W5WjIC0JFw8n"
      },
      "source": [
        "\n",
        "\n",
        "---\n",
        "\n",
        "\n",
        "\n",
        "---\n",
        "\n",
        "\n",
        "\n",
        "---\n",
        "\n"
      ]
    }
  ]
}