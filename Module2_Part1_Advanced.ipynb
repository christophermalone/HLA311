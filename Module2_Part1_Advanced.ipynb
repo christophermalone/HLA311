{
  "nbformat": 4,
  "nbformat_minor": 0,
  "metadata": {
    "colab": {
      "name": "Module2_Part1_Advanced.ipynb",
      "provenance": [],
      "collapsed_sections": [],
      "toc_visible": true,
      "authorship_tag": "ABX9TyP+ZU+7EZXN2PpJS0ObOa/y",
      "include_colab_link": true
    },
    "kernelspec": {
      "name": "python3",
      "display_name": "Python 3"
    }
  },
  "cells": [
    {
      "cell_type": "markdown",
      "metadata": {
        "id": "view-in-github",
        "colab_type": "text"
      },
      "source": [
        "<a href=\"https://colab.research.google.com/github/christophermalone/HLA311/blob/main/Module2_Part1_Advanced.ipynb\" target=\"_parent\"><img src=\"https://colab.research.google.com/assets/colab-badge.svg\" alt=\"Open In Colab\"/></a>"
      ]
    },
    {
      "cell_type": "markdown",
      "metadata": {
        "id": "zQXd5cZ9SMmv"
      },
      "source": [
        "# Module 2 | Part 1: SELECT() Action - Advanced Level "
      ]
    },
    {
      "cell_type": "markdown",
      "metadata": {
        "id": "F5v4zW5-EvjX"
      },
      "source": [
        "This purpose of this iPython Notebook is to communicate the process by which a data scientist would perform a SELECT() action using Python."
      ]
    },
    {
      "cell_type": "markdown",
      "metadata": {
        "id": "cHFbYOB8JK4u"
      },
      "source": [
        "<table width='100%' ><tr><td bgcolor='green'></td></tr></table>\n",
        "\n",
        "## Example - MN Asthma Rates by County\n",
        "This example will consider  the asthma rate in the 87 counties in Minnesota.  The data for this example will be obtained from the Minnesota Department of Health Public Data Portal.\n",
        "\n",
        "*   Asthma Query: https://data.web.health.state.mn.us/web/mndata/asthma_query\n",
        "*   Data Access Portal (Topics): https://data.web.health.state.mn.us/web/mndata/home\n",
        "\n",
        "\n",
        "The data processing steps for this example will include:\n",
        "*   Automatically download the file from the internet\n",
        "*   Remove all information contained in the footer of the data file\n",
        "*   Fix the issue related to the missing field, i.e. County field name is missing\n",
        "*   Load the data into Python\n",
        "*   Perform a SELECT action to retrieve FIPS, County, Count, Population, and Rate\n",
        "*   Write out the desired data table so further analyses can be completed\n",
        "\n",
        "<table width='100%' ><tr><td bgcolor='green'></td></tr></table>"
      ]
    },
    {
      "cell_type": "markdown",
      "metadata": {
        "id": "8_8JrHrvKGt4"
      },
      "source": [
        "### Step 1: Download the data"
      ]
    },
    {
      "cell_type": "markdown",
      "metadata": {
        "id": "SAGmUIgbizjP"
      },
      "source": [
        "Create the script to complete the download the data"
      ]
    },
    {
      "cell_type": "code",
      "metadata": {
        "id": "uK0is1NqSHaL"
      },
      "source": [
        "#Create a file that contains a set of commands to download file\n",
        "%%bash\n",
        "{  \n",
        " echo 'wget -O  /content/MN_Asthma_Counties.csv http://www.statsclass.org/online/hla311/datasets/MN_Asthma_Counties.csv'\n",
        " } > Download_MNAsthma.sh"
      ],
      "execution_count": 1,
      "outputs": []
    },
    {
      "cell_type": "markdown",
      "metadata": {
        "id": "1GaG0yBLNka7"
      },
      "source": [
        "Run the script to complete the download"
      ]
    },
    {
      "cell_type": "code",
      "metadata": {
        "colab": {
          "base_uri": "https://localhost:8080/"
        },
        "id": "a5meF9MfiE6g",
        "outputId": "7528db3f-1a3d-47ff-bd02-d6ab7aeb27d7"
      },
      "source": [
        "#Complete the actual download of the data\n",
        "%%bash\n",
        "bash Download_MNAsthma.sh"
      ],
      "execution_count": 2,
      "outputs": [
        {
          "output_type": "stream",
          "text": [
            "--2021-05-25 15:37:48--  http://www.statsclass.org/online/hla311/datasets/MN_Asthma_Counties.csv\n",
            "Resolving www.statsclass.org (www.statsclass.org)... 192.254.227.17\n",
            "Connecting to www.statsclass.org (www.statsclass.org)|192.254.227.17|:80... connected.\n",
            "HTTP request sent, awaiting response... 200 OK\n",
            "Length: 13492 (13K) [text/csv]\n",
            "Saving to: ‘/content/MN_Asthma_Counties.csv’\n",
            "\n",
            "     0K .......... ...                                        100% 98.4M=0s\n",
            "\n",
            "2021-05-25 15:37:49 (98.4 MB/s) - ‘/content/MN_Asthma_Counties.csv’ saved [13492/13492]\n",
            "\n"
          ],
          "name": "stderr"
        }
      ]
    },
    {
      "cell_type": "markdown",
      "metadata": {
        "id": "gzqF-HVnTs-m"
      },
      "source": [
        "## Step 2: Remove Information in Footer"
      ]
    },
    {
      "cell_type": "markdown",
      "metadata": {
        "id": "6W7xOuu_Lxx_"
      },
      "source": [
        "Taking a look at the footer information in this file -- the last 18 lines need to be deleted"
      ]
    },
    {
      "cell_type": "code",
      "metadata": {
        "colab": {
          "base_uri": "https://localhost:8080/"
        },
        "id": "70yzip9Y5h8e",
        "outputId": "09aefe6a-e816-4696-c8bb-5a2545e330f0"
      },
      "source": [
        "#View the footer contents of the file\n",
        "!tail -20 '/content/MN_Asthma_Counties.csv'"
      ],
      "execution_count": 6,
      "outputs": [
        {
          "output_type": "stream",
          "text": [
            "\"27171\",\"Wright\",\"Emergency department visits\",\"2016-2018\",\"All\",\"All ages\",\"670.2\",\"399395\",\"16.8\",\"(15.5 - 18.1)\",\"17.4\",\"(16.0 - 18.7)\"\r\n",
            "\"27173\",\"Yellow Medicine\",\"Emergency department visits\",\"2016-2018\",\"All\",\"All ages\",\"81.2\",\"28968\",\"28.0\",\"(22.3 - 34.8)\",\"32.1\",\"(25.3 - 40.2)\"\r\n",
            "\r\n",
            "* To protect an individual's privacy hospitalizations and ED visit counts from 1 to 5 are suppressed if the underlying population is less than or equal to 100000.\n",
            "UR = Unstable Rate. Rates based on numerators less than or equal to 20 may be unstable and should be interpreted with caution.\n",
            "** Person-years is equal to the sum of the population for each year.\n",
            "***Age-adjusted rates can only be calculated for \"All ages combined\".\n",
            "Hospitalizations data do not include data from federal and sovereign hospitals (e.g. Veteran's Administration; Indian Health Service) or data on Minnesota residents seen in facilities outside of Minnesota and North Dakota. For more information see About the Asthma Data: http://health.mn.gov/mndataasthma_metadata\n",
            "\n",
            "Source:\n",
            "Minnesota Public Health Data Access\n",
            "Minnesota Environmental Public Health Tracking Program\n",
            "Minnesota Department of Health\n",
            "P.O. Box 64882\n",
            "\"St. Paul, MN 55164-0882\"\n",
            "Phone: (651) 201-5900 or toll free: 1-800-205-4987\n",
            "Fax: (651) 201-5926\n",
            "E-mail: tracking.health@state.mn.us\n",
            "Web: http://health.mn.gov/mndata \n",
            "\n"
          ],
          "name": "stdout"
        }
      ]
    },
    {
      "cell_type": "code",
      "metadata": {
        "id": "-t3eNS5Ajxgj"
      },
      "source": [
        "#Removing the information in footer\n",
        "%%bash\n",
        "sed -i -e 90,108d '/content/MN_Asthma_Counties.csv'"
      ],
      "execution_count": 7,
      "outputs": []
    },
    {
      "cell_type": "code",
      "metadata": {
        "colab": {
          "base_uri": "https://localhost:8080/"
        },
        "id": "8mvitKPBUGQN",
        "outputId": "25ca4500-0141-4441-eb19-f5fa881356ae"
      },
      "source": [
        "#Check to make sure all footer information has been successfully removed\n",
        "!tail '/content/MN_Asthma_Counties.csv'"
      ],
      "execution_count": 11,
      "outputs": [
        {
          "output_type": "stream",
          "text": [
            "\"27155\",\"Traverse\",\"Emergency department visits\",\"2016-2018\",\"All\",\"All ages\",\"19.0\",\"9681\",\"19.6 (UR)\",\"(11.8 - 30.6) (UR)\",\"23.6 (UR)\",\"(14.0 - 37.2) (UR)\"\r\n",
            "\"27157\",\"Wabasha\",\"Emergency department visits\",\"2016-2018\",\"All\",\"All ages\",\"181.9\",\"63674\",\"28.6\",\"(24.4 - 32.7)\",\"34.3\",\"(29.2 - 39.4)\"\r\n",
            "\"27159\",\"Wadena\",\"Emergency department visits\",\"2016-2018\",\"All\",\"All ages\",\"134.8\",\"40191\",\"33.5\",\"(27.9 - 39.2)\",\"36.9\",\"(30.4 - 43.3)\"\r\n",
            "\"27161\",\"Waseca\",\"Emergency department visits\",\"2016-2018\",\"All\",\"All ages\",\"232.5\",\"55427\",\"42.0\",\"(36.6 - 47.3)\",\"44.1\",\"(38.3 - 49.9)\"\r\n",
            "\"27163\",\"Washington\",\"Emergency department visits\",\"2016-2018\",\"All\",\"All ages\",\"1484.1\",\"759716\",\"19.5\",\"(18.5 - 20.5)\",\"20.9\",\"(19.8 - 21.9)\"\r\n",
            "\"27165\",\"Watonwan\",\"Emergency department visits\",\"2016-2018\",\"All\",\"All ages\",\"117.0\",\"32243\",\"36.3\",\"(29.7 - 42.9)\",\"38.6\",\"(31.4 - 45.7)\"\r\n",
            "\"27167\",\"Wilkin\",\"Emergency department visits\",\"2016-2018\",\"All\",\"All ages\",\"68.0\",\"18517\",\"36.7\",\"(28.5 - 46.5)\",\"40.3\",\"(31.0 - 51.4)\"\r\n",
            "\"27169\",\"Winona\",\"Emergency department visits\",\"2016-2018\",\"All\",\"All ages\",\"369.1\",\"150360\",\"24.5\",\"(22.0 - 27.1)\",\"29.0\",\"(25.8 - 32.1)\"\r\n",
            "\"27171\",\"Wright\",\"Emergency department visits\",\"2016-2018\",\"All\",\"All ages\",\"670.2\",\"399395\",\"16.8\",\"(15.5 - 18.1)\",\"17.4\",\"(16.0 - 18.7)\"\r\n",
            "\"27173\",\"Yellow Medicine\",\"Emergency department visits\",\"2016-2018\",\"All\",\"All ages\",\"81.2\",\"28968\",\"28.0\",\"(22.3 - 34.8)\",\"32.1\",\"(25.3 - 40.2)\"\r\n"
          ],
          "name": "stdout"
        }
      ]
    },
    {
      "cell_type": "markdown",
      "metadata": {
        "id": "ArOxpTIlzNfZ"
      },
      "source": [
        "### Step 3: Fix Field Labels"
      ]
    },
    {
      "cell_type": "markdown",
      "metadata": {
        "id": "XAbZch6MQ7q8"
      },
      "source": [
        "Taking a look at existing header -- notice that the County field name (2nd column) is missing."
      ]
    },
    {
      "cell_type": "code",
      "metadata": {
        "colab": {
          "base_uri": "https://localhost:8080/"
        },
        "id": "AoyHDWH4Qh68",
        "outputId": "642daddb-d952-456e-e0e3-8ff994c4efda"
      },
      "source": [
        "#Taking a look at header\n",
        "!head '/content/MN_Asthma_Counties.csv'"
      ],
      "execution_count": 14,
      "outputs": [
        {
          "output_type": "stream",
          "text": [
            "fips,indicator,year,sex,age,count,population,rate,ci,ageAdjust,aci \r\n",
            "\"27000\",\"Minnesota\",\"Emergency department visits\",\"2016-2018\",\"All\",\"All ages\",\"53812.0\",\"16702743\",\"32.2\",\"(31.9 - 32.5)\",\"34.0\",\"(33.7 - 34.3)\"\r\n",
            "\"27001\",\"Aitkin\",\"Emergency department visits\",\"2016-2018\",\"All\",\"All ages\",\"139.9\",\"46342\",\"30.2\",\"(25.2 - 35.2)\",\"40.9\",\"(33.6 - 48.2)\"\r\n",
            "\"27003\",\"Anoka\",\"Emergency department visits\",\"2016-2018\",\"All\",\"All ages\",\"2830.7\",\"1040812\",\"27.2\",\"(26.2 - 28.2)\",\"29.1\",\"(28.0 - 30.2)\"\r\n",
            "\"27005\",\"Becker\",\"Emergency department visits\",\"2016-2018\",\"All\",\"All ages\",\"257.6\",\"100514\",\"25.6\",\"(22.5 - 28.8)\",\"29.2\",\"(25.6 - 32.9)\"\r\n",
            "\"27007\",\"Beltrami\",\"Emergency department visits\",\"2016-2018\",\"All\",\"All ages\",\"362.2\",\"137669\",\"26.3\",\"(23.6 - 29.0)\",\"28.0\",\"(25.0 - 31.0)\"\r\n",
            "\"27009\",\"Benton\",\"Emergency department visits\",\"2016-2018\",\"All\",\"All ages\",\"267.5\",\"118983\",\"22.5\",\"(19.8 - 25.2)\",\"23.3\",\"(20.5 - 26.2)\"\r\n",
            "\"27011\",\"Big Stone\",\"Emergency department visits\",\"2016-2018\",\"All\",\"All ages\",\"9.3\",\"14619\",\"6.4 (UR)\",\"(3.0 - 12.0) (UR)\",\"8.5 (UR)\",\"(3.8 - 16.4) (UR)\"\r\n",
            "\"27013\",\"Blue Earth\",\"Emergency department visits\",\"2016-2018\",\"All\",\"All ages\",\"552.0\",\"198426\",\"27.8\",\"(25.5 - 30.1)\",\"30.0\",\"(27.3 - 32.7)\"\r\n",
            "\"27015\",\"Brown\",\"Emergency department visits\",\"2016-2018\",\"All\",\"All ages\",\"128.4\",\"74072\",\"17.3\",\"(14.3 - 20.3)\",\"19.7\",\"(16.2 - 23.2)\"\r\n"
          ],
          "name": "stdout"
        }
      ]
    },
    {
      "cell_type": "code",
      "metadata": {
        "id": "JyLXYgcfRETD"
      },
      "source": [
        "#Removing the existing field names\n",
        "%%bash\n",
        "sed -i -e 1d '/content/MN_Asthma_Counties.csv'"
      ],
      "execution_count": 56,
      "outputs": []
    },
    {
      "cell_type": "code",
      "metadata": {
        "id": "pOY8CxcZRUyd"
      },
      "source": [
        "#Add in the new field names on line 1\n",
        "%%bash\n",
        "sed -i '1i fips,county,indicator,year,sex,age,counts,population,rate,ci,ageAdjust,aci'  '/content/MN_Asthma_Counties.csv'"
      ],
      "execution_count": 57,
      "outputs": []
    },
    {
      "cell_type": "code",
      "metadata": {
        "colab": {
          "base_uri": "https://localhost:8080/"
        },
        "id": "bJFBrv_GRzhD",
        "outputId": "6e2e7d0e-e2e6-4e52-9679-0e6552eb3a6d"
      },
      "source": [
        "#Taking a look at updated header \n",
        "!head '/content/MN_Asthma_Counties.csv'"
      ],
      "execution_count": 58,
      "outputs": [
        {
          "output_type": "stream",
          "text": [
            "fips,county,indicator,year,sex,age,counts,population,rate,ci,ageAdjust,aci\n",
            "\"27000\",\"Minnesota\",\"Emergency department visits\",\"2016-2018\",\"All\",\"All ages\",\"53812.0\",\"16702743\",\"32.2\",\"(31.9 - 32.5)\",\"34.0\",\"(33.7 - 34.3)\"\r\n",
            "\"27001\",\"Aitkin\",\"Emergency department visits\",\"2016-2018\",\"All\",\"All ages\",\"139.9\",\"46342\",\"30.2\",\"(25.2 - 35.2)\",\"40.9\",\"(33.6 - 48.2)\"\r\n",
            "\"27003\",\"Anoka\",\"Emergency department visits\",\"2016-2018\",\"All\",\"All ages\",\"2830.7\",\"1040812\",\"27.2\",\"(26.2 - 28.2)\",\"29.1\",\"(28.0 - 30.2)\"\r\n",
            "\"27005\",\"Becker\",\"Emergency department visits\",\"2016-2018\",\"All\",\"All ages\",\"257.6\",\"100514\",\"25.6\",\"(22.5 - 28.8)\",\"29.2\",\"(25.6 - 32.9)\"\r\n",
            "\"27007\",\"Beltrami\",\"Emergency department visits\",\"2016-2018\",\"All\",\"All ages\",\"362.2\",\"137669\",\"26.3\",\"(23.6 - 29.0)\",\"28.0\",\"(25.0 - 31.0)\"\r\n",
            "\"27009\",\"Benton\",\"Emergency department visits\",\"2016-2018\",\"All\",\"All ages\",\"267.5\",\"118983\",\"22.5\",\"(19.8 - 25.2)\",\"23.3\",\"(20.5 - 26.2)\"\r\n",
            "\"27011\",\"Big Stone\",\"Emergency department visits\",\"2016-2018\",\"All\",\"All ages\",\"9.3\",\"14619\",\"6.4 (UR)\",\"(3.0 - 12.0) (UR)\",\"8.5 (UR)\",\"(3.8 - 16.4) (UR)\"\r\n",
            "\"27013\",\"Blue Earth\",\"Emergency department visits\",\"2016-2018\",\"All\",\"All ages\",\"552.0\",\"198426\",\"27.8\",\"(25.5 - 30.1)\",\"30.0\",\"(27.3 - 32.7)\"\r\n",
            "\"27015\",\"Brown\",\"Emergency department visits\",\"2016-2018\",\"All\",\"All ages\",\"128.4\",\"74072\",\"17.3\",\"(14.3 - 20.3)\",\"19.7\",\"(16.2 - 23.2)\"\r\n"
          ],
          "name": "stdout"
        }
      ]
    },
    {
      "cell_type": "markdown",
      "metadata": {
        "id": "XOlxClvt0yAJ"
      },
      "source": [
        "\n",
        "\n",
        "---\n",
        "\n",
        "\n",
        "\n",
        "---\n",
        "\n",
        "\n",
        "\n",
        "---\n",
        "\n",
        "\n",
        "\n",
        "---\n",
        "\n"
      ]
    },
    {
      "cell_type": "markdown",
      "metadata": {
        "id": "gsfMzwMi52iO"
      },
      "source": [
        "### Step #4: Load Data into Python"
      ]
    },
    {
      "cell_type": "code",
      "metadata": {
        "id": "zn5kVKnQ0yHo"
      },
      "source": [
        "#Load the pandas package\n",
        "import pandas as pd"
      ],
      "execution_count": 25,
      "outputs": []
    },
    {
      "cell_type": "code",
      "metadata": {
        "id": "WInti-vo02W4"
      },
      "source": [
        "#Use read_table to read in the tab delimited file into Python\n",
        "MN_Asthma = pd.read_csv('/content/MN_Asthma_Counties.csv') "
      ],
      "execution_count": 59,
      "outputs": []
    },
    {
      "cell_type": "code",
      "metadata": {
        "colab": {
          "base_uri": "https://localhost:8080/",
          "height": 202
        },
        "id": "BTSbvhln1Xmq",
        "outputId": "ec1a4c0b-920b-4e1e-dec7-96ebb19f49f0"
      },
      "source": [
        "#Looking at first 5 records\n",
        "MN_Asthma.tail(n=5)"
      ],
      "execution_count": 51,
      "outputs": [
        {
          "output_type": "execute_result",
          "data": {
            "text/html": [
              "<div>\n",
              "<style scoped>\n",
              "    .dataframe tbody tr th:only-of-type {\n",
              "        vertical-align: middle;\n",
              "    }\n",
              "\n",
              "    .dataframe tbody tr th {\n",
              "        vertical-align: top;\n",
              "    }\n",
              "\n",
              "    .dataframe thead th {\n",
              "        text-align: right;\n",
              "    }\n",
              "</style>\n",
              "<table border=\"1\" class=\"dataframe\">\n",
              "  <thead>\n",
              "    <tr style=\"text-align: right;\">\n",
              "      <th></th>\n",
              "      <th>fips</th>\n",
              "      <th>county</th>\n",
              "      <th>indicator</th>\n",
              "      <th>year</th>\n",
              "      <th>sex</th>\n",
              "      <th>age</th>\n",
              "      <th>count</th>\n",
              "      <th>population</th>\n",
              "      <th>rate</th>\n",
              "      <th>ci</th>\n",
              "      <th>ageAdjust</th>\n",
              "      <th>aci</th>\n",
              "    </tr>\n",
              "  </thead>\n",
              "  <tbody>\n",
              "    <tr>\n",
              "      <th>83</th>\n",
              "      <td>27165</td>\n",
              "      <td>Watonwan</td>\n",
              "      <td>Emergency department visits</td>\n",
              "      <td>2016-2018</td>\n",
              "      <td>All</td>\n",
              "      <td>All ages</td>\n",
              "      <td>117.0</td>\n",
              "      <td>32243</td>\n",
              "      <td>36.3</td>\n",
              "      <td>(29.7 - 42.9)</td>\n",
              "      <td>38.6</td>\n",
              "      <td>(31.4 - 45.7)</td>\n",
              "    </tr>\n",
              "    <tr>\n",
              "      <th>84</th>\n",
              "      <td>27167</td>\n",
              "      <td>Wilkin</td>\n",
              "      <td>Emergency department visits</td>\n",
              "      <td>2016-2018</td>\n",
              "      <td>All</td>\n",
              "      <td>All ages</td>\n",
              "      <td>68.0</td>\n",
              "      <td>18517</td>\n",
              "      <td>36.7</td>\n",
              "      <td>(28.5 - 46.5)</td>\n",
              "      <td>40.3</td>\n",
              "      <td>(31.0 - 51.4)</td>\n",
              "    </tr>\n",
              "    <tr>\n",
              "      <th>85</th>\n",
              "      <td>27169</td>\n",
              "      <td>Winona</td>\n",
              "      <td>Emergency department visits</td>\n",
              "      <td>2016-2018</td>\n",
              "      <td>All</td>\n",
              "      <td>All ages</td>\n",
              "      <td>369.1</td>\n",
              "      <td>150360</td>\n",
              "      <td>24.5</td>\n",
              "      <td>(22.0 - 27.1)</td>\n",
              "      <td>29.0</td>\n",
              "      <td>(25.8 - 32.1)</td>\n",
              "    </tr>\n",
              "    <tr>\n",
              "      <th>86</th>\n",
              "      <td>27171</td>\n",
              "      <td>Wright</td>\n",
              "      <td>Emergency department visits</td>\n",
              "      <td>2016-2018</td>\n",
              "      <td>All</td>\n",
              "      <td>All ages</td>\n",
              "      <td>670.2</td>\n",
              "      <td>399395</td>\n",
              "      <td>16.8</td>\n",
              "      <td>(15.5 - 18.1)</td>\n",
              "      <td>17.4</td>\n",
              "      <td>(16.0 - 18.7)</td>\n",
              "    </tr>\n",
              "    <tr>\n",
              "      <th>87</th>\n",
              "      <td>27173</td>\n",
              "      <td>Yellow Medicine</td>\n",
              "      <td>Emergency department visits</td>\n",
              "      <td>2016-2018</td>\n",
              "      <td>All</td>\n",
              "      <td>All ages</td>\n",
              "      <td>81.2</td>\n",
              "      <td>28968</td>\n",
              "      <td>28.0</td>\n",
              "      <td>(22.3 - 34.8)</td>\n",
              "      <td>32.1</td>\n",
              "      <td>(25.3 - 40.2)</td>\n",
              "    </tr>\n",
              "  </tbody>\n",
              "</table>\n",
              "</div>"
            ],
            "text/plain": [
              "     fips           county  ... ageAdjust            aci\n",
              "83  27165         Watonwan  ...      38.6  (31.4 - 45.7)\n",
              "84  27167           Wilkin  ...      40.3  (31.0 - 51.4)\n",
              "85  27169           Winona  ...      29.0  (25.8 - 32.1)\n",
              "86  27171           Wright  ...      17.4  (16.0 - 18.7)\n",
              "87  27173  Yellow Medicine  ...      32.1  (25.3 - 40.2)\n",
              "\n",
              "[5 rows x 12 columns]"
            ]
          },
          "metadata": {
            "tags": []
          },
          "execution_count": 51
        }
      ]
    },
    {
      "cell_type": "markdown",
      "metadata": {
        "id": "CsJizOnM64xO"
      },
      "source": [
        "Next, install the dfply package that can be used to invoke various data verbs in Python"
      ]
    },
    {
      "cell_type": "code",
      "metadata": {
        "colab": {
          "base_uri": "https://localhost:8080/"
        },
        "id": "PUp6UuNH2EHw",
        "outputId": "d3fb048c-ebbf-41a1-ee0d-bf7f1792d083"
      },
      "source": [
        "pip install dfply"
      ],
      "execution_count": 29,
      "outputs": [
        {
          "output_type": "stream",
          "text": [
            "Collecting dfply\n",
            "\u001b[?25l  Downloading https://files.pythonhosted.org/packages/53/91/18ab48c64661252dadff685f8ddbc6f456302923918f488714ee2345d49b/dfply-0.3.3-py3-none-any.whl (612kB)\n",
            "\r\u001b[K     |▌                               | 10kB 19.5MB/s eta 0:00:01\r\u001b[K     |█                               | 20kB 19.7MB/s eta 0:00:01\r\u001b[K     |█▋                              | 30kB 15.2MB/s eta 0:00:01\r\u001b[K     |██▏                             | 40kB 13.7MB/s eta 0:00:01\r\u001b[K     |██▊                             | 51kB 7.1MB/s eta 0:00:01\r\u001b[K     |███▏                            | 61kB 6.9MB/s eta 0:00:01\r\u001b[K     |███▊                            | 71kB 7.9MB/s eta 0:00:01\r\u001b[K     |████▎                           | 81kB 8.7MB/s eta 0:00:01\r\u001b[K     |████▉                           | 92kB 8.5MB/s eta 0:00:01\r\u001b[K     |█████▍                          | 102kB 6.8MB/s eta 0:00:01\r\u001b[K     |█████▉                          | 112kB 6.8MB/s eta 0:00:01\r\u001b[K     |██████▍                         | 122kB 6.8MB/s eta 0:00:01\r\u001b[K     |███████                         | 133kB 6.8MB/s eta 0:00:01\r\u001b[K     |███████▌                        | 143kB 6.8MB/s eta 0:00:01\r\u001b[K     |████████                        | 153kB 6.8MB/s eta 0:00:01\r\u001b[K     |████████▋                       | 163kB 6.8MB/s eta 0:00:01\r\u001b[K     |█████████                       | 174kB 6.8MB/s eta 0:00:01\r\u001b[K     |█████████▋                      | 184kB 6.8MB/s eta 0:00:01\r\u001b[K     |██████████▏                     | 194kB 6.8MB/s eta 0:00:01\r\u001b[K     |██████████▊                     | 204kB 6.8MB/s eta 0:00:01\r\u001b[K     |███████████▎                    | 215kB 6.8MB/s eta 0:00:01\r\u001b[K     |███████████▊                    | 225kB 6.8MB/s eta 0:00:01\r\u001b[K     |████████████▎                   | 235kB 6.8MB/s eta 0:00:01\r\u001b[K     |████████████▉                   | 245kB 6.8MB/s eta 0:00:01\r\u001b[K     |█████████████▍                  | 256kB 6.8MB/s eta 0:00:01\r\u001b[K     |██████████████                  | 266kB 6.8MB/s eta 0:00:01\r\u001b[K     |██████████████▌                 | 276kB 6.8MB/s eta 0:00:01\r\u001b[K     |███████████████                 | 286kB 6.8MB/s eta 0:00:01\r\u001b[K     |███████████████▌                | 296kB 6.8MB/s eta 0:00:01\r\u001b[K     |████████████████                | 307kB 6.8MB/s eta 0:00:01\r\u001b[K     |████████████████▋               | 317kB 6.8MB/s eta 0:00:01\r\u001b[K     |█████████████████▏              | 327kB 6.8MB/s eta 0:00:01\r\u001b[K     |█████████████████▋              | 337kB 6.8MB/s eta 0:00:01\r\u001b[K     |██████████████████▏             | 348kB 6.8MB/s eta 0:00:01\r\u001b[K     |██████████████████▊             | 358kB 6.8MB/s eta 0:00:01\r\u001b[K     |███████████████████▎            | 368kB 6.8MB/s eta 0:00:01\r\u001b[K     |███████████████████▉            | 378kB 6.8MB/s eta 0:00:01\r\u001b[K     |████████████████████▎           | 389kB 6.8MB/s eta 0:00:01\r\u001b[K     |████████████████████▉           | 399kB 6.8MB/s eta 0:00:01\r\u001b[K     |█████████████████████▍          | 409kB 6.8MB/s eta 0:00:01\r\u001b[K     |██████████████████████          | 419kB 6.8MB/s eta 0:00:01\r\u001b[K     |██████████████████████▌         | 430kB 6.8MB/s eta 0:00:01\r\u001b[K     |███████████████████████         | 440kB 6.8MB/s eta 0:00:01\r\u001b[K     |███████████████████████▌        | 450kB 6.8MB/s eta 0:00:01\r\u001b[K     |████████████████████████        | 460kB 6.8MB/s eta 0:00:01\r\u001b[K     |████████████████████████▋       | 471kB 6.8MB/s eta 0:00:01\r\u001b[K     |█████████████████████████▏      | 481kB 6.8MB/s eta 0:00:01\r\u001b[K     |█████████████████████████▊      | 491kB 6.8MB/s eta 0:00:01\r\u001b[K     |██████████████████████████▏     | 501kB 6.8MB/s eta 0:00:01\r\u001b[K     |██████████████████████████▊     | 512kB 6.8MB/s eta 0:00:01\r\u001b[K     |███████████████████████████▎    | 522kB 6.8MB/s eta 0:00:01\r\u001b[K     |███████████████████████████▉    | 532kB 6.8MB/s eta 0:00:01\r\u001b[K     |████████████████████████████▍   | 542kB 6.8MB/s eta 0:00:01\r\u001b[K     |█████████████████████████████   | 552kB 6.8MB/s eta 0:00:01\r\u001b[K     |█████████████████████████████▍  | 563kB 6.8MB/s eta 0:00:01\r\u001b[K     |██████████████████████████████  | 573kB 6.8MB/s eta 0:00:01\r\u001b[K     |██████████████████████████████▌ | 583kB 6.8MB/s eta 0:00:01\r\u001b[K     |███████████████████████████████ | 593kB 6.8MB/s eta 0:00:01\r\u001b[K     |███████████████████████████████▋| 604kB 6.8MB/s eta 0:00:01\r\u001b[K     |████████████████████████████████| 614kB 6.8MB/s \n",
            "\u001b[?25hRequirement already satisfied: pandas in /usr/local/lib/python3.7/dist-packages (from dfply) (1.1.5)\n",
            "Requirement already satisfied: numpy in /usr/local/lib/python3.7/dist-packages (from dfply) (1.19.5)\n",
            "Requirement already satisfied: python-dateutil>=2.7.3 in /usr/local/lib/python3.7/dist-packages (from pandas->dfply) (2.8.1)\n",
            "Requirement already satisfied: pytz>=2017.2 in /usr/local/lib/python3.7/dist-packages (from pandas->dfply) (2018.9)\n",
            "Requirement already satisfied: six>=1.5 in /usr/local/lib/python3.7/dist-packages (from python-dateutil>=2.7.3->pandas->dfply) (1.15.0)\n",
            "Installing collected packages: dfply\n",
            "Successfully installed dfply-0.3.3\n"
          ],
          "name": "stdout"
        }
      ]
    },
    {
      "cell_type": "code",
      "metadata": {
        "id": "SA3rn_0j2NRA"
      },
      "source": [
        "#Load the dfply package\n",
        "from dfply import *"
      ],
      "execution_count": 34,
      "outputs": []
    },
    {
      "cell_type": "markdown",
      "metadata": {
        "id": "gQsNzSRI6O_l"
      },
      "source": [
        "### Step #5: SELECT Desired Columns"
      ]
    },
    {
      "cell_type": "code",
      "metadata": {
        "colab": {
          "base_uri": "https://localhost:8080/"
        },
        "id": "ydkByRrH2Ea7",
        "outputId": "89b178c2-dbbc-40ae-90a2-5f3c32c85c25"
      },
      "source": [
        "##Using dfply to get groups, summarize, and split columns by State\n",
        "MN_Asthma_SELECT = (\n",
        "                    MN_Asthma \n",
        "                    >> select(X.fips, X.county, X.counts, X.population, X.rate)\n",
        "                  )\n",
        "\n",
        "#Pretty print the desired table\n",
        "print(MN_Asthma_SELECT.to_string(index=False))"
      ],
      "execution_count": 62,
      "outputs": [
        {
          "output_type": "stream",
          "text": [
            "  fips             county   counts  population       rate\n",
            " 27000          Minnesota  53812.0    16702743       32.2\n",
            " 27001             Aitkin    139.9       46342       30.2\n",
            " 27003              Anoka   2830.7     1040812       27.2\n",
            " 27005             Becker    257.6      100514       25.6\n",
            " 27007           Beltrami    362.2      137669       26.3\n",
            " 27009             Benton    267.5      118983       22.5\n",
            " 27011          Big Stone      9.3       14619   6.4 (UR)\n",
            " 27013         Blue Earth    552.0      198426       27.8\n",
            " 27015              Brown    128.4       74072       17.3\n",
            " 27017            Carlton    356.8      105337       33.9\n",
            " 27019             Carver    348.5      303487       11.5\n",
            " 27021               Cass    241.2       86278       28.0\n",
            " 27023           Chippewa     84.6       35270       24.0\n",
            " 27025            Chisago    394.7      163911       24.1\n",
            " 27027               Clay    505.6      188308       26.9\n",
            " 27029         Clearwater     78.0       25971       30.0\n",
            " 27031               Cook     59.0       15794       37.4\n",
            " 27033         Cottonwood     79.7       33184       24.0\n",
            " 27035          Crow Wing    707.1      189695       37.3\n",
            " 27037             Dakota   3310.1     1252531       26.4\n",
            " 27039              Dodge    122.5       61390       20.0\n",
            " 27041            Douglas    178.1      110548       16.1\n",
            " 27043          Faribault    110.3       40463       27.3\n",
            " 27045           Fillmore     92.0       61801       14.9\n",
            " 27047           Freeborn    319.7       89489       35.7\n",
            " 27049            Goodhue    639.0      136839       46.7\n",
            " 27051              Grant     35.4       17552       20.2\n",
            " 27053           Hennepin  16426.2     3705603       44.3\n",
            " 27055            Houston        *       54890          *\n",
            " 27057            Hubbard    166.5       61759       27.0\n",
            " 27059             Isanti    276.9      116877       23.7\n",
            " 27061             Itasca    421.5      133136       31.7\n",
            " 27063            Jackson     75.8       29227       25.9\n",
            " 27065            Kanabec    266.0       47373       56.1\n",
            " 27067          Kandiyohi    283.8      126233       22.5\n",
            " 27069            Kittson     24.7       12560       19.7\n",
            " 27071        Koochiching     95.5       36791       25.9\n",
            " 27073      Lac qui Parle     36.5       19587       18.6\n",
            " 27075               Lake     92.9       30966       30.0\n",
            " 27077  Lake of the Woods     28.8       11071       26.1\n",
            " 27079           Le Sueur    289.3       83203       34.8\n",
            " 27081            Lincoln     28.0       16631       16.8\n",
            " 27083               Lyon    142.5       76592       18.6\n",
            " 27085             McLeod    254.2      105863       24.0\n",
            " 27087           Mahnomen     94.1       16332       57.6\n",
            " 27089           Marshall     63.5       27596       23.0\n",
            " 27091             Martin    232.7       58277       39.9\n",
            " 27093             Meeker    131.4       68061       19.3\n",
            " 27095         Mille Lacs    378.0       76485       49.4\n",
            " 27097           Morrison    287.7       97624       29.5\n",
            " 27099              Mower    330.5      117148       28.2\n",
            " 27101             Murray     46.8       24359       19.2\n",
            " 27103           Nicollet    238.2      100749       23.6\n",
            " 27105             Nobles     72.8       64762       11.2\n",
            " 27107             Norman     32.6       19185       17.0\n",
            " 27109            Olmsted   1465.4      457980       32.0\n",
            " 27111         Otter Tail    423.0      171505       24.7\n",
            " 27113         Pennington     90.4       41939       21.6\n",
            " 27115               Pine    233.5       86079       27.1\n",
            " 27117          Pipestone     24.0       26791        9.0\n",
            " 27119               Polk    287.0       93532       30.7\n",
            " 27121               Pope     60.9       32382       18.8\n",
            " 27123             Ramsey   8329.6     1619712       51.4\n",
            " 27125           Red Lake     17.3       11813  14.7 (UR)\n",
            " 27127            Redwood    103.5       44834       23.1\n",
            " 27129           Renville    101.9       43028       23.7\n",
            " 27131               Rice    545.7      195989       27.8\n",
            " 27133               Rock     41.9       27742       15.1\n",
            " 27135             Roseau    162.4       45399       35.8\n",
            " 27137          St. Louis   2032.3      590641       34.4\n",
            " 27139              Scott   1136.3      433100       26.2\n",
            " 27141          Sherburne    608.5      281761       21.6\n",
            " 27143             Sibley    105.1       43969       23.9\n",
            " 27145            Stearns    917.1      468298       19.6\n",
            " 27147             Steele    448.0      108677       41.2\n",
            " 27149            Stevens     51.1       28744       17.8\n",
            " 27151              Swift     65.8       27567       23.9\n",
            " 27153               Todd    168.6       72239       23.3\n",
            " 27155           Traverse     19.0        9681  19.6 (UR)\n",
            " 27157            Wabasha    181.9       63674       28.6\n",
            " 27159             Wadena    134.8       40191       33.5\n",
            " 27161             Waseca    232.5       55427       42.0\n",
            " 27163         Washington   1484.1      759716       19.5\n",
            " 27165           Watonwan    117.0       32243       36.3\n",
            " 27167             Wilkin     68.0       18517       36.7\n",
            " 27169             Winona    369.1      150360       24.5\n",
            " 27171             Wright    670.2      399395       16.8\n",
            " 27173    Yellow Medicine     81.2       28968       28.0\n"
          ],
          "name": "stdout"
        }
      ]
    },
    {
      "cell_type": "markdown",
      "metadata": {
        "id": "lQYQHiBoWUHE"
      },
      "source": [
        "### Step #6: Write out the final table (csv file)"
      ]
    },
    {
      "cell_type": "code",
      "metadata": {
        "id": "WTTynfDRWUNS"
      },
      "source": [
        "#Use read_table to read in the tab delimited file into Python\n",
        "MN_Asthma_SELECT.to_csv('/content/MN_Asthma_after_SELECT.csv', sep=',', encoding='utf-8', index=False)"
      ],
      "execution_count": 65,
      "outputs": []
    },
    {
      "cell_type": "markdown",
      "metadata": {
        "id": "gUFmdIu3XeWL"
      },
      "source": [
        "**Note**: The desired data file can be downloaded from the content folder -- expand the folder near the upper left side of screen to view its contents."
      ]
    },
    {
      "cell_type": "markdown",
      "metadata": {
        "id": "RzWGTDi0Xbpc"
      },
      "source": [
        "\n",
        "\n",
        "---\n",
        "\n",
        "\n",
        "\n",
        "---\n",
        "\n",
        "\n",
        "\n",
        "---\n",
        "\n"
      ]
    }
  ]
}