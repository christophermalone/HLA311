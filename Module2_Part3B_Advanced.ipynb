{
  "nbformat": 4,
  "nbformat_minor": 0,
  "metadata": {
    "colab": {
      "name": "Module2_Part3B_Advanced.ipynb",
      "provenance": [],
      "collapsed_sections": [],
      "authorship_tag": "ABX9TyPS6vMxx9tZswA+SDgJnput",
      "include_colab_link": true
    },
    "kernelspec": {
      "name": "python3",
      "display_name": "Python 3"
    }
  },
  "cells": [
    {
      "cell_type": "markdown",
      "metadata": {
        "id": "view-in-github",
        "colab_type": "text"
      },
      "source": [
        "<a href=\"https://colab.research.google.com/github/christophermalone/HLA311/blob/main/Module2_Part3B_Advanced.ipynb\" target=\"_parent\"><img src=\"https://colab.research.google.com/assets/colab-badge.svg\" alt=\"Open In Colab\"/></a>"
      ]
    },
    {
      "cell_type": "markdown",
      "metadata": {
        "id": "zQXd5cZ9SMmv"
      },
      "source": [
        "# Module 2 | Part 3B: Summary - Advanced Level "
      ]
    },
    {
      "cell_type": "markdown",
      "metadata": {
        "id": "F5v4zW5-EvjX"
      },
      "source": [
        "This purpose of this iPython Notebook is to communicate the process by which a data scientist would obtain basic summaries of a data table."
      ]
    },
    {
      "cell_type": "markdown",
      "metadata": {
        "id": "cHFbYOB8JK4u"
      },
      "source": [
        "<table width='100%' ><tr><td bgcolor='green'></td></tr></table>\n",
        "\n",
        "## Example #1 - Uninsured Rates \n",
        "\n",
        "For this example, we will reconsider the Small Area Health Insurance Estimates (SAHIE) data from the United States Census Bureau.  This data provides counts for the number of people with and without health insurance.  This subset include county level information for people under the age of 19 (agecat = 4) and those from the poorest income category (iprcat = 3). \n",
        "\n",
        "Source: https://www.census.gov/data/datasets/time-series/demo/sahie/estimates-acs.html \n",
        "\n",
        "\n",
        "Google Folder: <a href=\"hhttps://drive.google.com/drive/folders/1t7TYoPlQggErulrxNw-t9v8B9VLvQ7jk?usp=sharing\" target=\"_blank\">Link to Data</a>\n",
        "\n",
        "The following fields are included in this data table:\n",
        "*   State_Name: state name\n",
        "*   State_Abbreviation: abbreviation for state\n",
        "*   County_Name: name of county\n",
        "*   CountyName_State: Combination of County_Name field and State_Abbreviation\n",
        "*   MedicareExpansion_Adopted_StateLevel: Had state adopted medicare expansion on year data was collected\n",
        "*   agecat: category of age (see data dictionary)\n",
        "*   racecat: category of race (see data dictionary)\n",
        "*   sexcat: category of sex (see data dictionary)\n",
        "*   iprcat: category of income (see data dictionary)\n",
        "*   NumberinGroup: Number of people in this demographic group\n",
        "*   Uninsured: Number of people uninsured in this demographic group\n",
        "*   Insured: Number of people insured in this demographic group\n",
        "*   PercentUninsured: Percent of people uninsured in this demographic group\n",
        "\n",
        "\n",
        "<table width='100%' ><tr><td bgcolor='green'></td></tr></table>"
      ]
    },
    {
      "cell_type": "markdown",
      "metadata": {
        "id": "6wT7Cha0oxa0"
      },
      "source": [
        "\n",
        "<strong>Goal</strong>: Compute the percent of uninsured people under the age of 19 who are in the lowest income categorey.\n"
      ]
    },
    {
      "cell_type": "markdown",
      "metadata": {
        "id": "8_8JrHrvKGt4"
      },
      "source": [
        "### Load the data in Python"
      ]
    },
    {
      "cell_type": "code",
      "metadata": {
        "id": "zn5kVKnQ0yHo"
      },
      "source": [
        "#Load the pandas package\n",
        "import pandas as pd"
      ],
      "execution_count": 49,
      "outputs": []
    },
    {
      "cell_type": "code",
      "metadata": {
        "id": "WInti-vo02W4"
      },
      "source": [
        "#Use read_table to read in the tab delimited file into Python\n",
        "SAHIE_Children_Poorest = pd.read_csv('http://www.statsclass.org/online/hla311/datasets/SAHIE_CountyData_Children_Poorest.csv') "
      ],
      "execution_count": 50,
      "outputs": []
    },
    {
      "cell_type": "code",
      "metadata": {
        "colab": {
          "base_uri": "https://localhost:8080/"
        },
        "id": "fNJXKkiM7zp7",
        "outputId": "5280e4c2-cac5-4cda-fa26-056a538e12e3"
      },
      "source": [
        "#How many records and field\n",
        "SAHIE_Children_Poorest.shape"
      ],
      "execution_count": 51,
      "outputs": [
        {
          "output_type": "execute_result",
          "data": {
            "text/plain": [
              "(3142, 13)"
            ]
          },
          "metadata": {
            "tags": []
          },
          "execution_count": 51
        }
      ]
    },
    {
      "cell_type": "code",
      "metadata": {
        "id": "BTSbvhln1Xmq",
        "colab": {
          "base_uri": "https://localhost:8080/",
          "height": 291
        },
        "outputId": "d3f69ee9-f928-4244-9f46-2603e6027e84"
      },
      "source": [
        "#Look at first few rows of the data\n",
        "SAHIE_Children_Poorest.head(n=5)"
      ],
      "execution_count": 52,
      "outputs": [
        {
          "output_type": "execute_result",
          "data": {
            "text/html": [
              "<div>\n",
              "<style scoped>\n",
              "    .dataframe tbody tr th:only-of-type {\n",
              "        vertical-align: middle;\n",
              "    }\n",
              "\n",
              "    .dataframe tbody tr th {\n",
              "        vertical-align: top;\n",
              "    }\n",
              "\n",
              "    .dataframe thead th {\n",
              "        text-align: right;\n",
              "    }\n",
              "</style>\n",
              "<table border=\"1\" class=\"dataframe\">\n",
              "  <thead>\n",
              "    <tr style=\"text-align: right;\">\n",
              "      <th></th>\n",
              "      <th>State_Name</th>\n",
              "      <th>State_Abbreviation</th>\n",
              "      <th>County_Name</th>\n",
              "      <th>CountyName_State</th>\n",
              "      <th>MedicareExpansion_Adopted_StateLevel</th>\n",
              "      <th>agecat</th>\n",
              "      <th>racecat</th>\n",
              "      <th>sexcat</th>\n",
              "      <th>iprcat</th>\n",
              "      <th>NumberInGroup</th>\n",
              "      <th>Uninsured</th>\n",
              "      <th>Insured</th>\n",
              "      <th>PercentUninsured</th>\n",
              "    </tr>\n",
              "  </thead>\n",
              "  <tbody>\n",
              "    <tr>\n",
              "      <th>0</th>\n",
              "      <td>Alabama</td>\n",
              "      <td>AL</td>\n",
              "      <td>Autauga County</td>\n",
              "      <td>Autauga County, AL</td>\n",
              "      <td>No</td>\n",
              "      <td>4</td>\n",
              "      <td>0</td>\n",
              "      <td>0</td>\n",
              "      <td>3</td>\n",
              "      <td>3494.0</td>\n",
              "      <td>125.0</td>\n",
              "      <td>3369.0</td>\n",
              "      <td>3.6</td>\n",
              "    </tr>\n",
              "    <tr>\n",
              "      <th>1</th>\n",
              "      <td>Alabama</td>\n",
              "      <td>AL</td>\n",
              "      <td>Baldwin County</td>\n",
              "      <td>Baldwin County, AL</td>\n",
              "      <td>No</td>\n",
              "      <td>4</td>\n",
              "      <td>0</td>\n",
              "      <td>0</td>\n",
              "      <td>3</td>\n",
              "      <td>11602.0</td>\n",
              "      <td>661.0</td>\n",
              "      <td>10941.0</td>\n",
              "      <td>5.7</td>\n",
              "    </tr>\n",
              "    <tr>\n",
              "      <th>2</th>\n",
              "      <td>Alabama</td>\n",
              "      <td>AL</td>\n",
              "      <td>Barbour County</td>\n",
              "      <td>Barbour County, AL</td>\n",
              "      <td>No</td>\n",
              "      <td>4</td>\n",
              "      <td>0</td>\n",
              "      <td>0</td>\n",
              "      <td>3</td>\n",
              "      <td>2727.0</td>\n",
              "      <td>95.0</td>\n",
              "      <td>2632.0</td>\n",
              "      <td>3.5</td>\n",
              "    </tr>\n",
              "    <tr>\n",
              "      <th>3</th>\n",
              "      <td>Alabama</td>\n",
              "      <td>AL</td>\n",
              "      <td>Bibb County</td>\n",
              "      <td>Bibb County, AL</td>\n",
              "      <td>No</td>\n",
              "      <td>4</td>\n",
              "      <td>0</td>\n",
              "      <td>0</td>\n",
              "      <td>3</td>\n",
              "      <td>1669.0</td>\n",
              "      <td>63.0</td>\n",
              "      <td>1606.0</td>\n",
              "      <td>3.8</td>\n",
              "    </tr>\n",
              "    <tr>\n",
              "      <th>4</th>\n",
              "      <td>Alabama</td>\n",
              "      <td>AL</td>\n",
              "      <td>Blount County</td>\n",
              "      <td>Blount County, AL</td>\n",
              "      <td>No</td>\n",
              "      <td>4</td>\n",
              "      <td>0</td>\n",
              "      <td>0</td>\n",
              "      <td>3</td>\n",
              "      <td>4206.0</td>\n",
              "      <td>257.0</td>\n",
              "      <td>3949.0</td>\n",
              "      <td>6.1</td>\n",
              "    </tr>\n",
              "  </tbody>\n",
              "</table>\n",
              "</div>"
            ],
            "text/plain": [
              "  State_Name State_Abbreviation  ...  Insured PercentUninsured\n",
              "0    Alabama                 AL  ...   3369.0              3.6\n",
              "1    Alabama                 AL  ...  10941.0              5.7\n",
              "2    Alabama                 AL  ...   2632.0              3.5\n",
              "3    Alabama                 AL  ...   1606.0              3.8\n",
              "4    Alabama                 AL  ...   3949.0              6.1\n",
              "\n",
              "[5 rows x 13 columns]"
            ]
          },
          "metadata": {
            "tags": []
          },
          "execution_count": 52
        }
      ]
    },
    {
      "cell_type": "markdown",
      "metadata": {
        "id": "CsJizOnM64xO"
      },
      "source": [
        "Next, install the dfply package that can be used to invoke various data verbs in Python"
      ]
    },
    {
      "cell_type": "code",
      "metadata": {
        "id": "PUp6UuNH2EHw",
        "colab": {
          "base_uri": "https://localhost:8080/"
        },
        "outputId": "4f01f362-e5cc-4035-8b49-663f8b68ac16"
      },
      "source": [
        "pip install dfply"
      ],
      "execution_count": 53,
      "outputs": [
        {
          "output_type": "stream",
          "text": [
            "Requirement already satisfied: dfply in /usr/local/lib/python3.7/dist-packages (0.3.3)\n",
            "Requirement already satisfied: numpy in /usr/local/lib/python3.7/dist-packages (from dfply) (1.19.5)\n",
            "Requirement already satisfied: pandas in /usr/local/lib/python3.7/dist-packages (from dfply) (1.1.5)\n",
            "Requirement already satisfied: python-dateutil>=2.7.3 in /usr/local/lib/python3.7/dist-packages (from pandas->dfply) (2.8.1)\n",
            "Requirement already satisfied: pytz>=2017.2 in /usr/local/lib/python3.7/dist-packages (from pandas->dfply) (2018.9)\n",
            "Requirement already satisfied: six>=1.5 in /usr/local/lib/python3.7/dist-packages (from python-dateutil>=2.7.3->pandas->dfply) (1.15.0)\n"
          ],
          "name": "stdout"
        }
      ]
    },
    {
      "cell_type": "code",
      "metadata": {
        "id": "SA3rn_0j2NRA"
      },
      "source": [
        "#Load the dfply package\n",
        "from dfply import *"
      ],
      "execution_count": 54,
      "outputs": []
    },
    {
      "cell_type": "markdown",
      "metadata": {
        "id": "yin-iWvccoea"
      },
      "source": [
        "### Summarize and obtain the Overall % "
      ]
    },
    {
      "cell_type": "markdown",
      "metadata": {
        "id": "uxwf61vMhTYX"
      },
      "source": [
        "The .sum() method is used here to obtain the desired summary.  Other summary measures exist such as .mean(), .median, .min(), .max(), .std(), etc."
      ]
    },
    {
      "cell_type": "code",
      "metadata": {
        "colab": {
          "base_uri": "https://localhost:8080/"
        },
        "id": "_yjPqwkicnur",
        "outputId": "fa98679e-e963-43a5-e809-b29ea1a7ee06"
      },
      "source": [
        "# Using Pyton to obtain Overall % for uninsured children\n",
        "OutcomeTable = (\n",
        "           SAHIE_Children_Poorest\n",
        "            >> summarize(Overall_Rate = X.Uninsured.sum() / X.NumberInGroup.sum())\n",
        "          )\n",
        "\n",
        "#Pretty print the desired table\n",
        "print(OutcomeTable.to_string(index=False))"
      ],
      "execution_count": 55,
      "outputs": [
        {
          "output_type": "stream",
          "text": [
            " Overall_Rate\n",
            "     0.068159\n"
          ],
          "name": "stdout"
        }
      ]
    },
    {
      "cell_type": "markdown",
      "metadata": {
        "id": "Eqh4Cs9fzi5e"
      },
      "source": [
        "\n",
        "\n",
        "---\n",
        "\n",
        "\n",
        "\n",
        "---\n",
        "\n",
        "\n",
        "\n",
        "---\n",
        "\n"
      ]
    }
  ]
}