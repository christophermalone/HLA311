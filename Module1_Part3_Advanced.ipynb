{
  "nbformat": 4,
  "nbformat_minor": 0,
  "metadata": {
    "colab": {
      "name": "Module1_Part3_Advanced.ipynb",
      "provenance": [],
      "collapsed_sections": [],
      "toc_visible": true,
      "authorship_tag": "ABX9TyNh/Z8+HvYNzRqeMNin/4/i",
      "include_colab_link": true
    },
    "kernelspec": {
      "name": "python3",
      "display_name": "Python 3"
    }
  },
  "cells": [
    {
      "cell_type": "markdown",
      "metadata": {
        "id": "view-in-github",
        "colab_type": "text"
      },
      "source": [
        "<a href=\"https://colab.research.google.com/github/christophermalone/HLA311/blob/main/Module1_Part3_Advanced.ipynb\" target=\"_parent\"><img src=\"https://colab.research.google.com/assets/colab-badge.svg\" alt=\"Open In Colab\"/></a>"
      ]
    },
    {
      "cell_type": "markdown",
      "metadata": {
        "id": "zQXd5cZ9SMmv"
      },
      "source": [
        "# Module 1 | Part 3: Importing Data - Advanced Level "
      ]
    },
    {
      "cell_type": "markdown",
      "metadata": {
        "id": "F5v4zW5-EvjX"
      },
      "source": [
        "This purpose of this iPython Notebook is to communicate the process by which a data scientist would obtain data.  "
      ]
    },
    {
      "cell_type": "markdown",
      "metadata": {
        "id": "cHFbYOB8JK4u"
      },
      "source": [
        "<table width='100%' ><tr><td bgcolor='green'></td></tr></table>\n",
        "\n",
        "## Example 1.3.3\n",
        "This example will consider data from the Mapping Medicare Disparities website from data.CMS.gov website. \n",
        "\n",
        "Source:  https://data.cms.gov/mapping-medicare-disparities\n",
        "\n",
        "The data processing steps for this example will include:\n",
        "*   Automatically downloading a zip file containing the data from the internet\n",
        "*   Automatically unzipping the file so that the individual data files can be retrieved\n",
        "*   Automatically remove all header information from the file\n",
        "*   Replace all * characters (which indicate insufficient data) with NA\n",
        "*   Remove all counties except those in MN an WI as these are the only states that are needed for the desired data set\n",
        "*   Finally, read the data into Python for future analyses\n",
        "\n",
        "<table width='100%' ><tr><td bgcolor='green'></td></tr></table>"
      ]
    },
    {
      "cell_type": "markdown",
      "metadata": {
        "id": "8_8JrHrvKGt4"
      },
      "source": [
        "### Step 1: Download the data"
      ]
    },
    {
      "cell_type": "markdown",
      "metadata": {
        "id": "SAGmUIgbizjP"
      },
      "source": [
        "Create the script to complete the download the data"
      ]
    },
    {
      "cell_type": "code",
      "metadata": {
        "id": "uK0is1NqSHaL"
      },
      "source": [
        "#Create a file that contains a set of commands to download file\n",
        "%%bash\n",
        "{  \n",
        " echo 'wget -O  /content/ChronicDiseases_byRace.zip http://www.statsclass.org/online/hla311/datasets/ChronicDiseases_byRace.zip'\n",
        " } > Download_ChronicDiseaseData.sh"
      ],
      "execution_count": 18,
      "outputs": []
    },
    {
      "cell_type": "markdown",
      "metadata": {
        "id": "1GaG0yBLNka7"
      },
      "source": [
        "Run the script to complete the download"
      ]
    },
    {
      "cell_type": "code",
      "metadata": {
        "id": "a5meF9MfiE6g"
      },
      "source": [
        "%%bash\n",
        "bash Download_ChronicDiseaseData.sh"
      ],
      "execution_count": null,
      "outputs": []
    },
    {
      "cell_type": "markdown",
      "metadata": {
        "id": "gzqF-HVnTs-m"
      },
      "source": [
        "## Step 2: Unzip the file"
      ]
    },
    {
      "cell_type": "markdown",
      "metadata": {
        "id": "mSLgSOwIjFSR"
      },
      "source": [
        "Create the script to unzip the file"
      ]
    },
    {
      "cell_type": "code",
      "metadata": {
        "id": "tJdYkcrlHVCp"
      },
      "source": [
        "%%bash\n",
        "{   \n",
        " echo 'unzip -o /content/ChronicDiseases_byRace.zip -d \"/content/\"'\n",
        " } > Unzip_ChronicDiseaseData.sh"
      ],
      "execution_count": 21,
      "outputs": []
    },
    {
      "cell_type": "markdown",
      "metadata": {
        "id": "E9w3o9jcjKY_"
      },
      "source": [
        "Run the script to unzip the file"
      ]
    },
    {
      "cell_type": "code",
      "metadata": {
        "id": "_KFsjvhoT9wc",
        "colab": {
          "base_uri": "https://localhost:8080/"
        },
        "outputId": "e6f41c3c-9815-4f98-f323-b10b9c24cf63"
      },
      "source": [
        "%%bash\n",
        "bash Unzip_ChronicDiseaseData.sh"
      ],
      "execution_count": 128,
      "outputs": [
        {
          "output_type": "stream",
          "text": [
            "Archive:  /content/ChronicDiseases_byRace.zip\n",
            "  inflating: /content/Population Report 2018 June 2020 - County.txt  \n",
            "  inflating: /content/Population Report 2018 June 2020 - State.txt  \n",
            "  inflating: /content/Population Report 2018 June 2020.xlsx  \n"
          ],
          "name": "stdout"
        }
      ]
    },
    {
      "cell_type": "markdown",
      "metadata": {
        "id": "u8cLg1aAOqua"
      },
      "source": [
        "### Remove all the header information from the file"
      ]
    },
    {
      "cell_type": "code",
      "metadata": {
        "id": "-t3eNS5Ajxgj"
      },
      "source": [
        "%%bash\n",
        "sed -i -e 1,10d '/content/Population Report 2018 June 2020 - County.txt'"
      ],
      "execution_count": 129,
      "outputs": []
    },
    {
      "cell_type": "code",
      "metadata": {
        "colab": {
          "base_uri": "https://localhost:8080/"
        },
        "id": "8mvitKPBUGQN",
        "outputId": "b8cc8fa7-579a-4443-dd5b-84613b99477c"
      },
      "source": [
        "#View the contents in the content folder\n",
        "!head '/content/Population Report 2018 June 2020 - County.txt'"
      ],
      "execution_count": 130,
      "outputs": [
        {
          "output_type": "stream",
          "text": [
            "FIPS\tCounty\tState\tCondition\tUrban/Rural\tTotal\tTotal No. of Beneficiaries\tWhite\tNo. of Beneficiaries Who are White\tBlack\tNo. of Beneficiaries Who are Black\tAsian/Pacific Islander\tNo. of Beneficiaries Who are Asian/Pacific Islander\tHispanic\tNo. of Beneficiaries Who are Hispanic\tAmerican Indian/Alaska Native\tNo. of Beneficiaries Who are American Indian/Alaska Native\tOther\tNo. of Beneficiaries Who are in Other Ethic Groups\r\n",
            "01001\tAUTAUGA\tAL\tChronic Kidney Disease\tUrban\t26\t\"[1,000-4,999]\"\t25\t\"[1,000-4,999]\"\t32\t[500-999]\t25\t[11-499]\t24\t[11-499]\t*\t*\t0\t[11-499]\r\n",
            "01003\tBALDWIN\tAL\tChronic Kidney Disease\tRural\t23\t\"[10,000+]\"\t22\t\"[10,000+]\"\t30\t\"[1,000-4,999]\"\t19\t[11-499]\t19\t[11-499]\t21\t[11-499]\t18\t[11-499]\r\n",
            "01005\tBARBOUR\tAL\tChronic Kidney Disease\tRural\t30\t\"[1,000-4,999]\"\t26\t\"[1,000-4,999]\"\t37\t[500-999]\t*\t*\t*\t*\t*\t*\t*\t*\r\n",
            "01007\tBIBB\tAL\tChronic Kidney Disease\tUrban\t32\t\"[1,000-4,999]\"\t31\t\"[1,000-4,999]\"\t35\t[11-499]\t*\t*\t*\t*\t*\t*\t*\t*\r\n",
            "01009\tBLOUNT\tAL\tChronic Kidney Disease\tUrban\t25\t\"[1,000-4,999]\"\t25\t\"[1,000-4,999]\"\t21\t[11-499]\t*\t*\t29\t[11-499]\t*\t*\t25\t[11-499]\r\n",
            "01011\tBULLOCK\tAL\tChronic Kidney Disease\tRural\t29\t[500-999]\t29\t[11-499]\t30\t[11-499]\t*\t*\t*\t*\t*\t*\t*\t*\r\n",
            "01013\tBUTLER\tAL\tChronic Kidney Disease\tRural\t27\t\"[1,000-4,999]\"\t25\t\"[1,000-4,999]\"\t30\t\"[1,000-4,999]\"\t*\t*\t*\t*\t*\t*\t*\t*\r\n",
            "01015\tCALHOUN\tAL\tChronic Kidney Disease\tUrban\t29\t\"[10,000+]\"\t28\t\"[10,000+]\"\t35\t\"[1,000-4,999]\"\t27\t[11-499]\t24\t[11-499]\t*\t*\t25\t[11-499]\r\n",
            "01017\tCHAMBERS\tAL\tChronic Kidney Disease\tRural\t28\t\"[5,000-9,999]\"\t26\t\"[1,000-4,999]\"\t33\t\"[1,000-4,999]\"\t*\t*\t33\t[11-499]\t*\t*\t23\t[11-499]\r\n"
          ],
          "name": "stdout"
        }
      ]
    },
    {
      "cell_type": "markdown",
      "metadata": {
        "id": "ArOxpTIlzNfZ"
      },
      "source": [
        "### Replace all * Characters with NA"
      ]
    },
    {
      "cell_type": "code",
      "metadata": {
        "id": "m7Y-CHCzzJhg"
      },
      "source": [
        "%%bash\n",
        "sed -i 's/*/NaN/g' '/content/Population Report 2018 June 2020 - County.txt'"
      ],
      "execution_count": 131,
      "outputs": []
    },
    {
      "cell_type": "code",
      "metadata": {
        "colab": {
          "base_uri": "https://localhost:8080/"
        },
        "id": "yg1jBP2mzlAR",
        "outputId": "56dc09f6-6160-43b0-9099-b0a30c9503ee"
      },
      "source": [
        "#View the contents in the content folder\n",
        "!head '/content/Population Report 2018 June 2020 - County.txt'"
      ],
      "execution_count": 132,
      "outputs": [
        {
          "output_type": "stream",
          "text": [
            "FIPS\tCounty\tState\tCondition\tUrban/Rural\tTotal\tTotal No. of Beneficiaries\tWhite\tNo. of Beneficiaries Who are White\tBlack\tNo. of Beneficiaries Who are Black\tAsian/Pacific Islander\tNo. of Beneficiaries Who are Asian/Pacific Islander\tHispanic\tNo. of Beneficiaries Who are Hispanic\tAmerican Indian/Alaska Native\tNo. of Beneficiaries Who are American Indian/Alaska Native\tOther\tNo. of Beneficiaries Who are in Other Ethic Groups\r\n",
            "01001\tAUTAUGA\tAL\tChronic Kidney Disease\tUrban\t26\t\"[1,000-4,999]\"\t25\t\"[1,000-4,999]\"\t32\t[500-999]\t25\t[11-499]\t24\t[11-499]\tNaN\tNaN\t0\t[11-499]\r\n",
            "01003\tBALDWIN\tAL\tChronic Kidney Disease\tRural\t23\t\"[10,000+]\"\t22\t\"[10,000+]\"\t30\t\"[1,000-4,999]\"\t19\t[11-499]\t19\t[11-499]\t21\t[11-499]\t18\t[11-499]\r\n",
            "01005\tBARBOUR\tAL\tChronic Kidney Disease\tRural\t30\t\"[1,000-4,999]\"\t26\t\"[1,000-4,999]\"\t37\t[500-999]\tNaN\tNaN\tNaN\tNaN\tNaN\tNaN\tNaN\tNaN\r\n",
            "01007\tBIBB\tAL\tChronic Kidney Disease\tUrban\t32\t\"[1,000-4,999]\"\t31\t\"[1,000-4,999]\"\t35\t[11-499]\tNaN\tNaN\tNaN\tNaN\tNaN\tNaN\tNaN\tNaN\r\n",
            "01009\tBLOUNT\tAL\tChronic Kidney Disease\tUrban\t25\t\"[1,000-4,999]\"\t25\t\"[1,000-4,999]\"\t21\t[11-499]\tNaN\tNaN\t29\t[11-499]\tNaN\tNaN\t25\t[11-499]\r\n",
            "01011\tBULLOCK\tAL\tChronic Kidney Disease\tRural\t29\t[500-999]\t29\t[11-499]\t30\t[11-499]\tNaN\tNaN\tNaN\tNaN\tNaN\tNaN\tNaN\tNaN\r\n",
            "01013\tBUTLER\tAL\tChronic Kidney Disease\tRural\t27\t\"[1,000-4,999]\"\t25\t\"[1,000-4,999]\"\t30\t\"[1,000-4,999]\"\tNaN\tNaN\tNaN\tNaN\tNaN\tNaN\tNaN\tNaN\r\n",
            "01015\tCALHOUN\tAL\tChronic Kidney Disease\tUrban\t29\t\"[10,000+]\"\t28\t\"[10,000+]\"\t35\t\"[1,000-4,999]\"\t27\t[11-499]\t24\t[11-499]\tNaN\tNaN\t25\t[11-499]\r\n",
            "01017\tCHAMBERS\tAL\tChronic Kidney Disease\tRural\t28\t\"[5,000-9,999]\"\t26\t\"[1,000-4,999]\"\t33\t\"[1,000-4,999]\"\tNaN\tNaN\t33\t[11-499]\tNaN\tNaN\t23\t[11-499]\r\n"
          ],
          "name": "stdout"
        }
      ]
    },
    {
      "cell_type": "markdown",
      "metadata": {
        "id": "FwWTGhmqOzOI"
      },
      "source": [
        "## Getting only Counties in MN or WI"
      ]
    },
    {
      "cell_type": "code",
      "metadata": {
        "id": "FLPPWmwMuEsa"
      },
      "source": [
        "%%bash\n",
        " grep -E \"^FIPS|^27|^55\" '/content/Population Report 2018 June 2020 - County.txt' > '/content/Population Report 2018 June 2020 - County MN and WI.txt'"
      ],
      "execution_count": 133,
      "outputs": []
    },
    {
      "cell_type": "code",
      "metadata": {
        "colab": {
          "base_uri": "https://localhost:8080/"
        },
        "id": "qaW0gCSLpWU5",
        "outputId": "037c14f6-f79b-4c7b-aaf6-0ad947334aa5"
      },
      "source": [
        "#View the contents in the content folder\n",
        "!head '/content/Population Report 2018 June 2020 - County MN and WI.txt'"
      ],
      "execution_count": 134,
      "outputs": [
        {
          "output_type": "stream",
          "text": [
            "FIPS\tCounty\tState\tCondition\tUrban/Rural\tTotal\tTotal No. of Beneficiaries\tWhite\tNo. of Beneficiaries Who are White\tBlack\tNo. of Beneficiaries Who are Black\tAsian/Pacific Islander\tNo. of Beneficiaries Who are Asian/Pacific Islander\tHispanic\tNo. of Beneficiaries Who are Hispanic\tAmerican Indian/Alaska Native\tNo. of Beneficiaries Who are American Indian/Alaska Native\tOther\tNo. of Beneficiaries Who are in Other Ethic Groups\r\n",
            "27001\tAITKIN\tMN\tChronic Kidney Disease\tRural\t18\t\"[1,000-4,999]\"\t18\t\"[1,000-4,999]\"\tNaN\tNaN\tNaN\tNaN\tNaN\tNaN\t11\t[11-499]\tNaN\tNaN\r\n",
            "27003\tANOKA\tMN\tChronic Kidney Disease\tUrban\t24\t\"[10,000+]\"\t23\t\"[10,000+]\"\t29\t[500-999]\t22\t[11-499]\t25\t[11-499]\t35\t[11-499]\t28\t[11-499]\r\n",
            "27005\tBECKER\tMN\tChronic Kidney Disease\tRural\t20\t\"[1,000-4,999]\"\t19\t\"[1,000-4,999]\"\t0\t[11-499]\tNaN\tNaN\tNaN\tNaN\t27\t[11-499]\t23\t[11-499]\r\n",
            "27007\tBELTRAMI\tMN\tChronic Kidney Disease\tRural\t25\t\"[1,000-4,999]\"\t24\t\"[1,000-4,999]\"\t23\t[11-499]\tNaN\tNaN\t32\t[11-499]\t33\t[500-999]\t28\t[11-499]\r\n",
            "27009\tBENTON\tMN\tChronic Kidney Disease\tUrban\t23\t\"[1,000-4,999]\"\t23\t\"[1,000-4,999]\"\t35\t[11-499]\t27\t[11-499]\t36\t[11-499]\tNaN\tNaN\tNaN\tNaN\r\n",
            "27011\tBIG STONE\tMN\tChronic Kidney Disease\tRural\t23\t[500-999]\t23\t[500-999]\tNaN\tNaN\tNaN\tNaN\tNaN\tNaN\tNaN\tNaN\tNaN\tNaN\r\n",
            "27013\tBLUE EARTH\tMN\tChronic Kidney Disease\tUrban\t23\t\"[1,000-4,999]\"\t23\t\"[1,000-4,999]\"\t29\t[11-499]\t18\t[11-499]\t23\t[11-499]\t29\t[11-499]\t31\t[11-499]\r\n",
            "27015\tBROWN\tMN\tChronic Kidney Disease\tRural\t25\t\"[1,000-4,999]\"\t25\t\"[1,000-4,999]\"\tNaN\tNaN\tNaN\tNaN\t29\t[11-499]\tNaN\tNaN\t31\t[11-499]\r\n",
            "27017\tCARLTON\tMN\tChronic Kidney Disease\tUrban\t22\t\"[1,000-4,999]\"\t21\t\"[1,000-4,999]\"\t0\t[11-499]\tNaN\tNaN\t23\t[11-499]\t34\t[11-499]\t15\t[11-499]\r\n"
          ],
          "name": "stdout"
        }
      ]
    },
    {
      "cell_type": "markdown",
      "metadata": {
        "id": "XOlxClvt0yAJ"
      },
      "source": [
        ""
      ]
    },
    {
      "cell_type": "code",
      "metadata": {
        "id": "zn5kVKnQ0yHo"
      },
      "source": [
        "import pandas as pd"
      ],
      "execution_count": 135,
      "outputs": []
    },
    {
      "cell_type": "markdown",
      "metadata": {
        "id": "uyyojR_y02NR"
      },
      "source": [
        ""
      ]
    },
    {
      "cell_type": "code",
      "metadata": {
        "id": "WInti-vo02W4"
      },
      "source": [
        "ChronicDisease = pd.read_table('/content/Population Report 2018 June 2020 - County MN and WI.txt', sep='\\t') "
      ],
      "execution_count": 136,
      "outputs": []
    },
    {
      "cell_type": "code",
      "metadata": {
        "colab": {
          "base_uri": "https://localhost:8080/",
          "height": 482
        },
        "id": "BTSbvhln1Xmq",
        "outputId": "e51a3d9d-5387-44f2-eae3-90eb8c0c04e3"
      },
      "source": [
        "ChronicDisease.head(n=5)"
      ],
      "execution_count": 159,
      "outputs": [
        {
          "output_type": "execute_result",
          "data": {
            "text/html": [
              "<div>\n",
              "<style scoped>\n",
              "    .dataframe tbody tr th:only-of-type {\n",
              "        vertical-align: middle;\n",
              "    }\n",
              "\n",
              "    .dataframe tbody tr th {\n",
              "        vertical-align: top;\n",
              "    }\n",
              "\n",
              "    .dataframe thead th {\n",
              "        text-align: right;\n",
              "    }\n",
              "</style>\n",
              "<table border=\"1\" class=\"dataframe\">\n",
              "  <thead>\n",
              "    <tr style=\"text-align: right;\">\n",
              "      <th></th>\n",
              "      <th>FIPS</th>\n",
              "      <th>County</th>\n",
              "      <th>State</th>\n",
              "      <th>Condition</th>\n",
              "      <th>Urban/Rural</th>\n",
              "      <th>Total</th>\n",
              "      <th>Total No. of Beneficiaries</th>\n",
              "      <th>White</th>\n",
              "      <th>No. of Beneficiaries Who are White</th>\n",
              "      <th>Black</th>\n",
              "      <th>No. of Beneficiaries Who are Black</th>\n",
              "      <th>Asian/Pacific Islander</th>\n",
              "      <th>No. of Beneficiaries Who are Asian/Pacific Islander</th>\n",
              "      <th>Hispanic</th>\n",
              "      <th>No. of Beneficiaries Who are Hispanic</th>\n",
              "      <th>American Indian/Alaska Native</th>\n",
              "      <th>No. of Beneficiaries Who are American Indian/Alaska Native</th>\n",
              "      <th>Other</th>\n",
              "      <th>No. of Beneficiaries Who are in Other Ethic Groups</th>\n",
              "    </tr>\n",
              "  </thead>\n",
              "  <tbody>\n",
              "    <tr>\n",
              "      <th>0</th>\n",
              "      <td>27001</td>\n",
              "      <td>AITKIN</td>\n",
              "      <td>MN</td>\n",
              "      <td>Chronic Kidney Disease</td>\n",
              "      <td>Rural</td>\n",
              "      <td>18</td>\n",
              "      <td>[1,000-4,999]</td>\n",
              "      <td>18</td>\n",
              "      <td>[1,000-4,999]</td>\n",
              "      <td>NaN</td>\n",
              "      <td>NaN</td>\n",
              "      <td>NaN</td>\n",
              "      <td>NaN</td>\n",
              "      <td>NaN</td>\n",
              "      <td>NaN</td>\n",
              "      <td>11.0</td>\n",
              "      <td>[11-499]</td>\n",
              "      <td>NaN</td>\n",
              "      <td>NaN</td>\n",
              "    </tr>\n",
              "    <tr>\n",
              "      <th>1</th>\n",
              "      <td>27003</td>\n",
              "      <td>ANOKA</td>\n",
              "      <td>MN</td>\n",
              "      <td>Chronic Kidney Disease</td>\n",
              "      <td>Urban</td>\n",
              "      <td>24</td>\n",
              "      <td>[10,000+]</td>\n",
              "      <td>23</td>\n",
              "      <td>[10,000+]</td>\n",
              "      <td>29.0</td>\n",
              "      <td>[500-999]</td>\n",
              "      <td>22.0</td>\n",
              "      <td>[11-499]</td>\n",
              "      <td>25.0</td>\n",
              "      <td>[11-499]</td>\n",
              "      <td>35.0</td>\n",
              "      <td>[11-499]</td>\n",
              "      <td>28.0</td>\n",
              "      <td>[11-499]</td>\n",
              "    </tr>\n",
              "    <tr>\n",
              "      <th>2</th>\n",
              "      <td>27005</td>\n",
              "      <td>BECKER</td>\n",
              "      <td>MN</td>\n",
              "      <td>Chronic Kidney Disease</td>\n",
              "      <td>Rural</td>\n",
              "      <td>20</td>\n",
              "      <td>[1,000-4,999]</td>\n",
              "      <td>19</td>\n",
              "      <td>[1,000-4,999]</td>\n",
              "      <td>0.0</td>\n",
              "      <td>[11-499]</td>\n",
              "      <td>NaN</td>\n",
              "      <td>NaN</td>\n",
              "      <td>NaN</td>\n",
              "      <td>NaN</td>\n",
              "      <td>27.0</td>\n",
              "      <td>[11-499]</td>\n",
              "      <td>23.0</td>\n",
              "      <td>[11-499]</td>\n",
              "    </tr>\n",
              "    <tr>\n",
              "      <th>3</th>\n",
              "      <td>27007</td>\n",
              "      <td>BELTRAMI</td>\n",
              "      <td>MN</td>\n",
              "      <td>Chronic Kidney Disease</td>\n",
              "      <td>Rural</td>\n",
              "      <td>25</td>\n",
              "      <td>[1,000-4,999]</td>\n",
              "      <td>24</td>\n",
              "      <td>[1,000-4,999]</td>\n",
              "      <td>23.0</td>\n",
              "      <td>[11-499]</td>\n",
              "      <td>NaN</td>\n",
              "      <td>NaN</td>\n",
              "      <td>32.0</td>\n",
              "      <td>[11-499]</td>\n",
              "      <td>33.0</td>\n",
              "      <td>[500-999]</td>\n",
              "      <td>28.0</td>\n",
              "      <td>[11-499]</td>\n",
              "    </tr>\n",
              "    <tr>\n",
              "      <th>4</th>\n",
              "      <td>27009</td>\n",
              "      <td>BENTON</td>\n",
              "      <td>MN</td>\n",
              "      <td>Chronic Kidney Disease</td>\n",
              "      <td>Urban</td>\n",
              "      <td>23</td>\n",
              "      <td>[1,000-4,999]</td>\n",
              "      <td>23</td>\n",
              "      <td>[1,000-4,999]</td>\n",
              "      <td>35.0</td>\n",
              "      <td>[11-499]</td>\n",
              "      <td>27.0</td>\n",
              "      <td>[11-499]</td>\n",
              "      <td>36.0</td>\n",
              "      <td>[11-499]</td>\n",
              "      <td>NaN</td>\n",
              "      <td>NaN</td>\n",
              "      <td>NaN</td>\n",
              "      <td>NaN</td>\n",
              "    </tr>\n",
              "  </tbody>\n",
              "</table>\n",
              "</div>"
            ],
            "text/plain": [
              "    FIPS    County  ... Other No. of Beneficiaries Who are in Other Ethic Groups\n",
              "0  27001    AITKIN  ...   NaN                                                NaN\n",
              "1  27003     ANOKA  ...  28.0                                           [11-499]\n",
              "2  27005    BECKER  ...  23.0                                           [11-499]\n",
              "3  27007  BELTRAMI  ...  28.0                                           [11-499]\n",
              "4  27009    BENTON  ...   NaN                                                NaN\n",
              "\n",
              "[5 rows x 19 columns]"
            ]
          },
          "metadata": {
            "tags": []
          },
          "execution_count": 159
        }
      ]
    },
    {
      "cell_type": "code",
      "metadata": {
        "colab": {
          "base_uri": "https://localhost:8080/"
        },
        "id": "PUp6UuNH2EHw",
        "outputId": "01e9d470-8008-40a5-e965-d5cbe5f7fa66"
      },
      "source": [
        "pip install dfply"
      ],
      "execution_count": 141,
      "outputs": [
        {
          "output_type": "stream",
          "text": [
            "Collecting dfply\n",
            "\u001b[?25l  Downloading https://files.pythonhosted.org/packages/53/91/18ab48c64661252dadff685f8ddbc6f456302923918f488714ee2345d49b/dfply-0.3.3-py3-none-any.whl (612kB)\n",
            "\r\u001b[K     |▌                               | 10kB 15.4MB/s eta 0:00:01\r\u001b[K     |█                               | 20kB 20.5MB/s eta 0:00:01\r\u001b[K     |█▋                              | 30kB 24.3MB/s eta 0:00:01\r\u001b[K     |██▏                             | 40kB 27.1MB/s eta 0:00:01\r\u001b[K     |██▊                             | 51kB 29.3MB/s eta 0:00:01\r\u001b[K     |███▏                            | 61kB 30.9MB/s eta 0:00:01\r\u001b[K     |███▊                            | 71kB 28.7MB/s eta 0:00:01\r\u001b[K     |████▎                           | 81kB 30.0MB/s eta 0:00:01\r\u001b[K     |████▉                           | 92kB 27.9MB/s eta 0:00:01\r\u001b[K     |█████▍                          | 102kB 24.4MB/s eta 0:00:01\r\u001b[K     |█████▉                          | 112kB 24.4MB/s eta 0:00:01\r\u001b[K     |██████▍                         | 122kB 24.4MB/s eta 0:00:01\r\u001b[K     |███████                         | 133kB 24.4MB/s eta 0:00:01\r\u001b[K     |███████▌                        | 143kB 24.4MB/s eta 0:00:01\r\u001b[K     |████████                        | 153kB 24.4MB/s eta 0:00:01\r\u001b[K     |████████▋                       | 163kB 24.4MB/s eta 0:00:01\r\u001b[K     |█████████                       | 174kB 24.4MB/s eta 0:00:01\r\u001b[K     |█████████▋                      | 184kB 24.4MB/s eta 0:00:01\r\u001b[K     |██████████▏                     | 194kB 24.4MB/s eta 0:00:01\r\u001b[K     |██████████▊                     | 204kB 24.4MB/s eta 0:00:01\r\u001b[K     |███████████▎                    | 215kB 24.4MB/s eta 0:00:01\r\u001b[K     |███████████▊                    | 225kB 24.4MB/s eta 0:00:01\r\u001b[K     |████████████▎                   | 235kB 24.4MB/s eta 0:00:01\r\u001b[K     |████████████▉                   | 245kB 24.4MB/s eta 0:00:01\r\u001b[K     |█████████████▍                  | 256kB 24.4MB/s eta 0:00:01\r\u001b[K     |██████████████                  | 266kB 24.4MB/s eta 0:00:01\r\u001b[K     |██████████████▌                 | 276kB 24.4MB/s eta 0:00:01\r\u001b[K     |███████████████                 | 286kB 24.4MB/s eta 0:00:01\r\u001b[K     |███████████████▌                | 296kB 24.4MB/s eta 0:00:01\r\u001b[K     |████████████████                | 307kB 24.4MB/s eta 0:00:01\r\u001b[K     |████████████████▋               | 317kB 24.4MB/s eta 0:00:01\r\u001b[K     |█████████████████▏              | 327kB 24.4MB/s eta 0:00:01\r\u001b[K     |█████████████████▋              | 337kB 24.4MB/s eta 0:00:01\r\u001b[K     |██████████████████▏             | 348kB 24.4MB/s eta 0:00:01\r\u001b[K     |██████████████████▊             | 358kB 24.4MB/s eta 0:00:01\r\u001b[K     |███████████████████▎            | 368kB 24.4MB/s eta 0:00:01\r\u001b[K     |███████████████████▉            | 378kB 24.4MB/s eta 0:00:01\r\u001b[K     |████████████████████▎           | 389kB 24.4MB/s eta 0:00:01\r\u001b[K     |████████████████████▉           | 399kB 24.4MB/s eta 0:00:01\r\u001b[K     |█████████████████████▍          | 409kB 24.4MB/s eta 0:00:01\r\u001b[K     |██████████████████████          | 419kB 24.4MB/s eta 0:00:01\r\u001b[K     |██████████████████████▌         | 430kB 24.4MB/s eta 0:00:01\r\u001b[K     |███████████████████████         | 440kB 24.4MB/s eta 0:00:01\r\u001b[K     |███████████████████████▌        | 450kB 24.4MB/s eta 0:00:01\r\u001b[K     |████████████████████████        | 460kB 24.4MB/s eta 0:00:01\r\u001b[K     |████████████████████████▋       | 471kB 24.4MB/s eta 0:00:01\r\u001b[K     |█████████████████████████▏      | 481kB 24.4MB/s eta 0:00:01\r\u001b[K     |█████████████████████████▊      | 491kB 24.4MB/s eta 0:00:01\r\u001b[K     |██████████████████████████▏     | 501kB 24.4MB/s eta 0:00:01\r\u001b[K     |██████████████████████████▊     | 512kB 24.4MB/s eta 0:00:01\r\u001b[K     |███████████████████████████▎    | 522kB 24.4MB/s eta 0:00:01\r\u001b[K     |███████████████████████████▉    | 532kB 24.4MB/s eta 0:00:01\r\u001b[K     |████████████████████████████▍   | 542kB 24.4MB/s eta 0:00:01\r\u001b[K     |█████████████████████████████   | 552kB 24.4MB/s eta 0:00:01\r\u001b[K     |█████████████████████████████▍  | 563kB 24.4MB/s eta 0:00:01\r\u001b[K     |██████████████████████████████  | 573kB 24.4MB/s eta 0:00:01\r\u001b[K     |██████████████████████████████▌ | 583kB 24.4MB/s eta 0:00:01\r\u001b[K     |███████████████████████████████ | 593kB 24.4MB/s eta 0:00:01\r\u001b[K     |███████████████████████████████▋| 604kB 24.4MB/s eta 0:00:01\r\u001b[K     |████████████████████████████████| 614kB 24.4MB/s \n",
            "\u001b[?25hRequirement already satisfied: pandas in /usr/local/lib/python3.7/dist-packages (from dfply) (1.1.5)\n",
            "Requirement already satisfied: numpy in /usr/local/lib/python3.7/dist-packages (from dfply) (1.19.5)\n",
            "Requirement already satisfied: python-dateutil>=2.7.3 in /usr/local/lib/python3.7/dist-packages (from pandas->dfply) (2.8.1)\n",
            "Requirement already satisfied: pytz>=2017.2 in /usr/local/lib/python3.7/dist-packages (from pandas->dfply) (2018.9)\n",
            "Requirement already satisfied: six>=1.5 in /usr/local/lib/python3.7/dist-packages (from python-dateutil>=2.7.3->pandas->dfply) (1.15.0)\n",
            "Installing collected packages: dfply\n",
            "Successfully installed dfply-0.3.3\n"
          ],
          "name": "stdout"
        }
      ]
    },
    {
      "cell_type": "code",
      "metadata": {
        "id": "SA3rn_0j2NRA"
      },
      "source": [
        "from dfply import *"
      ],
      "execution_count": 142,
      "outputs": []
    },
    {
      "cell_type": "code",
      "metadata": {
        "colab": {
          "base_uri": "https://localhost:8080/"
        },
        "id": "ydkByRrH2Ea7",
        "outputId": "d9deb392-d508-46b0-e7a0-ab3035b58821"
      },
      "source": [
        "Outcomes = (\n",
        "        ChronicDisease \n",
        "        >> group_by(X.State, X.Condition)\n",
        "        >> summarize(Avg = X.Total.mean())\n",
        "        >> spread(X.State, X.Avg)\n",
        "        )\n",
        "#Use pretty print for outcomes\n",
        "print(Outcomes.round(1).to_string(index=False))"
      ],
      "execution_count": 157,
      "outputs": [
        {
          "output_type": "stream",
          "text": [
            "                             Condition    MN    WI\n",
            "                Chronic Kidney Disease  21.6  22.8\n",
            " Chronic Obstructive Pulmonary Disease   9.1   9.7\n",
            "              Congestive Heart Failure  13.0  13.3\n",
            "                              Diabetes  22.0  23.3\n",
            "                          Hypertension  44.6  48.9\n"
          ],
          "name": "stdout"
        }
      ]
    }
  ]
}