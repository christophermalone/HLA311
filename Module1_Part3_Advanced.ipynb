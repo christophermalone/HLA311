{
  "nbformat": 4,
  "nbformat_minor": 0,
  "metadata": {
    "colab": {
      "name": "Module1_Part3_Advanced.ipynb",
      "provenance": [],
      "collapsed_sections": [],
      "authorship_tag": "ABX9TyMI6/+6Xb/bknT37yP+fByg",
      "include_colab_link": true
    },
    "kernelspec": {
      "name": "python3",
      "display_name": "Python 3"
    }
  },
  "cells": [
    {
      "cell_type": "markdown",
      "metadata": {
        "id": "view-in-github",
        "colab_type": "text"
      },
      "source": [
        "<a href=\"https://colab.research.google.com/github/christophermalone/HLA311/blob/main/Module1_Part3_Advanced.ipynb\" target=\"_parent\"><img src=\"https://colab.research.google.com/assets/colab-badge.svg\" alt=\"Open In Colab\"/></a>"
      ]
    },
    {
      "cell_type": "markdown",
      "metadata": {
        "id": "zQXd5cZ9SMmv"
      },
      "source": [
        "# Module 1 | Part 3: Importing Data - Advanced Level "
      ]
    },
    {
      "cell_type": "markdown",
      "metadata": {
        "id": "F5v4zW5-EvjX"
      },
      "source": [
        "This purpose of this iPython Notebook is to communicate the process by which a data scientist would obtain data.  "
      ]
    },
    {
      "cell_type": "markdown",
      "metadata": {
        "id": "cHFbYOB8JK4u"
      },
      "source": [
        "<table width='100%' ><tr><td bgcolor='green'></td></tr></table>\n",
        "\n",
        "## Example - Common Chronic Diseases by Race for Counties in US\n",
        "This example will consider data from the Mapping Medicare Disparities website from data.CMS.gov website. \n",
        "\n",
        "Source:  https://data.cms.gov/mapping-medicare-disparities\n",
        "\n",
        "The data processing steps for this example will include:\n",
        "*   Automatically download a zip file containing the data from the internet\n",
        "*   Automatically unzip the file so that the individual data files can be retrieved\n",
        "*   Automatically remove all header information from the file\n",
        "*   Replace all * characters (which indicate insufficient data) with NaN\n",
        "*   Remove all counties except those in MN an WI as these are the only states that are needed for the desired data set\n",
        "*   Finally, read the data into Python for future analyses\n",
        "\n",
        "<table width='100%' ><tr><td bgcolor='green'></td></tr></table>"
      ]
    },
    {
      "cell_type": "markdown",
      "metadata": {
        "id": "8_8JrHrvKGt4"
      },
      "source": [
        "### Step 1: Download the data"
      ]
    },
    {
      "cell_type": "markdown",
      "metadata": {
        "id": "SAGmUIgbizjP"
      },
      "source": [
        "Create the script to complete the download the data"
      ]
    },
    {
      "cell_type": "code",
      "metadata": {
        "id": "uK0is1NqSHaL"
      },
      "source": [
        "#Create a file that contains a set of commands to download file\n",
        "%%bash\n",
        "{  \n",
        " echo 'wget -O  /content/ChronicDiseases_byRace.zip http://www.statsclass.org/online/hla311/datasets/ChronicDiseases_byRace.zip'\n",
        " } > Download_ChronicDiseaseData.sh"
      ],
      "execution_count": 181,
      "outputs": []
    },
    {
      "cell_type": "markdown",
      "metadata": {
        "id": "1GaG0yBLNka7"
      },
      "source": [
        "Run the script to complete the download"
      ]
    },
    {
      "cell_type": "code",
      "metadata": {
        "colab": {
          "base_uri": "https://localhost:8080/"
        },
        "id": "a5meF9MfiE6g",
        "outputId": "f754493b-1a44-455f-8ad1-4f64d22cdadd"
      },
      "source": [
        "%%bash\n",
        "bash Download_ChronicDiseaseData.sh"
      ],
      "execution_count": 182,
      "outputs": [
        {
          "output_type": "stream",
          "text": [
            "--2021-05-21 22:11:46--  http://www.statsclass.org/online/hla311/datasets/ChronicDiseases_byRace.zip\n",
            "Resolving www.statsclass.org (www.statsclass.org)... 192.254.227.17\n",
            "Connecting to www.statsclass.org (www.statsclass.org)|192.254.227.17|:80... connected.\n",
            "HTTP request sent, awaiting response... 200 OK\n",
            "Length: 1810023 (1.7M) [application/zip]\n",
            "Saving to: ‘/content/ChronicDiseases_byRace.zip’\n",
            "\n",
            "     0K .......... .......... .......... .......... ..........  2%  507K 3s\n",
            "    50K .......... .......... .......... .......... ..........  5% 1011K 2s\n",
            "   100K .......... .......... .......... .......... ..........  8% 54.0M 2s\n",
            "   150K .......... .......... .......... .......... .......... 11% 1.02M 2s\n",
            "   200K .......... .......... .......... .......... .......... 14% 32.8M 1s\n",
            "   250K .......... .......... .......... .......... .......... 16% 74.6M 1s\n",
            "   300K .......... .......... .......... .......... .......... 19% 60.3M 1s\n",
            "   350K .......... .......... .......... .......... .......... 22% 90.6M 1s\n",
            "   400K .......... .......... .......... .......... .......... 25% 1.02M 1s\n",
            "   450K .......... .......... .......... .......... .......... 28% 80.0M 1s\n",
            "   500K .......... .......... .......... .......... .......... 31%  104M 1s\n",
            "   550K .......... .......... .......... .......... .......... 33%  242M 0s\n",
            "   600K .......... .......... .......... .......... .......... 36%  216M 0s\n",
            "   650K .......... .......... .......... .......... .......... 39%  238M 0s\n",
            "   700K .......... .......... .......... .......... .......... 42%  200M 0s\n",
            "   750K .......... .......... .......... .......... .......... 45%  229M 0s\n",
            "   800K .......... .......... .......... .......... .......... 48% 1.03M 0s\n",
            "   850K .......... .......... .......... .......... .......... 50%  148M 0s\n",
            "   900K .......... .......... .......... .......... .......... 53%  253M 0s\n",
            "   950K .......... .......... .......... .......... .......... 56%  251M 0s\n",
            "  1000K .......... .......... .......... .......... .......... 59%  199M 0s\n",
            "  1050K .......... .......... .......... .......... .......... 62%  217M 0s\n",
            "  1100K .......... .......... .......... .......... .......... 65%  239M 0s\n",
            "  1150K .......... .......... .......... .......... .......... 67%  247M 0s\n",
            "  1200K .......... .......... .......... .......... .......... 70%  208M 0s\n",
            "  1250K .......... .......... .......... .......... .......... 73%  229M 0s\n",
            "  1300K .......... .......... .......... .......... .......... 76%  214M 0s\n",
            "  1350K .......... .......... .......... .......... .......... 79%  248M 0s\n",
            "  1400K .......... .......... .......... .......... .......... 82%  214M 0s\n",
            "  1450K .......... .......... .......... .......... .......... 84%  238M 0s\n",
            "  1500K .......... .......... .......... .......... .......... 87%  247M 0s\n",
            "  1550K .......... .......... .......... .......... .......... 90%  224M 0s\n",
            "  1600K .......... .......... .......... .......... .......... 93%  212M 0s\n",
            "  1650K .......... .......... .......... .......... .......... 96% 1.10M 0s\n",
            "  1700K .......... .......... .......... .......... .......... 99%  395M 0s\n",
            "  1750K .......... .......                                    100%  225M=0.3s\n",
            "\n",
            "2021-05-21 22:11:46 (4.98 MB/s) - ‘/content/ChronicDiseases_byRace.zip’ saved [1810023/1810023]\n",
            "\n"
          ],
          "name": "stderr"
        }
      ]
    },
    {
      "cell_type": "markdown",
      "metadata": {
        "id": "gzqF-HVnTs-m"
      },
      "source": [
        "## Step 2: Unzip the file"
      ]
    },
    {
      "cell_type": "markdown",
      "metadata": {
        "id": "mSLgSOwIjFSR"
      },
      "source": [
        "Create the script to unzip the file"
      ]
    },
    {
      "cell_type": "code",
      "metadata": {
        "id": "tJdYkcrlHVCp"
      },
      "source": [
        "%%bash\n",
        "{   \n",
        " echo 'unzip -o /content/ChronicDiseases_byRace.zip -d \"/content/\"'\n",
        " } > Unzip_ChronicDiseaseData.sh"
      ],
      "execution_count": 183,
      "outputs": []
    },
    {
      "cell_type": "markdown",
      "metadata": {
        "id": "E9w3o9jcjKY_"
      },
      "source": [
        "Run the script to unzip the file"
      ]
    },
    {
      "cell_type": "code",
      "metadata": {
        "id": "_KFsjvhoT9wc",
        "colab": {
          "base_uri": "https://localhost:8080/"
        },
        "outputId": "2bd52a3b-7a3a-458b-f850-1e18a0a698f2"
      },
      "source": [
        "%%bash\n",
        "bash Unzip_ChronicDiseaseData.sh"
      ],
      "execution_count": 184,
      "outputs": [
        {
          "output_type": "stream",
          "text": [
            "Archive:  /content/ChronicDiseases_byRace.zip\n",
            "  inflating: /content/Population Report 2018 June 2020 - County.txt  \n",
            "  inflating: /content/Population Report 2018 June 2020 - State.txt  \n",
            "  inflating: /content/Population Report 2018 June 2020.xlsx  \n"
          ],
          "name": "stdout"
        }
      ]
    },
    {
      "cell_type": "code",
      "metadata": {
        "colab": {
          "base_uri": "https://localhost:8080/"
        },
        "id": "70yzip9Y5h8e",
        "outputId": "2188dc79-dc77-4a00-f72f-69c5ecebd44b"
      },
      "source": [
        "#View the contents of the file\n",
        "!head -15 '/content/Population Report 2018 June 2020 - County.txt'"
      ],
      "execution_count": 185,
      "outputs": [
        {
          "output_type": "stream",
          "text": [
            "2018 U.S. County-level Medicare Prevalence Rates (Percent of Population) of Chronic Conditions among Racial and Ethnic Groups \t\t\t\t\t\t\t\t\t\t\t\t\t\t\t\t\t\t\r\n",
            "\t\t\t\t\t\t\t\t\t\t\t\t\t\t\t\t\t\t\r\n",
            "Note:\t\t\t\t\t\t\t\t\t\t\t\t\t\t\t\t\t\t\r\n",
            "[1] Color coding for quick identification of the race/ethnicity group with the highest prevalence rate in a county. Each race/ethnicity group has its own unique color. \t\t\t\t\t\t\t\t\t\t\t\t\t\t\t\t\t\t\r\n",
            "\"[2] Use filters to select specific county, state, condition, and urban/rural location.\"\t\t\t\t\t\t\t\t\t\t\t\t\t\t\t\t\t\t\r\n",
            "[3] Source: 2018 Medicare Beneficiary Summary File.\t\t\t\t\t\t\t\t\t\t\t\t\t\t\t\t\t\t\r\n",
            "\"[4] For measure definition and methodology, please see the Mapping Medicare Disparities Technical Documentation at:\"\t\t\t\t\t\t\t\t\t\t\t\t\t\t\t\t\t\t\r\n",
            "https://www.cms.gov/About-CMS/Agency-Information/OMH/Downloads/Mapping-Technical-Documentation.pdf\t\t\t\t\t\t\t\t\t\t\t\t\t\t\t\t\t\t\r\n",
            "\t\t\t\t\t\t\t\t\t\t\t\t\t\t\t\t\t\t\r\n",
            "*Insufficient Data\t\t\t\t\t\t\t\t\t\t\t\t\t\t\t\t\t\t\r\n",
            "FIPS\tCounty\tState\tCondition\tUrban/Rural\tTotal\tTotal No. of Beneficiaries\tWhite\tNo. of Beneficiaries Who are White\tBlack\tNo. of Beneficiaries Who are Black\tAsian/Pacific Islander\tNo. of Beneficiaries Who are Asian/Pacific Islander\tHispanic\tNo. of Beneficiaries Who are Hispanic\tAmerican Indian/Alaska Native\tNo. of Beneficiaries Who are American Indian/Alaska Native\tOther\tNo. of Beneficiaries Who are in Other Ethic Groups\r\n",
            "01001\tAUTAUGA\tAL\tChronic Kidney Disease\tUrban\t26\t\"[1,000-4,999]\"\t25\t\"[1,000-4,999]\"\t32\t[500-999]\t25\t[11-499]\t24\t[11-499]\t*\t*\t0\t[11-499]\r\n",
            "01003\tBALDWIN\tAL\tChronic Kidney Disease\tRural\t23\t\"[10,000+]\"\t22\t\"[10,000+]\"\t30\t\"[1,000-4,999]\"\t19\t[11-499]\t19\t[11-499]\t21\t[11-499]\t18\t[11-499]\r\n",
            "01005\tBARBOUR\tAL\tChronic Kidney Disease\tRural\t30\t\"[1,000-4,999]\"\t26\t\"[1,000-4,999]\"\t37\t[500-999]\t*\t*\t*\t*\t*\t*\t*\t*\r\n",
            "01007\tBIBB\tAL\tChronic Kidney Disease\tUrban\t32\t\"[1,000-4,999]\"\t31\t\"[1,000-4,999]\"\t35\t[11-499]\t*\t*\t*\t*\t*\t*\t*\t*\r\n"
          ],
          "name": "stdout"
        }
      ]
    },
    {
      "cell_type": "markdown",
      "metadata": {
        "id": "u8cLg1aAOqua"
      },
      "source": [
        "### Step 3: Remove all the header information from the file"
      ]
    },
    {
      "cell_type": "code",
      "metadata": {
        "id": "-t3eNS5Ajxgj"
      },
      "source": [
        "%%bash\n",
        "sed -i -e 1,10d '/content/Population Report 2018 June 2020 - County.txt'"
      ],
      "execution_count": 186,
      "outputs": []
    },
    {
      "cell_type": "code",
      "metadata": {
        "colab": {
          "base_uri": "https://localhost:8080/"
        },
        "id": "8mvitKPBUGQN",
        "outputId": "b7920a25-3e2e-45e0-f57f-b420fc013ffa"
      },
      "source": [
        "#View the contents of the file\n",
        "!head '/content/Population Report 2018 June 2020 - County.txt'"
      ],
      "execution_count": 187,
      "outputs": [
        {
          "output_type": "stream",
          "text": [
            "FIPS\tCounty\tState\tCondition\tUrban/Rural\tTotal\tTotal No. of Beneficiaries\tWhite\tNo. of Beneficiaries Who are White\tBlack\tNo. of Beneficiaries Who are Black\tAsian/Pacific Islander\tNo. of Beneficiaries Who are Asian/Pacific Islander\tHispanic\tNo. of Beneficiaries Who are Hispanic\tAmerican Indian/Alaska Native\tNo. of Beneficiaries Who are American Indian/Alaska Native\tOther\tNo. of Beneficiaries Who are in Other Ethic Groups\r\n",
            "01001\tAUTAUGA\tAL\tChronic Kidney Disease\tUrban\t26\t\"[1,000-4,999]\"\t25\t\"[1,000-4,999]\"\t32\t[500-999]\t25\t[11-499]\t24\t[11-499]\t*\t*\t0\t[11-499]\r\n",
            "01003\tBALDWIN\tAL\tChronic Kidney Disease\tRural\t23\t\"[10,000+]\"\t22\t\"[10,000+]\"\t30\t\"[1,000-4,999]\"\t19\t[11-499]\t19\t[11-499]\t21\t[11-499]\t18\t[11-499]\r\n",
            "01005\tBARBOUR\tAL\tChronic Kidney Disease\tRural\t30\t\"[1,000-4,999]\"\t26\t\"[1,000-4,999]\"\t37\t[500-999]\t*\t*\t*\t*\t*\t*\t*\t*\r\n",
            "01007\tBIBB\tAL\tChronic Kidney Disease\tUrban\t32\t\"[1,000-4,999]\"\t31\t\"[1,000-4,999]\"\t35\t[11-499]\t*\t*\t*\t*\t*\t*\t*\t*\r\n",
            "01009\tBLOUNT\tAL\tChronic Kidney Disease\tUrban\t25\t\"[1,000-4,999]\"\t25\t\"[1,000-4,999]\"\t21\t[11-499]\t*\t*\t29\t[11-499]\t*\t*\t25\t[11-499]\r\n",
            "01011\tBULLOCK\tAL\tChronic Kidney Disease\tRural\t29\t[500-999]\t29\t[11-499]\t30\t[11-499]\t*\t*\t*\t*\t*\t*\t*\t*\r\n",
            "01013\tBUTLER\tAL\tChronic Kidney Disease\tRural\t27\t\"[1,000-4,999]\"\t25\t\"[1,000-4,999]\"\t30\t\"[1,000-4,999]\"\t*\t*\t*\t*\t*\t*\t*\t*\r\n",
            "01015\tCALHOUN\tAL\tChronic Kidney Disease\tUrban\t29\t\"[10,000+]\"\t28\t\"[10,000+]\"\t35\t\"[1,000-4,999]\"\t27\t[11-499]\t24\t[11-499]\t*\t*\t25\t[11-499]\r\n",
            "01017\tCHAMBERS\tAL\tChronic Kidney Disease\tRural\t28\t\"[5,000-9,999]\"\t26\t\"[1,000-4,999]\"\t33\t\"[1,000-4,999]\"\t*\t*\t33\t[11-499]\t*\t*\t23\t[11-499]\r\n"
          ],
          "name": "stdout"
        }
      ]
    },
    {
      "cell_type": "markdown",
      "metadata": {
        "id": "ArOxpTIlzNfZ"
      },
      "source": [
        "### Step 4: Replace all * Characters with NaN"
      ]
    },
    {
      "cell_type": "code",
      "metadata": {
        "id": "m7Y-CHCzzJhg"
      },
      "source": [
        "%%bash\n",
        "sed -i 's/*/NaN/g' '/content/Population Report 2018 June 2020 - County.txt'"
      ],
      "execution_count": 188,
      "outputs": []
    },
    {
      "cell_type": "code",
      "metadata": {
        "colab": {
          "base_uri": "https://localhost:8080/"
        },
        "id": "yg1jBP2mzlAR",
        "outputId": "821fa219-0eaf-4e90-b645-407eb75fe89a"
      },
      "source": [
        "#View the contents in the content folder\n",
        "!head '/content/Population Report 2018 June 2020 - County.txt'"
      ],
      "execution_count": 189,
      "outputs": [
        {
          "output_type": "stream",
          "text": [
            "FIPS\tCounty\tState\tCondition\tUrban/Rural\tTotal\tTotal No. of Beneficiaries\tWhite\tNo. of Beneficiaries Who are White\tBlack\tNo. of Beneficiaries Who are Black\tAsian/Pacific Islander\tNo. of Beneficiaries Who are Asian/Pacific Islander\tHispanic\tNo. of Beneficiaries Who are Hispanic\tAmerican Indian/Alaska Native\tNo. of Beneficiaries Who are American Indian/Alaska Native\tOther\tNo. of Beneficiaries Who are in Other Ethic Groups\r\n",
            "01001\tAUTAUGA\tAL\tChronic Kidney Disease\tUrban\t26\t\"[1,000-4,999]\"\t25\t\"[1,000-4,999]\"\t32\t[500-999]\t25\t[11-499]\t24\t[11-499]\tNaN\tNaN\t0\t[11-499]\r\n",
            "01003\tBALDWIN\tAL\tChronic Kidney Disease\tRural\t23\t\"[10,000+]\"\t22\t\"[10,000+]\"\t30\t\"[1,000-4,999]\"\t19\t[11-499]\t19\t[11-499]\t21\t[11-499]\t18\t[11-499]\r\n",
            "01005\tBARBOUR\tAL\tChronic Kidney Disease\tRural\t30\t\"[1,000-4,999]\"\t26\t\"[1,000-4,999]\"\t37\t[500-999]\tNaN\tNaN\tNaN\tNaN\tNaN\tNaN\tNaN\tNaN\r\n",
            "01007\tBIBB\tAL\tChronic Kidney Disease\tUrban\t32\t\"[1,000-4,999]\"\t31\t\"[1,000-4,999]\"\t35\t[11-499]\tNaN\tNaN\tNaN\tNaN\tNaN\tNaN\tNaN\tNaN\r\n",
            "01009\tBLOUNT\tAL\tChronic Kidney Disease\tUrban\t25\t\"[1,000-4,999]\"\t25\t\"[1,000-4,999]\"\t21\t[11-499]\tNaN\tNaN\t29\t[11-499]\tNaN\tNaN\t25\t[11-499]\r\n",
            "01011\tBULLOCK\tAL\tChronic Kidney Disease\tRural\t29\t[500-999]\t29\t[11-499]\t30\t[11-499]\tNaN\tNaN\tNaN\tNaN\tNaN\tNaN\tNaN\tNaN\r\n",
            "01013\tBUTLER\tAL\tChronic Kidney Disease\tRural\t27\t\"[1,000-4,999]\"\t25\t\"[1,000-4,999]\"\t30\t\"[1,000-4,999]\"\tNaN\tNaN\tNaN\tNaN\tNaN\tNaN\tNaN\tNaN\r\n",
            "01015\tCALHOUN\tAL\tChronic Kidney Disease\tUrban\t29\t\"[10,000+]\"\t28\t\"[10,000+]\"\t35\t\"[1,000-4,999]\"\t27\t[11-499]\t24\t[11-499]\tNaN\tNaN\t25\t[11-499]\r\n",
            "01017\tCHAMBERS\tAL\tChronic Kidney Disease\tRural\t28\t\"[5,000-9,999]\"\t26\t\"[1,000-4,999]\"\t33\t\"[1,000-4,999]\"\tNaN\tNaN\t33\t[11-499]\tNaN\tNaN\t23\t[11-499]\r\n"
          ],
          "name": "stdout"
        }
      ]
    },
    {
      "cell_type": "markdown",
      "metadata": {
        "id": "FwWTGhmqOzOI"
      },
      "source": [
        "## Step 5: Getting only Counties in MN or WI"
      ]
    },
    {
      "cell_type": "code",
      "metadata": {
        "id": "FLPPWmwMuEsa"
      },
      "source": [
        "%%bash\n",
        " grep -E \"^FIPS|^27|^55\" '/content/Population Report 2018 June 2020 - County.txt' > '/content/Population Report 2018 June 2020 - County MN and WI.txt'"
      ],
      "execution_count": 190,
      "outputs": []
    },
    {
      "cell_type": "code",
      "metadata": {
        "colab": {
          "base_uri": "https://localhost:8080/"
        },
        "id": "qaW0gCSLpWU5",
        "outputId": "f9146b67-5cbe-465d-dff5-1917f15d0960"
      },
      "source": [
        "#View the contents of the file\n",
        "!head '/content/Population Report 2018 June 2020 - County MN and WI.txt'"
      ],
      "execution_count": 191,
      "outputs": [
        {
          "output_type": "stream",
          "text": [
            "FIPS\tCounty\tState\tCondition\tUrban/Rural\tTotal\tTotal No. of Beneficiaries\tWhite\tNo. of Beneficiaries Who are White\tBlack\tNo. of Beneficiaries Who are Black\tAsian/Pacific Islander\tNo. of Beneficiaries Who are Asian/Pacific Islander\tHispanic\tNo. of Beneficiaries Who are Hispanic\tAmerican Indian/Alaska Native\tNo. of Beneficiaries Who are American Indian/Alaska Native\tOther\tNo. of Beneficiaries Who are in Other Ethic Groups\r\n",
            "27001\tAITKIN\tMN\tChronic Kidney Disease\tRural\t18\t\"[1,000-4,999]\"\t18\t\"[1,000-4,999]\"\tNaN\tNaN\tNaN\tNaN\tNaN\tNaN\t11\t[11-499]\tNaN\tNaN\r\n",
            "27003\tANOKA\tMN\tChronic Kidney Disease\tUrban\t24\t\"[10,000+]\"\t23\t\"[10,000+]\"\t29\t[500-999]\t22\t[11-499]\t25\t[11-499]\t35\t[11-499]\t28\t[11-499]\r\n",
            "27005\tBECKER\tMN\tChronic Kidney Disease\tRural\t20\t\"[1,000-4,999]\"\t19\t\"[1,000-4,999]\"\t0\t[11-499]\tNaN\tNaN\tNaN\tNaN\t27\t[11-499]\t23\t[11-499]\r\n",
            "27007\tBELTRAMI\tMN\tChronic Kidney Disease\tRural\t25\t\"[1,000-4,999]\"\t24\t\"[1,000-4,999]\"\t23\t[11-499]\tNaN\tNaN\t32\t[11-499]\t33\t[500-999]\t28\t[11-499]\r\n",
            "27009\tBENTON\tMN\tChronic Kidney Disease\tUrban\t23\t\"[1,000-4,999]\"\t23\t\"[1,000-4,999]\"\t35\t[11-499]\t27\t[11-499]\t36\t[11-499]\tNaN\tNaN\tNaN\tNaN\r\n",
            "27011\tBIG STONE\tMN\tChronic Kidney Disease\tRural\t23\t[500-999]\t23\t[500-999]\tNaN\tNaN\tNaN\tNaN\tNaN\tNaN\tNaN\tNaN\tNaN\tNaN\r\n",
            "27013\tBLUE EARTH\tMN\tChronic Kidney Disease\tUrban\t23\t\"[1,000-4,999]\"\t23\t\"[1,000-4,999]\"\t29\t[11-499]\t18\t[11-499]\t23\t[11-499]\t29\t[11-499]\t31\t[11-499]\r\n",
            "27015\tBROWN\tMN\tChronic Kidney Disease\tRural\t25\t\"[1,000-4,999]\"\t25\t\"[1,000-4,999]\"\tNaN\tNaN\tNaN\tNaN\t29\t[11-499]\tNaN\tNaN\t31\t[11-499]\r\n",
            "27017\tCARLTON\tMN\tChronic Kidney Disease\tUrban\t22\t\"[1,000-4,999]\"\t21\t\"[1,000-4,999]\"\t0\t[11-499]\tNaN\tNaN\t23\t[11-499]\t34\t[11-499]\t15\t[11-499]\r\n"
          ],
          "name": "stdout"
        }
      ]
    },
    {
      "cell_type": "markdown",
      "metadata": {
        "id": "XOlxClvt0yAJ"
      },
      "source": [
        "\n",
        "\n",
        "---\n",
        "\n",
        "\n",
        "\n",
        "---\n",
        "\n",
        "\n",
        "\n",
        "---\n",
        "\n",
        "\n",
        "\n",
        "---\n",
        "\n"
      ]
    },
    {
      "cell_type": "markdown",
      "metadata": {
        "id": "gsfMzwMi52iO"
      },
      "source": [
        "### Import Data into Python"
      ]
    },
    {
      "cell_type": "code",
      "metadata": {
        "id": "zn5kVKnQ0yHo"
      },
      "source": [
        "#Load the pandas package\n",
        "import pandas as pd"
      ],
      "execution_count": 192,
      "outputs": []
    },
    {
      "cell_type": "code",
      "metadata": {
        "id": "WInti-vo02W4"
      },
      "source": [
        "#Use read_table to read in the tab delimited file into Python\n",
        "ChronicDisease = pd.read_table('/content/Population Report 2018 June 2020 - County MN and WI.txt', sep='\\t') "
      ],
      "execution_count": 193,
      "outputs": []
    },
    {
      "cell_type": "code",
      "metadata": {
        "colab": {
          "base_uri": "https://localhost:8080/",
          "height": 482
        },
        "id": "BTSbvhln1Xmq",
        "outputId": "72361b9e-0e0d-4ed5-d057-4c4b22201758"
      },
      "source": [
        "#Looking at first 5 records\n",
        "ChronicDisease.head(n=5)"
      ],
      "execution_count": 194,
      "outputs": [
        {
          "output_type": "execute_result",
          "data": {
            "text/html": [
              "<div>\n",
              "<style scoped>\n",
              "    .dataframe tbody tr th:only-of-type {\n",
              "        vertical-align: middle;\n",
              "    }\n",
              "\n",
              "    .dataframe tbody tr th {\n",
              "        vertical-align: top;\n",
              "    }\n",
              "\n",
              "    .dataframe thead th {\n",
              "        text-align: right;\n",
              "    }\n",
              "</style>\n",
              "<table border=\"1\" class=\"dataframe\">\n",
              "  <thead>\n",
              "    <tr style=\"text-align: right;\">\n",
              "      <th></th>\n",
              "      <th>FIPS</th>\n",
              "      <th>County</th>\n",
              "      <th>State</th>\n",
              "      <th>Condition</th>\n",
              "      <th>Urban/Rural</th>\n",
              "      <th>Total</th>\n",
              "      <th>Total No. of Beneficiaries</th>\n",
              "      <th>White</th>\n",
              "      <th>No. of Beneficiaries Who are White</th>\n",
              "      <th>Black</th>\n",
              "      <th>No. of Beneficiaries Who are Black</th>\n",
              "      <th>Asian/Pacific Islander</th>\n",
              "      <th>No. of Beneficiaries Who are Asian/Pacific Islander</th>\n",
              "      <th>Hispanic</th>\n",
              "      <th>No. of Beneficiaries Who are Hispanic</th>\n",
              "      <th>American Indian/Alaska Native</th>\n",
              "      <th>No. of Beneficiaries Who are American Indian/Alaska Native</th>\n",
              "      <th>Other</th>\n",
              "      <th>No. of Beneficiaries Who are in Other Ethic Groups</th>\n",
              "    </tr>\n",
              "  </thead>\n",
              "  <tbody>\n",
              "    <tr>\n",
              "      <th>0</th>\n",
              "      <td>27001</td>\n",
              "      <td>AITKIN</td>\n",
              "      <td>MN</td>\n",
              "      <td>Chronic Kidney Disease</td>\n",
              "      <td>Rural</td>\n",
              "      <td>18</td>\n",
              "      <td>[1,000-4,999]</td>\n",
              "      <td>18</td>\n",
              "      <td>[1,000-4,999]</td>\n",
              "      <td>NaN</td>\n",
              "      <td>NaN</td>\n",
              "      <td>NaN</td>\n",
              "      <td>NaN</td>\n",
              "      <td>NaN</td>\n",
              "      <td>NaN</td>\n",
              "      <td>11.0</td>\n",
              "      <td>[11-499]</td>\n",
              "      <td>NaN</td>\n",
              "      <td>NaN</td>\n",
              "    </tr>\n",
              "    <tr>\n",
              "      <th>1</th>\n",
              "      <td>27003</td>\n",
              "      <td>ANOKA</td>\n",
              "      <td>MN</td>\n",
              "      <td>Chronic Kidney Disease</td>\n",
              "      <td>Urban</td>\n",
              "      <td>24</td>\n",
              "      <td>[10,000+]</td>\n",
              "      <td>23</td>\n",
              "      <td>[10,000+]</td>\n",
              "      <td>29.0</td>\n",
              "      <td>[500-999]</td>\n",
              "      <td>22.0</td>\n",
              "      <td>[11-499]</td>\n",
              "      <td>25.0</td>\n",
              "      <td>[11-499]</td>\n",
              "      <td>35.0</td>\n",
              "      <td>[11-499]</td>\n",
              "      <td>28.0</td>\n",
              "      <td>[11-499]</td>\n",
              "    </tr>\n",
              "    <tr>\n",
              "      <th>2</th>\n",
              "      <td>27005</td>\n",
              "      <td>BECKER</td>\n",
              "      <td>MN</td>\n",
              "      <td>Chronic Kidney Disease</td>\n",
              "      <td>Rural</td>\n",
              "      <td>20</td>\n",
              "      <td>[1,000-4,999]</td>\n",
              "      <td>19</td>\n",
              "      <td>[1,000-4,999]</td>\n",
              "      <td>0.0</td>\n",
              "      <td>[11-499]</td>\n",
              "      <td>NaN</td>\n",
              "      <td>NaN</td>\n",
              "      <td>NaN</td>\n",
              "      <td>NaN</td>\n",
              "      <td>27.0</td>\n",
              "      <td>[11-499]</td>\n",
              "      <td>23.0</td>\n",
              "      <td>[11-499]</td>\n",
              "    </tr>\n",
              "    <tr>\n",
              "      <th>3</th>\n",
              "      <td>27007</td>\n",
              "      <td>BELTRAMI</td>\n",
              "      <td>MN</td>\n",
              "      <td>Chronic Kidney Disease</td>\n",
              "      <td>Rural</td>\n",
              "      <td>25</td>\n",
              "      <td>[1,000-4,999]</td>\n",
              "      <td>24</td>\n",
              "      <td>[1,000-4,999]</td>\n",
              "      <td>23.0</td>\n",
              "      <td>[11-499]</td>\n",
              "      <td>NaN</td>\n",
              "      <td>NaN</td>\n",
              "      <td>32.0</td>\n",
              "      <td>[11-499]</td>\n",
              "      <td>33.0</td>\n",
              "      <td>[500-999]</td>\n",
              "      <td>28.0</td>\n",
              "      <td>[11-499]</td>\n",
              "    </tr>\n",
              "    <tr>\n",
              "      <th>4</th>\n",
              "      <td>27009</td>\n",
              "      <td>BENTON</td>\n",
              "      <td>MN</td>\n",
              "      <td>Chronic Kidney Disease</td>\n",
              "      <td>Urban</td>\n",
              "      <td>23</td>\n",
              "      <td>[1,000-4,999]</td>\n",
              "      <td>23</td>\n",
              "      <td>[1,000-4,999]</td>\n",
              "      <td>35.0</td>\n",
              "      <td>[11-499]</td>\n",
              "      <td>27.0</td>\n",
              "      <td>[11-499]</td>\n",
              "      <td>36.0</td>\n",
              "      <td>[11-499]</td>\n",
              "      <td>NaN</td>\n",
              "      <td>NaN</td>\n",
              "      <td>NaN</td>\n",
              "      <td>NaN</td>\n",
              "    </tr>\n",
              "  </tbody>\n",
              "</table>\n",
              "</div>"
            ],
            "text/plain": [
              "    FIPS    County  ... Other No. of Beneficiaries Who are in Other Ethic Groups\n",
              "0  27001    AITKIN  ...   NaN                                                NaN\n",
              "1  27003     ANOKA  ...  28.0                                           [11-499]\n",
              "2  27005    BECKER  ...  23.0                                           [11-499]\n",
              "3  27007  BELTRAMI  ...  28.0                                           [11-499]\n",
              "4  27009    BENTON  ...   NaN                                                NaN\n",
              "\n",
              "[5 rows x 19 columns]"
            ]
          },
          "metadata": {
            "tags": []
          },
          "execution_count": 194
        }
      ]
    },
    {
      "cell_type": "markdown",
      "metadata": {
        "id": "CsJizOnM64xO"
      },
      "source": [
        "Next, install the dfply package using pip"
      ]
    },
    {
      "cell_type": "code",
      "metadata": {
        "colab": {
          "base_uri": "https://localhost:8080/"
        },
        "id": "PUp6UuNH2EHw",
        "outputId": "d9a95c9a-88a1-4f43-cdf6-45b2d7dec4ad"
      },
      "source": [
        "pip install dfply"
      ],
      "execution_count": 195,
      "outputs": [
        {
          "output_type": "stream",
          "text": [
            "Requirement already satisfied: dfply in /usr/local/lib/python3.7/dist-packages (0.3.3)\n",
            "Requirement already satisfied: pandas in /usr/local/lib/python3.7/dist-packages (from dfply) (1.1.5)\n",
            "Requirement already satisfied: numpy in /usr/local/lib/python3.7/dist-packages (from dfply) (1.19.5)\n",
            "Requirement already satisfied: pytz>=2017.2 in /usr/local/lib/python3.7/dist-packages (from pandas->dfply) (2018.9)\n",
            "Requirement already satisfied: python-dateutil>=2.7.3 in /usr/local/lib/python3.7/dist-packages (from pandas->dfply) (2.8.1)\n",
            "Requirement already satisfied: six>=1.5 in /usr/local/lib/python3.7/dist-packages (from python-dateutil>=2.7.3->pandas->dfply) (1.15.0)\n"
          ],
          "name": "stdout"
        }
      ]
    },
    {
      "cell_type": "code",
      "metadata": {
        "id": "SA3rn_0j2NRA"
      },
      "source": [
        "#Load the dfply package\n",
        "from dfply import *"
      ],
      "execution_count": 196,
      "outputs": []
    },
    {
      "cell_type": "markdown",
      "metadata": {
        "id": "gQsNzSRI6O_l"
      },
      "source": [
        "### Getting Simple Summaries for each Condition by State"
      ]
    },
    {
      "cell_type": "code",
      "metadata": {
        "colab": {
          "base_uri": "https://localhost:8080/"
        },
        "id": "ydkByRrH2Ea7",
        "outputId": "df253dae-9926-461a-b04c-1436c136ac73"
      },
      "source": [
        "##Using dfply to get groups, summarize, and split columns by State\n",
        "Outcomes = (\n",
        "        ChronicDisease \n",
        "        >> group_by(X.State, X.Condition)\n",
        "        >> summarize(Avg = X.Total.mean())\n",
        "        >> spread(X.State, X.Avg)\n",
        "        )\n",
        "\n",
        "#Use pretty print for outcomes\n",
        "print(Outcomes.round(1).to_string(index=False))"
      ],
      "execution_count": 197,
      "outputs": [
        {
          "output_type": "stream",
          "text": [
            "                             Condition    MN    WI\n",
            "                Chronic Kidney Disease  21.6  22.8\n",
            " Chronic Obstructive Pulmonary Disease   9.1   9.7\n",
            "              Congestive Heart Failure  13.0  13.3\n",
            "                              Diabetes  22.0  23.3\n",
            "                          Hypertension  44.6  48.9\n"
          ],
          "name": "stdout"
        }
      ]
    }
  ]
}